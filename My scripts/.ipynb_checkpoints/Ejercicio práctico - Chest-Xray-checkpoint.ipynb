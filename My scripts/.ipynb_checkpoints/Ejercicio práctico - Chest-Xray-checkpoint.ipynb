{
 "cells": [
  {
   "cell_type": "markdown",
   "metadata": {},
   "source": [
    "# Chest X-Ray classification"
   ]
  },
  {
   "cell_type": "code",
   "execution_count": 1,
   "metadata": {},
   "outputs": [],
   "source": [
    "import pandas as pd\n",
    "import numpy as np\n",
    "import matplotlib.pyplot as plt\n",
    "import os"
   ]
  },
  {
   "cell_type": "code",
   "execution_count": 2,
   "metadata": {},
   "outputs": [],
   "source": [
    "main_path = \"../datasets/chest_xray\""
   ]
  },
  {
   "cell_type": "code",
   "execution_count": 3,
   "metadata": {},
   "outputs": [
    {
     "data": {
      "text/plain": [
       "['.DS_Store', 'test', 'train', 'val']"
      ]
     },
     "execution_count": 3,
     "metadata": {},
     "output_type": "execute_result"
    }
   ],
   "source": [
    "os.listdir(main_path)"
   ]
  },
  {
   "cell_type": "code",
   "execution_count": 17,
   "metadata": {},
   "outputs": [],
   "source": [
    "test_images = []\n",
    "train_images = []\n",
    "val_images = []\n",
    "\n",
    "test_classes = []\n",
    "train_classes = []\n",
    "val_classes = []\n",
    "\n",
    "for directory in os.listdir(main_path): # test, train, val\n",
    "    if directory != \".DS_Store\":\n",
    "        for subdirectory in os.listdir(os.path.join(main_path, directory)): # NORMAL, PNEUMONIA\n",
    "            if subdirectory != \".DS_Store\":\n",
    "                class_path = os.path.join(main_path, directory, subdirectory)\n",
    "\n",
    "                for image in os.listdir(class_path):\n",
    "                    if image != \".DS_Store\":\n",
    "                        if directory == \"test\":\n",
    "                            test_images.append(image)\n",
    "                            if subdirectory == \"NORMAL\":\n",
    "                                test_classes.append(0)\n",
    "                            elif subdirectory == \"PNEUMONIA\":\n",
    "                                test_classes.append(1)\n",
    "                        elif directory == \"train\":\n",
    "                            train_images.append(image)\n",
    "                            if subdirectory == \"NORMAL\":\n",
    "                                train_classes.append(0)\n",
    "                            elif subdirectory == \"PNEUMONIA\":\n",
    "                                train_classes.append(1)\n",
    "                        elif directory == \"val\":\n",
    "                            val_images.append(image)\n",
    "                            if subdirectory == \"NORMAL\":\n",
    "                                val_classes.append(0)\n",
    "                            elif subdirectory == \"PNEUMONIA\":\n",
    "                                val_classes.append(1)"
   ]
  },
  {
   "cell_type": "code",
   "execution_count": 18,
   "metadata": {},
   "outputs": [
    {
     "data": {
      "text/plain": [
       "(624, 624)"
      ]
     },
     "execution_count": 18,
     "metadata": {},
     "output_type": "execute_result"
    }
   ],
   "source": [
    "len(test_images), len(test_classes)"
   ]
  },
  {
   "cell_type": "code",
   "execution_count": 19,
   "metadata": {},
   "outputs": [
    {
     "data": {
      "text/plain": [
       "(5216, 5216)"
      ]
     },
     "execution_count": 19,
     "metadata": {},
     "output_type": "execute_result"
    }
   ],
   "source": [
    "len(train_images), len(train_classes)"
   ]
  },
  {
   "cell_type": "code",
   "execution_count": 20,
   "metadata": {},
   "outputs": [
    {
     "data": {
      "text/plain": [
       "(16, 16)"
      ]
     },
     "execution_count": 20,
     "metadata": {},
     "output_type": "execute_result"
    }
   ],
   "source": [
    "len(val_images), len(val_classes)"
   ]
  },
  {
   "cell_type": "code",
   "execution_count": null,
   "metadata": {},
   "outputs": [],
   "source": []
  }
 ],
 "metadata": {
  "kernelspec": {
   "display_name": "Python 3",
   "language": "python",
   "name": "python3"
  },
  "language_info": {
   "codemirror_mode": {
    "name": "ipython",
    "version": 3
   },
   "file_extension": ".py",
   "mimetype": "text/x-python",
   "name": "python",
   "nbconvert_exporter": "python",
   "pygments_lexer": "ipython3",
   "version": "3.6.8"
  }
 },
 "nbformat": 4,
 "nbformat_minor": 2
}
