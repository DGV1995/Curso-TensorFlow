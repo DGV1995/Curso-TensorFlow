{
 "cells": [
  {
   "cell_type": "markdown",
   "metadata": {},
   "source": [
    "# Standford dogs dataset"
   ]
  },
  {
   "cell_type": "code",
   "execution_count": 1,
   "metadata": {},
   "outputs": [
    {
     "name": "stderr",
     "output_type": "stream",
     "text": [
      "Using TensorFlow backend.\n"
     ]
    }
   ],
   "source": [
    "import pandas as pd \n",
    "import numpy as np\n",
    "import matplotlib.pyplot as plt\n",
    "from sklearn.model_selection import train_test_split\n",
    "import os\n",
    "import re\n",
    "from keras.utils import to_categorical\n",
    "from skimage import transform\n",
    "import cv2"
   ]
  },
  {
   "cell_type": "code",
   "execution_count": 2,
   "metadata": {},
   "outputs": [],
   "source": [
    "images_dir = \"../datasets/stanford-dogs-dataset/images\""
   ]
  },
  {
   "cell_type": "code",
   "execution_count": 3,
   "metadata": {},
   "outputs": [
    {
     "data": {
      "text/plain": [
       "['n02097658_26.jpg',\n",
       " 'n02097658_4869.jpg',\n",
       " 'n02097658_595.jpg',\n",
       " 'n02097658_9222.jpg',\n",
       " 'n02097658_422.jpg',\n",
       " 'n02097658_1326.jpg',\n",
       " 'n02097658_7970.jpg',\n",
       " 'n02097658_10567.jpg',\n",
       " 'n02097658_1469.jpg',\n",
       " 'n02097658_1086.jpg',\n",
       " 'n02097658_1910.jpg',\n",
       " 'n02097658_5223.jpg',\n",
       " 'n02097658_2766.jpg',\n",
       " 'n02097658_3693.jpg',\n",
       " 'n02097658_10997.jpg',\n",
       " 'n02097658_10559.jpg',\n",
       " 'n02097658_11242.jpg',\n",
       " 'n02097658_3484.jpg',\n",
       " 'n02097658_7619.jpg',\n",
       " 'n02097658_4890.jpg',\n",
       " 'n02097658_1917.jpg',\n",
       " 'n02097658_4728.jpg',\n",
       " 'n02097658_1693.jpg',\n",
       " 'n02097658_2173.jpg',\n",
       " 'n02097658_11118.jpg',\n",
       " 'n02097658_6300.jpg',\n",
       " 'n02097658_633.jpg',\n",
       " 'n02097658_141.jpg',\n",
       " 'n02097658_1137.jpg',\n",
       " 'n02097658_237.jpg',\n",
       " 'n02097658_2012.jpg',\n",
       " 'n02097658_6289.jpg',\n",
       " 'n02097658_427.jpg',\n",
       " 'n02097658_6672.jpg',\n",
       " 'n02097658_1690.jpg',\n",
       " 'n02097658_7785.jpg',\n",
       " 'n02097658_816.jpg',\n",
       " 'n02097658_2824.jpg',\n",
       " 'n02097658_5420.jpg',\n",
       " 'n02097658_552.jpg',\n",
       " 'n02097658_7425.jpg',\n",
       " 'n02097658_10854.jpg',\n",
       " 'n02097658_6.jpg',\n",
       " 'n02097658_4201.jpg',\n",
       " 'n02097658_9043.jpg',\n",
       " 'n02097658_642.jpg',\n",
       " 'n02097658_10289.jpg',\n",
       " 'n02097658_2665.jpg',\n",
       " 'n02097658_2117.jpg',\n",
       " 'n02097658_2329.jpg',\n",
       " 'n02097658_1797.jpg',\n",
       " 'n02097658_3396.jpg',\n",
       " 'n02097658_11020.jpg',\n",
       " 'n02097658_9136.jpg',\n",
       " 'n02097658_46.jpg',\n",
       " 'n02097658_1018.jpg',\n",
       " 'n02097658_2882.jpg',\n",
       " 'n02097658_641.jpg',\n",
       " 'n02097658_2114.jpg',\n",
       " 'n02097658_9727.jpg',\n",
       " 'n02097658_319.jpg',\n",
       " 'n02097658_292.jpg',\n",
       " 'n02097658_11235.jpg',\n",
       " 'n02097658_3140.jpg',\n",
       " 'n02097658_8767.jpg',\n",
       " 'n02097658_1227.jpg',\n",
       " 'n02097658_2048.jpg',\n",
       " 'n02097658_4363.jpg',\n",
       " 'n02097658_6202.jpg',\n",
       " 'n02097658_2919.jpg',\n",
       " 'n02097658_5535.jpg',\n",
       " 'n02097658_6014.jpg',\n",
       " 'n02097658_9327.jpg',\n",
       " 'n02097658_5643.jpg',\n",
       " 'n02097658_9723.jpg',\n",
       " 'n02097658_1356.jpg',\n",
       " 'n02097658_1154.jpg',\n",
       " 'n02097658_4992.jpg',\n",
       " 'n02097658_7445.jpg',\n",
       " 'n02097658_3345.jpg',\n",
       " 'n02097658_4402.jpg',\n",
       " 'n02097658_9330.jpg',\n",
       " 'n02097658_6017.jpg',\n",
       " 'n02097658_2271.jpg',\n",
       " 'n02097658_1793.jpg',\n",
       " 'n02097658_6605.jpg',\n",
       " 'n02097658_646.jpg',\n",
       " 'n02097658_4952.jpg',\n",
       " 'n02097658_727.jpg',\n",
       " 'n02097658_3407.jpg',\n",
       " 'n02097658_3639.jpg',\n",
       " 'n02097658_9300.jpg',\n",
       " 'n02097658_4778.jpg',\n",
       " 'n02097658_6351.jpg',\n",
       " 'n02097658_11363.jpg',\n",
       " 'n02097658_1198.jpg',\n",
       " 'n02097658_8619.jpg',\n",
       " 'n02097658_1013.jpg',\n",
       " 'n02097658_2054.jpg',\n",
       " 'n02097658_1039.jpg',\n",
       " 'n02097658_271.jpg',\n",
       " 'n02097658_7474.jpg',\n",
       " 'n02097658_98.jpg',\n",
       " 'n02097658_3571.jpg',\n",
       " 'n02097658_1616.jpg',\n",
       " 'n02097658_1789.jpg',\n",
       " 'n02097658_2069.jpg',\n",
       " 'n02097658_2041.jpg',\n",
       " 'n02097658_7893.jpg',\n",
       " 'n02097658_4420.jpg',\n",
       " 'n02097658_2051.jpg',\n",
       " 'n02097658_2535.jpg',\n",
       " 'n02097658_8018.jpg',\n",
       " 'n02097658_10654.jpg',\n",
       " 'n02097658_6784.jpg',\n",
       " 'n02097658_3207.jpg',\n",
       " 'n02097658_6357.jpg',\n",
       " 'n02097658_857.jpg',\n",
       " 'n02097658_8409.jpg',\n",
       " 'n02097658_329.jpg',\n",
       " 'n02097658_8780.jpg',\n",
       " 'n02097658_1997.jpg',\n",
       " 'n02097658_5273.jpg',\n",
       " 'n02097658_2087.jpg',\n",
       " 'n02097658_1567.jpg',\n",
       " 'n02097658_6546.jpg',\n",
       " 'n02097658_277.jpg',\n",
       " 'n02097658_1163.jpg',\n",
       " 'n02097658_2330.jpg',\n",
       " 'n02097658_3947.jpg',\n",
       " 'n02097658_129.jpg',\n",
       " 'n02097658_4231.jpg',\n",
       " 'n02097658_2523.jpg',\n",
       " 'n02097658_5728.jpg',\n",
       " 'n02097658_6044.jpg',\n",
       " 'n02097658_1065.jpg',\n",
       " 'n02097658_8653.jpg',\n",
       " 'n02097658_8690.jpg',\n",
       " 'n02097658_8323.jpg',\n",
       " 'n02097658_1307.jpg',\n",
       " 'n02097658_2182.jpg',\n",
       " 'n02097658_953.jpg',\n",
       " 'n02097658_2035.jpg',\n",
       " 'n02097658_1270.jpg',\n",
       " 'n02097658_1516.jpg',\n",
       " 'n02097658_3117.jpg',\n",
       " 'n02097658_8095.jpg',\n",
       " 'n02097658_1112.jpg',\n",
       " 'n02097658_366.jpg',\n",
       " 'n02097658_414.jpg',\n",
       " 'n02097658_1106.jpg',\n",
       " 'n02097658_10020.jpg',\n",
       " 'n02097658_4081.jpg',\n",
       " 'n02097658_2143.jpg',\n",
       " 'n02097658_171.jpg',\n",
       " 'n02097658_9017.jpg',\n",
       " 'n02097658_6867.jpg',\n",
       " 'n02097658_1098.jpg',\n",
       " 'n02097658_9407.jpg',\n",
       " 'n02097658_950.jpg',\n",
       " 'n02097658_1503.jpg',\n",
       " 'n02097658_2022.jpg',\n",
       " 'n02097658_7162.jpg',\n",
       " 'n02097658_983.jpg',\n",
       " 'n02097658_8053.jpg',\n",
       " 'n02097658_2224.jpg',\n",
       " 'n02097658_6678.jpg',\n",
       " 'n02097658_11313.jpg',\n",
       " 'n02097658_1473.jpg',\n",
       " 'n02097658_955.jpg',\n",
       " 'n02097658_758.jpg',\n",
       " 'n02097658_980.jpg',\n",
       " 'n02097658_214.jpg',\n",
       " 'n02097658_5548.jpg',\n",
       " 'n02097658_1100.jpg',\n",
       " 'n02097658_188.jpg',\n",
       " 'n02097658_9978.jpg',\n",
       " 'n02097658_9987.jpg',\n",
       " 'n02097658_611.jpg',\n",
       " 'n02097658_1868.jpg',\n",
       " 'n02097658_349.jpg',\n",
       " 'n02097658_6726.jpg',\n",
       " 'n02097658_942.jpg']"
      ]
     },
     "execution_count": 3,
     "metadata": {},
     "output_type": "execute_result"
    }
   ],
   "source": [
    "os.listdir(os.path.join(images_dir, os.listdir(images_dir)[0]))"
   ]
  },
  {
   "cell_type": "code",
   "execution_count": 4,
   "metadata": {},
   "outputs": [],
   "source": [
    "classes = []\n",
    "images = []\n",
    "\n",
    "for directory in os.listdir(images_dir):\n",
    "    if directory != \".DS_Store\":\n",
    "        dog_class = \"\".join(directory.split(\"-\")[1:])\n",
    "        dog_class = re.sub(pattern=r'[_-]', repl=\" \", string=dog_class)\n",
    "        dog_class = dog_class.lower()\n",
    "\n",
    "        for image in os.listdir(os.path.join(images_dir, directory)):\n",
    "            images.append(os.path.join(images_dir, directory, image))\n",
    "            classes.append(dog_class)"
   ]
  },
  {
   "cell_type": "code",
   "execution_count": 5,
   "metadata": {},
   "outputs": [
    {
     "data": {
      "text/plain": [
       "(20580, 20580)"
      ]
     },
     "execution_count": 5,
     "metadata": {},
     "output_type": "execute_result"
    }
   ],
   "source": [
    "len(classes), len(images)"
   ]
  },
  {
   "cell_type": "code",
   "execution_count": null,
   "metadata": {},
   "outputs": [],
   "source": [
    "data = pd.DataFrame()\n",
    "data[\"image\"] = [cv2.imread(x) for x in images]\n",
    "data[\"class\"] = classes\n",
    "data.head()"
   ]
  },
  {
   "cell_type": "code",
   "execution_count": 20,
   "metadata": {},
   "outputs": [],
   "source": [
    "data.to_csv(\"../datasets/stanford-dogs-dataset/standford-dogs.csv\")"
   ]
  },
  {
   "cell_type": "code",
   "execution_count": null,
   "metadata": {},
   "outputs": [],
   "source": [
    "plt.imshow(data[\"image\"][0])"
   ]
  },
  {
   "cell_type": "code",
   "execution_count": 72,
   "metadata": {},
   "outputs": [
    {
     "name": "stdout",
     "output_type": "stream",
     "text": [
      "Max dimension: 2562x3264\n",
      "Min dimension: 100x97\n"
     ]
    }
   ],
   "source": [
    "max_width = 0\n",
    "max_height = 0\n",
    "\n",
    "min_width = 99999\n",
    "min_height = 99999\n",
    "\n",
    "for image in data[\"image\"]:\n",
    "    if image.shape[0] < min_height:\n",
    "        min_height = image.shape[0]\n",
    "    if image.shape[1] < min_width:\n",
    "        min_width = image.shape[1]\n",
    "    if image.shape[0] > max_height:\n",
    "        max_height = image.shape[0]\n",
    "    if image.shape[1] > max_width:\n",
    "        max_width = image.shape[1]\n",
    "        \n",
    "print(\"Max dimension: {}x{}\".format(max_height, max_width))\n",
    "print(\"Min dimension: {}x{}\".format(min_height, min_width))"
   ]
  },
  {
   "cell_type": "code",
   "execution_count": 21,
   "metadata": {},
   "outputs": [
    {
     "data": {
      "text/plain": [
       "((20580,), (20580,))"
      ]
     },
     "execution_count": 21,
     "metadata": {},
     "output_type": "execute_result"
    }
   ],
   "source": [
    "x_data = data[\"image\"]\n",
    "target = np.array(data[\"class\"])\n",
    "\n",
    "x_data.shape, target.shape"
   ]
  },
  {
   "cell_type": "code",
   "execution_count": 22,
   "metadata": {},
   "outputs": [],
   "source": [
    "x_train, x_test, y_train, y_test = train_test_split(x_data, target, test_size=0.2, random_state=101)"
   ]
  },
  {
   "cell_type": "code",
   "execution_count": null,
   "metadata": {},
   "outputs": [],
   "source": [
    "x_train = np.array([cv2.resize(x, (100,100)) for x in x_train])\n",
    "x_test = np.array([cv2.resize(x, (100,100)) for x in x_test])"
   ]
  },
  {
   "cell_type": "code",
   "execution_count": null,
   "metadata": {},
   "outputs": [],
   "source": [
    "plt.imshow(x_train[0])"
   ]
  },
  {
   "cell_type": "code",
   "execution_count": null,
   "metadata": {},
   "outputs": [],
   "source": [
    "x_train.shape, x_test.shape"
   ]
  },
  {
   "cell_type": "code",
   "execution_count": null,
   "metadata": {},
   "outputs": [],
   "source": [
    "y_train = np.array(y_train)\n",
    "y_test = np.array(y_test)"
   ]
  },
  {
   "cell_type": "code",
   "execution_count": null,
   "metadata": {},
   "outputs": [],
   "source": []
  }
 ],
 "metadata": {
  "kernelspec": {
   "display_name": "Python 3",
   "language": "python",
   "name": "python3"
  },
  "language_info": {
   "codemirror_mode": {
    "name": "ipython",
    "version": 3
   },
   "file_extension": ".py",
   "mimetype": "text/x-python",
   "name": "python",
   "nbconvert_exporter": "python",
   "pygments_lexer": "ipython3",
   "version": "3.6.8"
  }
 },
 "nbformat": 4,
 "nbformat_minor": 2
}
