{
 "cells": [
  {
   "cell_type": "markdown",
   "metadata": {},
   "source": [
    "# Señales de tráfico en Bélgica"
   ]
  },
  {
   "cell_type": "code",
   "execution_count": 1,
   "metadata": {},
   "outputs": [
    {
     "name": "stderr",
     "output_type": "stream",
     "text": [
      "/anaconda3/lib/python3.6/importlib/_bootstrap.py:219: RuntimeWarning: numpy.ufunc size changed, may indicate binary incompatibility. Expected 192 from C header, got 216 from PyObject\n",
      "  return f(*args, **kwds)\n",
      "/anaconda3/lib/python3.6/importlib/_bootstrap.py:219: RuntimeWarning: numpy.ufunc size changed, may indicate binary incompatibility. Expected 192 from C header, got 216 from PyObject\n",
      "  return f(*args, **kwds)\n"
     ]
    }
   ],
   "source": [
    "import pandas as pd\n",
    "import numpy as np\n",
    "import matplotlib.pyplot as plt\n",
    "import os\n",
    "from sklearn.model_selection import train_test_split"
   ]
  },
  {
   "cell_type": "code",
   "execution_count": 54,
   "metadata": {},
   "outputs": [
    {
     "data": {
      "text/html": [
       "<div>\n",
       "<style scoped>\n",
       "    .dataframe tbody tr th:only-of-type {\n",
       "        vertical-align: middle;\n",
       "    }\n",
       "\n",
       "    .dataframe tbody tr th {\n",
       "        vertical-align: top;\n",
       "    }\n",
       "\n",
       "    .dataframe thead th {\n",
       "        text-align: right;\n",
       "    }\n",
       "</style>\n",
       "<table border=\"1\" class=\"dataframe\">\n",
       "  <thead>\n",
       "    <tr style=\"text-align: right;\">\n",
       "      <th></th>\n",
       "      <th>Image</th>\n",
       "      <th>Width</th>\n",
       "      <th>Height</th>\n",
       "      <th>Roi.X1</th>\n",
       "      <th>Roi.Y1</th>\n",
       "      <th>Roi.X2</th>\n",
       "      <th>Roi.Y2</th>\n",
       "      <th>ClassId</th>\n",
       "    </tr>\n",
       "  </thead>\n",
       "  <tbody>\n",
       "    <tr>\n",
       "      <th>0</th>\n",
       "      <td>[[[210, 249, 232], [204, 249, 208], [197, 198,...</td>\n",
       "      <td>141</td>\n",
       "      <td>142</td>\n",
       "      <td>12</td>\n",
       "      <td>12</td>\n",
       "      <td>128</td>\n",
       "      <td>130</td>\n",
       "      <td>0</td>\n",
       "    </tr>\n",
       "    <tr>\n",
       "      <th>1</th>\n",
       "      <td>[[[38, 48, 32], [40, 48, 30], [40, 47, 27], [4...</td>\n",
       "      <td>120</td>\n",
       "      <td>123</td>\n",
       "      <td>10</td>\n",
       "      <td>10</td>\n",
       "      <td>109</td>\n",
       "      <td>113</td>\n",
       "      <td>0</td>\n",
       "    </tr>\n",
       "    <tr>\n",
       "      <th>2</th>\n",
       "      <td>[[[123, 75, 51], [111, 69, 45], [102, 67, 42],...</td>\n",
       "      <td>105</td>\n",
       "      <td>107</td>\n",
       "      <td>9</td>\n",
       "      <td>9</td>\n",
       "      <td>96</td>\n",
       "      <td>98</td>\n",
       "      <td>0</td>\n",
       "    </tr>\n",
       "    <tr>\n",
       "      <th>3</th>\n",
       "      <td>[[[91, 80, 55], [90, 77, 54], [91, 78, 58], [9...</td>\n",
       "      <td>94</td>\n",
       "      <td>105</td>\n",
       "      <td>8</td>\n",
       "      <td>9</td>\n",
       "      <td>86</td>\n",
       "      <td>95</td>\n",
       "      <td>0</td>\n",
       "    </tr>\n",
       "    <tr>\n",
       "      <th>4</th>\n",
       "      <td>[[[49, 45, 30], [50, 45, 31], [51, 45, 32], [5...</td>\n",
       "      <td>128</td>\n",
       "      <td>139</td>\n",
       "      <td>11</td>\n",
       "      <td>12</td>\n",
       "      <td>117</td>\n",
       "      <td>127</td>\n",
       "      <td>0</td>\n",
       "    </tr>\n",
       "  </tbody>\n",
       "</table>\n",
       "</div>"
      ],
      "text/plain": [
       "                                               Image  Width  Height  Roi.X1  \\\n",
       "0  [[[210, 249, 232], [204, 249, 208], [197, 198,...    141     142      12   \n",
       "1  [[[38, 48, 32], [40, 48, 30], [40, 47, 27], [4...    120     123      10   \n",
       "2  [[[123, 75, 51], [111, 69, 45], [102, 67, 42],...    105     107       9   \n",
       "3  [[[91, 80, 55], [90, 77, 54], [91, 78, 58], [9...     94     105       8   \n",
       "4  [[[49, 45, 30], [50, 45, 31], [51, 45, 32], [5...    128     139      11   \n",
       "\n",
       "   Roi.Y1  Roi.X2  Roi.Y2  ClassId  \n",
       "0      12     128     130        0  \n",
       "1      10     109     113        0  \n",
       "2       9      96      98        0  \n",
       "3       9      86      95        0  \n",
       "4      12     117     127        0  "
      ]
     },
     "execution_count": 54,
     "metadata": {},
     "output_type": "execute_result"
    }
   ],
   "source": [
    "train_path = \"../datasets/belgian/Training\"\n",
    "\n",
    "data = pd.DataFrame()\n",
    "\n",
    "for i in range(62):\n",
    "    if i < 10:\n",
    "        dir_path = \"0000\" + str(i)\n",
    "        filepath = \"GT-0000\" + str(i)\n",
    "    else:\n",
    "        dir_path = \"000\" + str(i)\n",
    "        filepath = \"GT-000\" + str(i)\n",
    "    \n",
    "    df = pd.read_csv(os.path.join(train_path, dir_path, filepath + \".csv\"), sep=\";\")\n",
    "    df[\"Filename\"] = [plt.imread(os.path.join(train_path, dir_path, x)) for x in df[\"Filename\"]]\n",
    "    data = pd.concat([data, df], axis=0).reset_index(drop=True)\n",
    "\n",
    "data = data.rename(columns={\"Filename\": \"Image\"})\n",
    "data.head()"
   ]
  },
  {
   "cell_type": "code",
   "execution_count": 40,
   "metadata": {},
   "outputs": [
    {
     "data": {
      "text/plain": [
       "(4591, 8)"
      ]
     },
     "execution_count": 40,
     "metadata": {},
     "output_type": "execute_result"
    }
   ],
   "source": [
    "data.shape"
   ]
  },
  {
   "cell_type": "code",
   "execution_count": 39,
   "metadata": {},
   "outputs": [
    {
     "data": {
      "text/plain": [
       "array([ 0,  1,  2,  3,  4,  5,  6,  7,  8,  9, 10, 11, 12, 13, 14, 15, 16,\n",
       "       17, 18, 19, 20, 21, 22, 23, 24, 25, 26, 27, 28, 29, 30, 31, 32, 33,\n",
       "       34, 35, 36, 37, 38, 39, 40, 41, 42, 43, 44, 45, 46, 47, 48, 49, 50,\n",
       "       51, 52, 53, 54, 55, 56, 57, 58, 59, 60, 61])"
      ]
     },
     "execution_count": 39,
     "metadata": {},
     "output_type": "execute_result"
    }
   ],
   "source": [
    "data[\"ClassId\"].unique()"
   ]
  },
  {
   "cell_type": "code",
   "execution_count": 44,
   "metadata": {},
   "outputs": [
    {
     "data": {
      "text/plain": [
       "<matplotlib.image.AxesImage at 0x1a263f1b38>"
      ]
     },
     "execution_count": 44,
     "metadata": {},
     "output_type": "execute_result"
    },
    {
     "data": {
      "image/png": "[encoded data removed]",
      "text/plain": [
       "<Figure size 432x288 with 1 Axes>"
      ]
     },
     "metadata": {
      "needs_background": "light"
     },
     "output_type": "display_data"
    }
   ],
   "source": [
    "plt.imshow(data[\"Image\"][0])"
   ]
  },
  {
   "cell_type": "code",
   "execution_count": 71,
   "metadata": {},
   "outputs": [],
   "source": [
    "images = data.Image\n",
    "y_target = np.array(data.ClassId)"
   ]
  },
  {
   "cell_type": "code",
   "execution_count": 63,
   "metadata": {},
   "outputs": [
    {
     "name": "stdout",
     "output_type": "stream",
     "text": [
      "Mimum size: 22x20\n"
     ]
    }
   ],
   "source": [
    "width = 9999999\n",
    "height = 9999999\n",
    "\n",
    "for image in data[\"Image\"]:\n",
    "    if image.shape[1] < width:\n",
    "        width = image.shape[1]\n",
    "    if image.shape[0] < height:\n",
    "        height = image.shape[0]\n",
    "        \n",
    "print(\"Mimum size: {}x{}\".format(height, width))"
   ]
  },
  {
   "cell_type": "code",
   "execution_count": 61,
   "metadata": {},
   "outputs": [
    {
     "name": "stderr",
     "output_type": "stream",
     "text": [
      "/anaconda3/lib/python3.6/importlib/_bootstrap.py:219: RuntimeWarning: numpy.ufunc size changed, may indicate binary incompatibility. Expected 216, got 192\n",
      "  return f(*args, **kwds)\n",
      "/anaconda3/lib/python3.6/importlib/_bootstrap.py:219: RuntimeWarning: numpy.ufunc size changed, may indicate binary incompatibility. Expected 192 from C header, got 216 from PyObject\n",
      "  return f(*args, **kwds)\n"
     ]
    }
   ],
   "source": [
    "import skimage"
   ]
  },
  {
   "cell_type": "code",
   "execution_count": 85,
   "metadata": {},
   "outputs": [],
   "source": [
    "images = np.array([skimage.transform.resize(x, output_shape=(30,30)) for x in images])"
   ]
  },
  {
   "cell_type": "code",
   "execution_count": 86,
   "metadata": {},
   "outputs": [],
   "source": [
    "x_train, x_test, y_train, y_test = train_test_split(images, y_target, test_size=0.2, random_state=101)"
   ]
  },
  {
   "cell_type": "code",
   "execution_count": 87,
   "metadata": {},
   "outputs": [
    {
     "data": {
      "text/plain": [
       "((3672, 30, 30, 3), (919, 30, 30, 3))"
      ]
     },
     "execution_count": 87,
     "metadata": {},
     "output_type": "execute_result"
    }
   ],
   "source": [
    "x_train.shape, x_test.shape"
   ]
  },
  {
   "cell_type": "markdown",
   "metadata": {},
   "source": [
    "### Convolutional Neural Network"
   ]
  },
  {
   "cell_type": "code",
   "execution_count": 74,
   "metadata": {},
   "outputs": [],
   "source": [
    "from keras.utils import to_categorical\n",
    "from keras.models import Sequential\n",
    "from keras.layers import Conv2D, MaxPool2D, Flatten, Dense, BatchNormalization\n",
    "from keras.optimizers import Adam\n",
    "from keras.callbacks import LearningRateScheduler\n",
    "from keras.preprocessing.image import ImageDataGenerator"
   ]
  },
  {
   "cell_type": "code",
   "execution_count": 94,
   "metadata": {},
   "outputs": [],
   "source": [
    "y_train = to_categorical(y_train)\n",
    "y_test = to_categorical(y_test)"
   ]
  },
  {
   "cell_type": "code",
   "execution_count": 95,
   "metadata": {},
   "outputs": [],
   "source": [
    "cnn = Sequential()\n",
    "\n",
    "# First convolutional layer\n",
    "cnn.add(Conv2D(filters=250, kernel_size=(3,3), activation=\"relu\", input_shape=(30,30,3)))\n",
    "cnn.add(BatchNormalization())\n",
    "\n",
    "# Second convolutional layer\n",
    "cnn.add(Conv2D(filters=100, kernel_size=(3,3), activation=\"relu\"))\n",
    "cnn.add(BatchNormalization())\n",
    "\n",
    "# Max pooling layer\n",
    "cnn.add(MaxPool2D(strides=(1,1)))\n",
    "# Flatten layer\n",
    "cnn.add(Flatten())\n",
    "\n",
    "# First fully connected layer\n",
    "cnn.add(Dense(units=100, activation=\"relu\"))\n",
    "cnn.add(BatchNormalization())\n",
    "\n",
    "# Last fully connected layer (output)\n",
    "cnn.add(Dense(units=62, activation=\"softmax\"))"
   ]
  },
  {
   "cell_type": "code",
   "execution_count": 96,
   "metadata": {},
   "outputs": [],
   "source": [
    "cnn.compile(loss=\"categorical_crossentropy\", optimizer=Adam(0.001), metrics=[\"accuracy\"])\n",
    "variable_lr = LearningRateScheduler(lambda x: 1e-3*0.9**x)"
   ]
  },
  {
   "cell_type": "code",
   "execution_count": 97,
   "metadata": {},
   "outputs": [],
   "source": [
    "datagen = ImageDataGenerator(zoom_range=0.1, \n",
    "                             height_shift_range=0.1, \n",
    "                             width_shift_range=0.1, \n",
    "                             rotation_range=10)"
   ]
  },
  {
   "cell_type": "code",
   "execution_count": null,
   "metadata": {},
   "outputs": [
    {
     "name": "stdout",
     "output_type": "stream",
     "text": [
      "Epoch 1/10\n",
      "300/300 [==============================] - 143s 476ms/step - loss: 1.5885 - acc: 0.6132 - val_loss: 0.6761 - val_acc: 0.8333\n",
      "Epoch 2/10\n",
      " 70/300 [======>.......................] - ETA: 2:07 - loss: 0.7557 - acc: 0.8121"
     ]
    }
   ],
   "source": [
    "training = cnn.fit_generator(generator=datagen.flow(x_train, y_train, batch_size=20), \n",
    "                             epochs=10, \n",
    "                             steps_per_epoch=300, \n",
    "                             validation_data=(x_test[:300,], y_test[:300,]), \n",
    "                             callbacks=[variable_lr])"
   ]
  },
  {
   "cell_type": "code",
   "execution_count": null,
   "metadata": {},
   "outputs": [],
   "source": []
  }
 ],
 "metadata": {
  "kernelspec": {
   "display_name": "Python 3",
   "language": "python",
   "name": "python3"
  },
  "language_info": {
   "codemirror_mode": {
    "name": "ipython",
    "version": 3
   },
   "file_extension": ".py",
   "mimetype": "text/x-python",
   "name": "python",
   "nbconvert_exporter": "python",
   "pygments_lexer": "ipython3",
   "version": "3.6.8"
  }
 },
 "nbformat": 4,
 "nbformat_minor": 2
}
