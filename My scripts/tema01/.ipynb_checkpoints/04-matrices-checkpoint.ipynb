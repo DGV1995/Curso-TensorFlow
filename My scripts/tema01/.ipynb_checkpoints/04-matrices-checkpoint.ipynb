{
 "cells": [
  {
   "cell_type": "markdown",
   "metadata": {},
   "source": [
    "# Cómo trabajar con matrices"
   ]
  },
  {
   "cell_type": "code",
   "execution_count": 1,
   "metadata": {},
   "outputs": [],
   "source": [
    "import tensorflow as tf"
   ]
  },
  {
   "cell_type": "code",
   "execution_count": 2,
   "metadata": {},
   "outputs": [],
   "source": [
    "session = tf.Session()"
   ]
  },
  {
   "cell_type": "markdown",
   "metadata": {},
   "source": [
    "## 1. Cómo crear matrices"
   ]
  },
  {
   "cell_type": "code",
   "execution_count": 25,
   "metadata": {},
   "outputs": [
    {
     "name": "stdout",
     "output_type": "stream",
     "text": [
      "[[1. 0. 0. 0.]\n",
      " [0. 1. 0. 0.]\n",
      " [0. 0. 1. 0.]\n",
      " [0. 0. 0. 1.]]\n"
     ]
    }
   ],
   "source": [
    "identity = tf.diag([1.,1.,1.,1.]) # Matriz identidad 4x4 (float)\n",
    "print(session.run(identity))"
   ]
  },
  {
   "cell_type": "code",
   "execution_count": 17,
   "metadata": {},
   "outputs": [
    {
     "name": "stdout",
     "output_type": "stream",
     "text": [
      "[[ 0.783186    0.09416551 -1.2356915   1.0723972 ]\n",
      " [-0.6733717   0.05445028 -0.51133263 -0.87277794]\n",
      " [ 1.874962   -0.3335352   0.31495884 -0.034371  ]]\n"
     ]
    }
   ],
   "source": [
    "A = tf.truncated_normal([3,4]) # Datos de una distribución normal truncada\n",
    "print(session.run(A))"
   ]
  },
  {
   "cell_type": "code",
   "execution_count": 18,
   "metadata": {},
   "outputs": [
    {
     "name": "stdout",
     "output_type": "stream",
     "text": [
      "[[1995. 1995. 1995. 1995.]\n",
      " [1995. 1995. 1995. 1995.]\n",
      " [1995. 1995. 1995. 1995.]]\n"
     ]
    }
   ],
   "source": [
    "B = tf.fill([3,4], 1995.)\n",
    "print(session.run(B))"
   ]
  },
  {
   "cell_type": "code",
   "execution_count": 12,
   "metadata": {},
   "outputs": [
    {
     "name": "stdout",
     "output_type": "stream",
     "text": [
      "[[0.12889326 0.07850671 0.04429281]\n",
      " [0.4162767  0.4645064  0.4644382 ]\n",
      " [0.70621884 0.9182581  0.3417455 ]\n",
      " [0.5348877  0.2727493  0.3545742 ]]\n"
     ]
    }
   ],
   "source": [
    "C = tf.random_uniform([4,3])\n",
    "print(session.run(C))"
   ]
  },
  {
   "cell_type": "code",
   "execution_count": 9,
   "metadata": {},
   "outputs": [
    {
     "name": "stdout",
     "output_type": "stream",
     "text": [
      "[[1. 2. 3.]\n",
      " [4. 5. 6.]\n",
      " [7. 8. 9.]]\n"
     ]
    }
   ],
   "source": [
    "import numpy as np\n",
    "data = np.array([[1.,2.,3.],[4.,5.,6.],[7.,8.,9.]])\n",
    "D = tf.convert_to_tensor(data)\n",
    "print(session.run(D))"
   ]
  },
  {
   "cell_type": "markdown",
   "metadata": {},
   "source": [
    "## 2. Operar con matrices"
   ]
  },
  {
   "cell_type": "code",
   "execution_count": 21,
   "metadata": {},
   "outputs": [
    {
     "name": "stdout",
     "output_type": "stream",
     "text": [
      "[[1995.6337 1994.5581 1994.6938 1995.9583]\n",
      " [1994.4791 1995.8461 1996.0643 1995.1958]\n",
      " [1994.1786 1995.6941 1996.0546 1994.1815]]\n"
     ]
    }
   ],
   "source": [
    "print(session.run(A+B))"
   ]
  },
  {
   "cell_type": "code",
   "execution_count": 22,
   "metadata": {},
   "outputs": [
    {
     "name": "stdout",
     "output_type": "stream",
     "text": [
      "[[0. 0. 0. 0.]\n",
      " [0. 0. 0. 0.]\n",
      " [0. 0. 0. 0.]]\n"
     ]
    }
   ],
   "source": [
    "print(session.run(B-B))"
   ]
  },
  {
   "cell_type": "code",
   "execution_count": 23,
   "metadata": {},
   "outputs": [
    {
     "name": "stdout",
     "output_type": "stream",
     "text": [
      "[[ 0.73582095  1.4669106   0.72287774]\n",
      " [ 1.3064486   1.2984933   2.1319528 ]\n",
      " [-1.7027698  -0.6130451  -1.4166672 ]]\n"
     ]
    }
   ],
   "source": [
    "print(session.run(tf.matmul(A,C))) # Producto matricial"
   ]
  },
  {
   "cell_type": "code",
   "execution_count": 26,
   "metadata": {},
   "outputs": [
    {
     "name": "stdout",
     "output_type": "stream",
     "text": [
      "[[-0.42138216 -1.3760359  -0.857155   -0.0296778 ]\n",
      " [ 0.78601974  1.0974598  -0.65564007 -0.00521921]\n",
      " [ 0.16446623  1.0771966  -1.7751687  -0.11794449]]\n"
     ]
    }
   ],
   "source": [
    "print(session.run(tf.matmul(A,identity)))"
   ]
  },
  {
   "cell_type": "markdown",
   "metadata": {},
   "source": [
    "## 3. Traspuesta y determinante --> Inversa"
   ]
  },
  {
   "cell_type": "code",
   "execution_count": 28,
   "metadata": {},
   "outputs": [
    {
     "name": "stdout",
     "output_type": "stream",
     "text": [
      "[[-0.3531443   0.11395104 -0.44381917]\n",
      " [ 0.248513    0.18646722 -0.7873152 ]\n",
      " [-0.26095486 -1.2628871   1.3296496 ]\n",
      " [ 0.8967517  -1.357636   -1.7988157 ]]\n"
     ]
    }
   ],
   "source": [
    "print(session.run(tf.transpose(A))) # Traspuesta de A"
   ]
  },
  {
   "cell_type": "code",
   "execution_count": 29,
   "metadata": {},
   "outputs": [
    {
     "name": "stdout",
     "output_type": "stream",
     "text": [
      "6.66133814775094e-16\n"
     ]
    }
   ],
   "source": [
    "print(session.run(tf.matrix_determinant(D))) # Determinante de D--> La matriz debe ser cuadrada (m = n)"
   ]
  },
  {
   "cell_type": "code",
   "execution_count": 30,
   "metadata": {},
   "outputs": [
    {
     "name": "stdout",
     "output_type": "stream",
     "text": [
      "-40.0\n"
     ]
    }
   ],
   "source": [
    "E = tf.convert_to_tensor(np.array([[1.,2.,3.],[-3.,-6.,-1.],[0.,5.,-3.,]]))\n",
    "print(session.run(tf.matrix_determinant(E)))"
   ]
  },
  {
   "cell_type": "code",
   "execution_count": 32,
   "metadata": {},
   "outputs": [
    {
     "name": "stdout",
     "output_type": "stream",
     "text": [
      "[[-4.50359963e+15  9.00719925e+15 -4.50359963e+15]\n",
      " [ 9.00719925e+15 -1.80143985e+16  9.00719925e+15]\n",
      " [-4.50359963e+15  9.00719925e+15 -4.50359963e+15]]\n"
     ]
    }
   ],
   "source": [
    "print(session.run(tf.matrix_inverse(D))) # Matriz singular --> no tiene inversa"
   ]
  },
  {
   "cell_type": "code",
   "execution_count": 37,
   "metadata": {},
   "outputs": [
    {
     "name": "stdout",
     "output_type": "stream",
     "text": [
      "[[-0.575 -0.525 -0.4  ]\n",
      " [ 0.225  0.075  0.2  ]\n",
      " [ 0.375  0.125  0.   ]]\n"
     ]
    }
   ],
   "source": [
    "E_inverse = session.run(tf.matrix_inverse(E)) # Inversa de E\n",
    "print(E_inverse)"
   ]
  },
  {
   "cell_type": "code",
   "execution_count": 38,
   "metadata": {},
   "outputs": [
    {
     "name": "stdout",
     "output_type": "stream",
     "text": [
      "[[ 1.00000000e+00  0.00000000e+00  0.00000000e+00]\n",
      " [-2.22044605e-16  1.00000000e+00  0.00000000e+00]\n",
      " [ 0.00000000e+00  5.55111512e-17  1.00000000e+00]]\n"
     ]
    }
   ],
   "source": [
    "print(session.run(tf.matmul(E, E_inverse))) # Matriz identidad"
   ]
  },
  {
   "cell_type": "markdown",
   "metadata": {},
   "source": [
    "## 4. Descomposición"
   ]
  },
  {
   "cell_type": "code",
   "execution_count": 40,
   "metadata": {},
   "outputs": [
    {
     "name": "stdout",
     "output_type": "stream",
     "text": [
      "[[1. 0. 0. 0.]\n",
      " [0. 1. 0. 0.]\n",
      " [0. 0. 1. 0.]\n",
      " [0. 0. 0. 1.]]\n"
     ]
    }
   ],
   "source": [
    "print(session.run(tf.cholesky(identity))) # Para matrices simétricas y definidas positivas"
   ]
  },
  {
   "cell_type": "markdown",
   "metadata": {},
   "source": [
    "## 5. Valores y vectores propios"
   ]
  },
  {
   "cell_type": "code",
   "execution_count": 41,
   "metadata": {},
   "outputs": [
    {
     "name": "stdout",
     "output_type": "stream",
     "text": [
      "[-10.24888536  -0.66882335   2.91770871]\n"
     ]
    }
   ],
   "source": [
    "print(session.run(tf.self_adjoint_eigvals(E))) # Valores propios de la matriz E"
   ]
  },
  {
   "cell_type": "code",
   "execution_count": 42,
   "metadata": {},
   "outputs": [
    {
     "name": "stdout",
     "output_type": "stream",
     "text": [
      "(array([-10.24888536,  -0.66882335,   2.91770871]), array([[ 0.21442787,  0.60489799, -0.76688924],\n",
      "       [ 0.80402486,  0.3364893 ,  0.49022339],\n",
      "       [-0.55458517,  0.72171557,  0.41420034]]))\n"
     ]
    }
   ],
   "source": [
    "print(session.run(tf.self_adjoint_eig(E))) # Valores propios & vectores propios de la matriz E"
   ]
  },
  {
   "cell_type": "code",
   "execution_count": null,
   "metadata": {},
   "outputs": [],
   "source": []
  }
 ],
 "metadata": {
  "kernelspec": {
   "display_name": "Python 3",
   "language": "python",
   "name": "python3"
  },
  "language_info": {
   "codemirror_mode": {
    "name": "ipython",
    "version": 3
   },
   "file_extension": ".py",
   "mimetype": "text/x-python",
   "name": "python",
   "nbconvert_exporter": "python",
   "pygments_lexer": "ipython3",
   "version": "3.7.2"
  }
 },
 "nbformat": 4,
 "nbformat_minor": 2
}
