{
 "cells": [
  {
   "cell_type": "markdown",
   "metadata": {},
   "source": [
    "# Entrenamiento estocástico y por bloques"
   ]
  },
  {
   "cell_type": "code",
   "execution_count": 50,
   "metadata": {},
   "outputs": [],
   "source": [
    "import tensorflow as tf\n",
    "import numpy as np\n",
    "import matplotlib.pyplot as plt\n",
    "session = tf.Session()"
   ]
  },
  {
   "cell_type": "code",
   "execution_count": 40,
   "metadata": {},
   "outputs": [],
   "source": [
    "batch_size = 25"
   ]
  },
  {
   "cell_type": "code",
   "execution_count": 41,
   "metadata": {},
   "outputs": [],
   "source": [
    "x_vals = np.random.normal(1.0, 0.1, 200)\n",
    "y_vals = np.repeat(a=10.0, repeats=200)"
   ]
  },
  {
   "cell_type": "code",
   "execution_count": 51,
   "metadata": {},
   "outputs": [],
   "source": [
    "x_data = tf.placeholder(shape=[None, 1], dtype=tf.float32)\n",
    "y_data = tf.placeholder(shape=[None, 1], dtype=tf.float32)\n",
    "A = tf.Variable(tf.random.normal(shape=[1,1]))"
   ]
  },
  {
   "cell_type": "code",
   "execution_count": 52,
   "metadata": {},
   "outputs": [],
   "source": [
    "y_pred = tf.matmul(x_data, A)"
   ]
  },
  {
   "cell_type": "code",
   "execution_count": 53,
   "metadata": {},
   "outputs": [],
   "source": [
    "loss = tf.reduce_mean(tf.square(y_pred - y_vals))"
   ]
  },
  {
   "cell_type": "code",
   "execution_count": 54,
   "metadata": {},
   "outputs": [],
   "source": [
    "optimizer = tf.train.GradientDescentOptimizer(learning_rate=0.025)\n",
    "train = optimizer.minimize(loss)"
   ]
  },
  {
   "cell_type": "code",
   "execution_count": 55,
   "metadata": {},
   "outputs": [],
   "source": [
    "init = tf.global_variables_initializer()\n",
    "session.run(init)"
   ]
  },
  {
   "cell_type": "markdown",
   "metadata": {},
   "source": [
    "### Entrenamiento por bloques"
   ]
  },
  {
   "cell_type": "code",
   "execution_count": 47,
   "metadata": {},
   "outputs": [
    {
     "name": "stdout",
     "output_type": "stream",
     "text": [
      "Paso #5, A = [[1.8635186]], Loss: 66.18617248535156\n",
      "Paso #10, A = [[3.6774473]], Loss: 41.49720764160156\n",
      "Paso #15, A = [[5.1015997]], Loss: 24.397613525390625\n",
      "Paso #20, A = [[6.195949]], Loss: 14.092888832092285\n",
      "Paso #25, A = [[7.0379453]], Loss: 9.592601776123047\n",
      "Paso #30, A = [[7.7057667]], Loss: 6.887857913970947\n",
      "Paso #35, A = [[8.212811]], Loss: 2.9616219997406006\n",
      "Paso #40, A = [[8.582408]], Loss: 2.4848809242248535\n",
      "Paso #45, A = [[8.872373]], Loss: 1.7916388511657715\n",
      "Paso #50, A = [[9.125266]], Loss: 2.3939008712768555\n",
      "Paso #55, A = [[9.304918]], Loss: 1.4945424795150757\n",
      "Paso #60, A = [[9.453715]], Loss: 1.0819942951202393\n",
      "Paso #65, A = [[9.532994]], Loss: 0.9047179818153381\n",
      "Paso #70, A = [[9.633589]], Loss: 0.9305190443992615\n",
      "Paso #75, A = [[9.681982]], Loss: 0.8759281039237976\n",
      "Paso #80, A = [[9.722364]], Loss: 0.8743681907653809\n",
      "Paso #85, A = [[9.760299]], Loss: 0.8121213912963867\n",
      "Paso #90, A = [[9.757868]], Loss: 0.7521733045578003\n",
      "Paso #95, A = [[9.778915]], Loss: 1.1612939834594727\n",
      "Paso #100, A = [[9.806004]], Loss: 0.6518350839614868\n",
      "Paso #105, A = [[9.855932]], Loss: 1.3983103036880493\n",
      "Paso #110, A = [[9.852538]], Loss: 0.8529615998268127\n",
      "Paso #115, A = [[9.847334]], Loss: 0.8914097547531128\n",
      "Paso #120, A = [[9.85902]], Loss: 0.956900417804718\n",
      "Paso #125, A = [[9.880752]], Loss: 1.3753447532653809\n",
      "Paso #130, A = [[9.905211]], Loss: 1.3197331428527832\n",
      "Paso #135, A = [[9.928074]], Loss: 0.5534083843231201\n",
      "Paso #140, A = [[9.9182825]], Loss: 0.5715542435646057\n",
      "Paso #145, A = [[9.925687]], Loss: 0.9843670129776001\n",
      "Paso #150, A = [[9.902435]], Loss: 1.7031387090682983\n",
      "Paso #155, A = [[9.896525]], Loss: 0.9251764416694641\n",
      "Paso #160, A = [[9.914654]], Loss: 0.9058713912963867\n",
      "Paso #165, A = [[9.9365225]], Loss: 0.908913791179657\n",
      "Paso #170, A = [[9.921244]], Loss: 0.6904849410057068\n",
      "Paso #175, A = [[9.930671]], Loss: 0.4224291145801544\n",
      "Paso #180, A = [[9.919891]], Loss: 0.9982273578643799\n",
      "Paso #185, A = [[9.885065]], Loss: 0.9339255094528198\n",
      "Paso #190, A = [[9.9156]], Loss: 1.0207366943359375\n",
      "Paso #195, A = [[9.963253]], Loss: 1.2517006397247314\n",
      "Paso #200, A = [[9.912369]], Loss: 0.8349239230155945\n"
     ]
    }
   ],
   "source": [
    "loss_batch = []\n",
    "\n",
    "for i in range(200):\n",
    "    rand_index = np.random.choice(200, size=batch_size)\n",
    "    rand_x = np.transpose([x_vals[rand_index]])\n",
    "    rand_y = np.transpose([y_vals[rand_index]])\n",
    "    session.run(train, feed_dict={x_data: rand_x, y_data: rand_y})\n",
    "    if (i+1)%5 == 0:\n",
    "        temp_loss = session.run(loss, feed_dict={x_data: rand_x, y_data: rand_y})\n",
    "        print(\"Paso #{}, A = {}, Loss: {}\".format(i+1, session.run(A), temp_loss))\n",
    "        loss_batch.append(temp_loss)"
   ]
  },
  {
   "cell_type": "markdown",
   "metadata": {},
   "source": [
    "## Entrenamiento estocástico (uno por uno)"
   ]
  },
  {
   "cell_type": "code",
   "execution_count": 56,
   "metadata": {},
   "outputs": [
    {
     "name": "stdout",
     "output_type": "stream",
     "text": [
      "Paso #5, A = [[2.599456]], Loss: 54.38888168334961\n",
      "Paso #10, A = [[4.269076]], Loss: 30.10565757751465\n",
      "Paso #15, A = [[5.558932]], Loss: 14.716897964477539\n",
      "Paso #20, A = [[6.5460873]], Loss: 7.789442539215088\n",
      "Paso #25, A = [[7.279819]], Loss: 9.260379791259766\n",
      "Paso #30, A = [[7.87831]], Loss: 6.517305374145508\n",
      "Paso #35, A = [[8.253671]], Loss: 0.004491991829127073\n",
      "Paso #40, A = [[8.485422]], Loss: 0.7328159213066101\n",
      "Paso #45, A = [[8.888261]], Loss: 8.26510238647461\n",
      "Paso #50, A = [[9.072748]], Loss: 9.141678810119629\n",
      "Paso #55, A = [[9.13344]], Loss: 0.27673622965812683\n",
      "Paso #60, A = [[9.29641]], Loss: 6.16326360614039e-05\n",
      "Paso #65, A = [[9.482856]], Loss: 0.9285875558853149\n",
      "Paso #70, A = [[9.533062]], Loss: 1.946824312210083\n",
      "Paso #75, A = [[9.471516]], Loss: 0.01500728726387024\n",
      "Paso #80, A = [[9.600966]], Loss: 0.21891993284225464\n",
      "Paso #85, A = [[9.698116]], Loss: 2.210101842880249\n",
      "Paso #90, A = [[9.502558]], Loss: 0.9850343465805054\n",
      "Paso #95, A = [[9.6655245]], Loss: 0.021948276087641716\n",
      "Paso #100, A = [[9.745082]], Loss: 0.030243081972002983\n",
      "Paso #105, A = [[9.864517]], Loss: 1.2321375608444214\n",
      "Paso #110, A = [[9.857619]], Loss: 0.17738839983940125\n",
      "Paso #115, A = [[9.720006]], Loss: 0.6564064621925354\n",
      "Paso #120, A = [[9.765936]], Loss: 0.951118528842926\n",
      "Paso #125, A = [[9.835939]], Loss: 2.956507921218872\n",
      "Paso #130, A = [[9.859402]], Loss: 0.3562430143356323\n",
      "Paso #135, A = [[9.999431]], Loss: 0.152116596698761\n",
      "Paso #140, A = [[9.988531]], Loss: 0.03692825138568878\n",
      "Paso #145, A = [[10.136174]], Loss: 0.28172728419303894\n",
      "Paso #150, A = [[10.074728]], Loss: 0.2960362732410431\n",
      "Paso #155, A = [[9.924733]], Loss: 4.43195915222168\n",
      "Paso #160, A = [[9.931878]], Loss: 0.5597153306007385\n",
      "Paso #165, A = [[9.802273]], Loss: 1.660627841949463\n",
      "Paso #170, A = [[9.955418]], Loss: 0.11796943843364716\n",
      "Paso #175, A = [[9.969524]], Loss: 0.10597539693117142\n",
      "Paso #180, A = [[10.079424]], Loss: 0.06795216351747513\n",
      "Paso #185, A = [[9.942474]], Loss: 1.862547755241394\n",
      "Paso #190, A = [[9.985135]], Loss: 0.13977152109146118\n",
      "Paso #195, A = [[9.829256]], Loss: 0.3190822899341583\n",
      "Paso #200, A = [[10.007152]], Loss: 6.1475934982299805\n"
     ]
    }
   ],
   "source": [
    "loss_stochastic = []\n",
    "\n",
    "for i in range(200):\n",
    "    rand_index = np.random.choice(200, size=1)\n",
    "    rand_x = [x_vals[rand_index]]\n",
    "    rand_y = [y_vals[rand_index]]\n",
    "    session.run(train, feed_dict={x_data: rand_x, y_data: rand_y})\n",
    "    if (i+1)%5 == 0:\n",
    "        temp_loss = session.run(loss, feed_dict={x_data: rand_x, y_data: rand_y})\n",
    "        print(\"Paso #{}, A = {}, Loss: {}\".format(i+1, session.run(A), temp_loss))\n",
    "        loss_stochastic.append(temp_loss)"
   ]
  },
  {
   "cell_type": "code",
   "execution_count": 65,
   "metadata": {},
   "outputs": [
    {
     "data": {
      "image/png": "[encoded data removed]",
      "text/plain": [
       "<Figure size 720x504 with 1 Axes>"
      ]
     },
     "metadata": {
      "needs_background": "light"
     },
     "output_type": "display_data"
    }
   ],
   "source": [
    "plt.figure(figsize=(10,7))\n",
    "plt.plot(range(0,200,5), loss_stochastic, \"b-\", label=\"Entrenamiento estocástico\")\n",
    "plt.plot(range(0,200,5), loss_batch, \"r--\", label=\"Entrenamiento por bloques de tamaño 25\")\n",
    "plt.legend(loc=\"upper right\", prop={\"size\":10})\n",
    "plt.show()"
   ]
  },
  {
   "cell_type": "code",
   "execution_count": null,
   "metadata": {},
   "outputs": [],
   "source": []
  }
 ],
 "metadata": {
  "kernelspec": {
   "display_name": "Python 3",
   "language": "python",
   "name": "python3"
  },
  "language_info": {
   "codemirror_mode": {
    "name": "ipython",
    "version": 3
   },
   "file_extension": ".py",
   "mimetype": "text/x-python",
   "name": "python",
   "nbconvert_exporter": "python",
   "pygments_lexer": "ipython3",
   "version": "3.6.8"
  }
 },
 "nbformat": 4,
 "nbformat_minor": 2
}
