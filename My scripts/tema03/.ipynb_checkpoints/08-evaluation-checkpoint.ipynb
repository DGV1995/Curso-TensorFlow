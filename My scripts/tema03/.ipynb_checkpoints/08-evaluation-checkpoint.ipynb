{
 "cells": [
  {
   "cell_type": "markdown",
   "metadata": {},
   "source": [
    "# Evaluación del modelo"
   ]
  },
  {
   "cell_type": "code",
   "execution_count": 1,
   "metadata": {},
   "outputs": [],
   "source": [
    "import tensorflow as tf\n",
    "import numpy as np\n",
    "import matplotlib.pyplot as plt"
   ]
  },
  {
   "cell_type": "code",
   "execution_count": 2,
   "metadata": {},
   "outputs": [],
   "source": [
    "session = tf.Session()"
   ]
  },
  {
   "cell_type": "markdown",
   "metadata": {},
   "source": [
    "### Caso de regresión"
   ]
  },
  {
   "cell_type": "code",
   "execution_count": 31,
   "metadata": {},
   "outputs": [],
   "source": [
    "x_vals = np.random.normal(loc=1.0, scale=0.1, size=200)\n",
    "y_vals = np.repeat(a=10.0, repeats=200)\n",
    "\n",
    "x_data = tf.placeholder(shape=[None, 1], dtype=tf.float32)\n",
    "y_target = tf.placeholder(shape=[None, 1], dtype=tf.float32)"
   ]
  },
  {
   "cell_type": "code",
   "execution_count": 32,
   "metadata": {},
   "outputs": [],
   "source": [
    "batch_size = 25"
   ]
  },
  {
   "cell_type": "code",
   "execution_count": 35,
   "metadata": {},
   "outputs": [],
   "source": [
    "train_idx = np.random.choice(len(x_vals), size=round(0.8*len(x_vals)), replace=False)\n",
    "test_idx = np.array(list(set(range(len(x_vals))) - set(train_idx)))\n",
    "\n",
    "x_train = x_vals[train_idx]\n",
    "x_test = x_vals[test_idx]\n",
    "y_train = y_vals[train_idx]\n",
    "y_test = y_vals[test_idx]"
   ]
  },
  {
   "cell_type": "code",
   "execution_count": 36,
   "metadata": {},
   "outputs": [],
   "source": [
    "A = tf.Variable(tf.random_normal(shape=[1,1]))"
   ]
  },
  {
   "cell_type": "code",
   "execution_count": 38,
   "metadata": {},
   "outputs": [],
   "source": [
    "prediction = tf.matmul(x_data, A)\n",
    "loss = tf.reduce_mean(tf.square(prediction-y_target))\n",
    "optimizer = tf.train.GradientDescentOptimizer(learning_rate=0.02)\n",
    "train = optimizer.minimize(loss)"
   ]
  },
  {
   "cell_type": "code",
   "execution_count": 42,
   "metadata": {},
   "outputs": [
    {
     "name": "stdout",
     "output_type": "stream",
     "text": [
      "Step #25 ==> A = [[6.4360194]], Loss = 11.446562767028809\n",
      "Step #50 ==> A = [[8.604612]], Loss = 2.1884663105010986\n",
      "Step #75 ==> A = [[9.361996]], Loss = 1.421377420425415\n",
      "Step #100 ==> A = [[9.584524]], Loss = 0.6470113396644592\n",
      "Step #125 ==> A = [[9.6523285]], Loss = 0.9091839790344238\n",
      "Step #150 ==> A = [[9.684284]], Loss = 1.1934731006622314\n",
      "Step #175 ==> A = [[9.735293]], Loss = 1.1617062091827393\n",
      "Step #200 ==> A = [[9.7181225]], Loss = 0.983802855014801\n"
     ]
    }
   ],
   "source": [
    "init = tf.global_variables_initializer()\n",
    "session.run(init)\n",
    "\n",
    "for i in range(200):\n",
    "    rand_indexes = np.random.choice(len(x_train), size=batch_size)\n",
    "    rand_x = np.transpose([x_train[rand_indexes]])\n",
    "    rand_y = np.transpose([y_train[rand_indexes]])\n",
    "    session.run(train, feed_dict={x_data: rand_x, y_target: rand_y})\n",
    "    if (i+1)%25 == 0:\n",
    "        print(\"Step #{} ==> A = {}, Loss = {}\".format(i+1, \n",
    "                                                      session.run(A), \n",
    "                                                      session.run(loss, feed_dict={x_data: rand_x, \n",
    "                                                                                   y_target: rand_y})))"
   ]
  },
  {
   "cell_type": "markdown",
   "metadata": {},
   "source": [
    "#### Evaluación del modelo con MSE"
   ]
  },
  {
   "cell_type": "code",
   "execution_count": 45,
   "metadata": {},
   "outputs": [
    {
     "name": "stdout",
     "output_type": "stream",
     "text": [
      "MSE en el conjunto de entrenamiento: 0.944\n",
      "MSE en el conjunto de testing: 1.266\n"
     ]
    }
   ],
   "source": [
    "mse_train = session.run(loss, feed_dict={x_data: np.transpose([x_train]), \n",
    "                                         y_target: np.transpose([y_train])})\n",
    "\n",
    "mse_test = session.run(loss, feed_dict={x_data: np.transpose([x_test]), \n",
    "                                        y_target: np.transpose([y_test])})\n",
    "\n",
    "print(\"MSE en el conjunto de entrenamiento: {:.3f}\".format(mse_train))\n",
    "print(\"MSE en el conjunto de testing: {:.3f}\".format(mse_test))"
   ]
  },
  {
   "cell_type": "markdown",
   "metadata": {},
   "source": [
    "### Caso de clasificación"
   ]
  },
  {
   "cell_type": "code",
   "execution_count": 48,
   "metadata": {},
   "outputs": [],
   "source": [
    "from tensorflow.python.framework import ops\n",
    "ops.reset_default_graph()\n",
    "session = tf.Session()"
   ]
  },
  {
   "cell_type": "code",
   "execution_count": 49,
   "metadata": {},
   "outputs": [],
   "source": [
    "batch_size = 25"
   ]
  },
  {
   "cell_type": "code",
   "execution_count": 50,
   "metadata": {},
   "outputs": [],
   "source": [
    "x_vals = np.concatenate((np.random.normal(-2,1,100), np.random.normal(2,1,100)))\n",
    "y_vals = np.concatenate((np.repeat(0.0,100), np.repeat(1.0,100)))"
   ]
  },
  {
   "cell_type": "code",
   "execution_count": 51,
   "metadata": {},
   "outputs": [],
   "source": [
    "x_data = tf.placeholder(shape=[1, None], dtype=tf.float32)\n",
    "y_target = tf.placeholder(shape=[1, None], dtype=tf.float32)"
   ]
  },
  {
   "cell_type": "code",
   "execution_count": 52,
   "metadata": {},
   "outputs": [],
   "source": [
    "train_idx = np.random.choice(len(x_vals), size=round(len(x_vals)*0.8), replace=False)\n",
    "test_idx = np.array(list(set(range(len(x_vals))) - set(train_idx)))\n",
    "\n",
    "x_train = x_vals[train_idx]\n",
    "x_test = x_vals[test_idx]\n",
    "y_train = y_vals[train_idx]\n",
    "y_test = y_vals[test_idx]"
   ]
  },
  {
   "cell_type": "code",
   "execution_count": 78,
   "metadata": {},
   "outputs": [],
   "source": [
    "A = tf.Variable(tf.random_normal(mean=10,shape=[1]))"
   ]
  },
  {
   "cell_type": "code",
   "execution_count": 79,
   "metadata": {},
   "outputs": [],
   "source": [
    "prediction = tf.add(x_data, A)\n",
    "init = tf.global_variables_initializer()\n",
    "session.run(init)"
   ]
  },
  {
   "cell_type": "code",
   "execution_count": 80,
   "metadata": {},
   "outputs": [],
   "source": [
    "cross_entropy = tf.reduce_mean(tf.nn.sigmoid_cross_entropy_with_logits(logits=prediction, labels=y_target))"
   ]
  },
  {
   "cell_type": "code",
   "execution_count": 81,
   "metadata": {},
   "outputs": [],
   "source": [
    "optimizer = tf.train.GradientDescentOptimizer(learning_rate=0.05)\n",
    "train = optimizer.minimize(cross_entropy)"
   ]
  },
  {
   "cell_type": "code",
   "execution_count": 82,
   "metadata": {},
   "outputs": [
    {
     "name": "stdout",
     "output_type": "stream",
     "text": [
      "Step #100 ==> A = [7.3591022], Loss = 2.57136869430542\n",
      "Step #200 ==> A = [5.0134163], Loss = 1.5105559825897217\n",
      "Step #300 ==> A = [2.9616325], Loss = 0.8059335350990295\n",
      "Step #400 ==> A = [1.6709204], Loss = 0.2442544549703598\n",
      "Step #500 ==> A = [0.9090445], Loss = 0.23499400913715363\n",
      "Step #600 ==> A = [0.48236474], Loss = 0.1258857101202011\n",
      "Step #700 ==> A = [0.21857738], Loss = 0.12198471277952194\n",
      "Step #800 ==> A = [0.05439935], Loss = 0.14937420189380646\n",
      "Step #900 ==> A = [-0.0295329], Loss = 0.14274565875530243\n",
      "Step #1000 ==> A = [-0.08350489], Loss = 0.177511066198349\n",
      "Step #1100 ==> A = [-0.11074263], Loss = 0.13621662557125092\n",
      "Step #1200 ==> A = [-0.11364954], Loss = 0.18612201511859894\n",
      "Step #1300 ==> A = [-0.14046115], Loss = 0.1876371204853058\n",
      "Step #1400 ==> A = [-0.14812064], Loss = 0.22864097356796265\n",
      "Step #1500 ==> A = [-0.14555016], Loss = 0.18803666532039642\n",
      "Step #1600 ==> A = [-0.12445955], Loss = 0.2470560520887375\n",
      "Step #1700 ==> A = [-0.11095663], Loss = 0.17743153870105743\n",
      "Step #1800 ==> A = [-0.13671762], Loss = 0.17895179986953735\n",
      "Step #1900 ==> A = [-0.14409107], Loss = 0.15289436280727386\n",
      "Step #2000 ==> A = [-0.14997971], Loss = 0.13384407758712769\n"
     ]
    }
   ],
   "source": [
    "for i in range(2000):\n",
    "    random_idx = np.random.choice(len(x_train), size=batch_size)\n",
    "    rand_x = [x_train[random_idx]]\n",
    "    rand_y = [y_train[random_idx]]\n",
    "    session.run(train, feed_dict={x_data: rand_x, y_target: rand_y})\n",
    "    if (i+1)%100 == 0:\n",
    "        print(\"Step #{} ==> A = {}, Loss = {}\".format(i+1, \n",
    "                                                      session.run(A), \n",
    "                                                      session.run(cross_entropy, \n",
    "                                                                  feed_dict={x_data: rand_x, \n",
    "                                                                             y_target: rand_y})))"
   ]
  },
  {
   "cell_type": "markdown",
   "metadata": {},
   "source": [
    "#### Evaluación del modelo con la precisión"
   ]
  },
  {
   "cell_type": "code",
   "execution_count": 83,
   "metadata": {},
   "outputs": [],
   "source": [
    "y_pred = tf.squeeze(tf.round(tf.nn.sigmoid(tf.add(x_data, A))))\n",
    "correct_prediction = tf.equal(y_pred, y_target)\n",
    "accuracy = tf.reduce_mean(tf.cast(correct_prediction, tf.float32))"
   ]
  },
  {
   "cell_type": "code",
   "execution_count": 84,
   "metadata": {},
   "outputs": [],
   "source": [
    "acc_train = session.run(accuracy, feed_dict={x_data: [x_train], y_target: [y_train]})\n",
    "acc_test = session.run(accuracy, feed_dict={x_data: [x_test], y_target: [y_test]})"
   ]
  },
  {
   "cell_type": "code",
   "execution_count": 85,
   "metadata": {},
   "outputs": [
    {
     "name": "stdout",
     "output_type": "stream",
     "text": [
      "Precisión en el conjunto de entrenamiento: 0.9875\n",
      "Precisión en el conjunto de testing: 0.9750\n"
     ]
    }
   ],
   "source": [
    "print(\"Precisión en el conjunto de entrenamiento: {:.4f}\".format(acc_train))\n",
    "print(\"Precisión en el conjunto de testing: {:.4f}\".format(acc_test))"
   ]
  },
  {
   "cell_type": "markdown",
   "metadata": {},
   "source": [
    "#### Visualización de los modelos"
   ]
  },
  {
   "cell_type": "code",
   "execution_count": 86,
   "metadata": {},
   "outputs": [
    {
     "data": {
      "text/plain": [
       "array([-0.14997971], dtype=float32)"
      ]
     },
     "execution_count": 86,
     "metadata": {},
     "output_type": "execute_result"
    }
   ],
   "source": [
    "A_result = session.run(A)\n",
    "A_result"
   ]
  },
  {
   "cell_type": "code",
   "execution_count": 89,
   "metadata": {},
   "outputs": [
    {
     "data": {
      "image/png": "[encoded data removed]",
      "text/plain": [
       "<Figure size 1080x720 with 1 Axes>"
      ]
     },
     "metadata": {
      "needs_background": "light"
     },
     "output_type": "display_data"
    }
   ],
   "source": [
    "bins = np.linspace(-5,5,50)\n",
    "plt.figure(figsize=(15,10))\n",
    "plt.hist(x_vals[:100], bins=bins, alpha=0.5, label=\"N(-2,1)\", color=\"red\")\n",
    "plt.hist(x_vals[100:], bins=bins, alpha=0.5, label=\"N(2,1)\", color=\"yellow\")\n",
    "plt.plot((A_result, A_result), (0,14), \"k--\", linewidth=4, label=\"A \"+str(np.round(A_result, 2)))\n",
    "plt.legend(loc=\"upper right\")\n",
    "plt.title(\"Clasificador binario de precisión {:.2f}\".format(acc_train))\n",
    "plt.show()"
   ]
  },
  {
   "cell_type": "code",
   "execution_count": null,
   "metadata": {},
   "outputs": [],
   "source": []
  }
 ],
 "metadata": {
  "kernelspec": {
   "display_name": "Python 3",
   "language": "python",
   "name": "python3"
  },
  "language_info": {
   "codemirror_mode": {
    "name": "ipython",
    "version": 3
   },
   "file_extension": ".py",
   "mimetype": "text/x-python",
   "name": "python",
   "nbconvert_exporter": "python",
   "pygments_lexer": "ipython3",
   "version": "3.6.8"
  }
 },
 "nbformat": 4,
 "nbformat_minor": 2
}
