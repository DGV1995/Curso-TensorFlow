{
 "cells": [
  {
   "cell_type": "markdown",
   "metadata": {},
   "source": [
    "# Cómo entrenar con una red ya entrenada"
   ]
  },
  {
   "cell_type": "code",
   "execution_count": 6,
   "metadata": {},
   "outputs": [],
   "source": [
    "import os\n",
    "import tarfile\n",
    "import _pickle as cPickle\n",
    "import numpy as np\n",
    "import urllib.request\n",
    "import scipy.misc\n",
    "from imageio import imwrite"
   ]
  },
  {
   "cell_type": "code",
   "execution_count": 7,
   "metadata": {},
   "outputs": [],
   "source": [
    "cifar_10_url = \"http://www.cs.toronto.edu/~kriz/cifar-10-binary.tar.gz\"\n",
    "data_dir = \"../../datasets/cifar-10-temp\"\n",
    "\n",
    "if not os.path.isdir(data_dir):\n",
    "    os.mkdirs(data_dir)\n",
    "    \n",
    "objects = [\"airplane\",\"automobile\",\"bird\",\"cat\",\"deer\",\"dog\",\"frog\",\"horse\",\"ship\",\"truck\"]\n",
    "objects_es = [\"avión\",\"coche\",\"pájaro\",\"gato\",\"ciervo\",\"perro\",\"rana\",\"caballo\",\"barco\",\"camión\"]"
   ]
  },
  {
   "cell_type": "code",
   "execution_count": 9,
   "metadata": {},
   "outputs": [
    {
     "name": "stdout",
     "output_type": "stream",
     "text": [
      "CIFAR 10 no descargado, vamos a bajarlo (Tamaño estimado ~ 170 Mb)\n"
     ]
    }
   ],
   "source": [
    "target_file = os.path.join(data_dir, \"cifar-10-python.tar.gz\")\n",
    "\n",
    "if not os.path.isfile(target_file):\n",
    "    print(\"CIFAR 10 no descargado, vamos a bajarlo (Tamaño estimado ~ 170 Mb)\")\n",
    "    file, headers = urllib.request.urlretrieve(url=cifar_10_url, filename=target_file)"
   ]
  },
  {
   "cell_type": "code",
   "execution_count": null,
   "metadata": {},
   "outputs": [],
   "source": [
    "tar = tarfile.open(target_file)\n",
    "tar.extractall()"
   ]
  }
 ],
 "metadata": {
  "kernelspec": {
   "display_name": "Python 3",
   "language": "python",
   "name": "python3"
  },
  "language_info": {
   "codemirror_mode": {
    "name": "ipython",
    "version": 3
   },
   "file_extension": ".py",
   "mimetype": "text/x-python",
   "name": "python",
   "nbconvert_exporter": "python",
   "pygments_lexer": "ipython3",
   "version": "3.6.8"
  }
 },
 "nbformat": 4,
 "nbformat_minor": 2
}
