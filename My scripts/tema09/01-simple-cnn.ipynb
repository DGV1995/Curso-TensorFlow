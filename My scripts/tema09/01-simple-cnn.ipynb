{
 "cells": [
  {
   "cell_type": "markdown",
   "metadata": {},
   "source": [
    "# Red neuronal convolucional simple"
   ]
  },
  {
   "cell_type": "markdown",
   "metadata": {},
   "source": [
    "- 2 capas de convolución + ReLu + Max Pooling\n",
    "- 2 capas totalmente conectadas"
   ]
  },
  {
   "cell_type": "code",
   "execution_count": 162,
   "metadata": {},
   "outputs": [],
   "source": [
    "import tensorflow as tf\n",
    "import numpy as np\n",
    "import matplotlib.pyplot as plt\n",
    "from tensorflow.examples.tutorials.mnist import input_data\n",
    "from tensorflow.python.framework import ops"
   ]
  },
  {
   "cell_type": "code",
   "execution_count": 163,
   "metadata": {},
   "outputs": [],
   "source": [
    "session = tf.Session()"
   ]
  },
  {
   "cell_type": "code",
   "execution_count": 164,
   "metadata": {},
   "outputs": [
    {
     "name": "stdout",
     "output_type": "stream",
     "text": [
      "Extracting ../../datasets/MNIST_data/train-images-idx3-ubyte.gz\n",
      "Extracting ../../datasets/MNIST_data/train-labels-idx1-ubyte.gz\n",
      "Extracting ../../datasets/MNIST_data/t10k-images-idx3-ubyte.gz\n",
      "Extracting ../../datasets/MNIST_data/t10k-labels-idx1-ubyte.gz\n"
     ]
    }
   ],
   "source": [
    "data_dir = \"../../datasets/MNIST_data/\"\n",
    "mnist = input_data.read_data_sets(data_dir, one_hot=False)"
   ]
  },
  {
   "cell_type": "code",
   "execution_count": 165,
   "metadata": {},
   "outputs": [
    {
     "data": {
      "text/plain": [
       "<matplotlib.image.AxesImage at 0x1c38aec160>"
      ]
     },
     "execution_count": 165,
     "metadata": {},
     "output_type": "execute_result"
    },
    {
     "data": {
      "image/png": "[encoded data removed]",
      "text/plain": [
       "<Figure size 432x288 with 1 Axes>"
      ]
     },
     "metadata": {
      "needs_background": "light"
     },
     "output_type": "display_data"
    }
   ],
   "source": [
    "x_train = np.array([x.reshape(28,28) for x in mnist.train.images])\n",
    "plt.imshow(x_train[0])"
   ]
  },
  {
   "cell_type": "code",
   "execution_count": 166,
   "metadata": {},
   "outputs": [
    {
     "data": {
      "text/plain": [
       "<matplotlib.image.AxesImage at 0x1c5e45ed30>"
      ]
     },
     "execution_count": 166,
     "metadata": {},
     "output_type": "execute_result"
    },
    {
     "data": {
      "image/png": "[encoded data removed]",
      "text/plain": [
       "<Figure size 432x288 with 1 Axes>"
      ]
     },
     "metadata": {
      "needs_background": "light"
     },
     "output_type": "display_data"
    }
   ],
   "source": [
    "x_test = np.array([x.reshape(28,28) for x in mnist.test.images])\n",
    "plt.imshow(x_test[0])"
   ]
  },
  {
   "cell_type": "code",
   "execution_count": 167,
   "metadata": {},
   "outputs": [],
   "source": [
    "y_train = mnist.train.labels\n",
    "y_test = mnist.test.labels"
   ]
  },
  {
   "cell_type": "code",
   "execution_count": 168,
   "metadata": {},
   "outputs": [
    {
     "data": {
      "text/plain": [
       "array([7, 3, 4, ..., 5, 6, 8], dtype=uint8)"
      ]
     },
     "execution_count": 168,
     "metadata": {},
     "output_type": "execute_result"
    }
   ],
   "source": [
    "y_train"
   ]
  },
  {
   "cell_type": "code",
   "execution_count": 169,
   "metadata": {},
   "outputs": [
    {
     "data": {
      "text/plain": [
       "((55000, 28, 28), (55000,))"
      ]
     },
     "execution_count": 169,
     "metadata": {},
     "output_type": "execute_result"
    }
   ],
   "source": [
    "x_train.shape, y_train.shape"
   ]
  },
  {
   "cell_type": "code",
   "execution_count": 177,
   "metadata": {},
   "outputs": [],
   "source": [
    "batch_size = 100\n",
    "learning_rate = 0.005\n",
    "evaluation_size = 500\n",
    "image_width = x_train[0].shape[0]\n",
    "image_height = x_train[0].shape[1]\n",
    "target_size = max(y_train) + 1\n",
    "num_channels = 1 # Escala de grises\n",
    "generations = 500\n",
    "eval_every = 5\n",
    "conv1_features = 25\n",
    "conv2_features = 50\n",
    "max_pool_size1 = 2\n",
    "max_pool_size2 = 2\n",
    "full_connected_size1 = 100"
   ]
  },
  {
   "cell_type": "code",
   "execution_count": 178,
   "metadata": {},
   "outputs": [],
   "source": [
    "x_input_shape = (batch_size, image_width, image_height, num_channels)\n",
    "\n",
    "# Creamos placeholders distintos para entrenamiento y test, con el objetivo de evitar que se sobreescriban \n",
    "# los datos, como puede pasar si declaramos un único placeholder\n",
    "\n",
    "x_input = tf.placeholder(shape=x_input_shape, dtype=tf.float32)\n",
    "y_target = tf.placeholder(shape=(batch_size), dtype=tf.int32)\n",
    "\n",
    "eval_input_shape = (evaluation_size, image_width, image_height, num_channels)\n",
    "eval_input = tf.placeholder(shape=eval_input_shape, dtype=tf.float32)\n",
    "eval_target = tf.placeholder(shape=(evaluation_size), dtype=tf.int32)"
   ]
  },
  {
   "cell_type": "code",
   "execution_count": 179,
   "metadata": {},
   "outputs": [],
   "source": [
    "conv1_weight = tf.Variable(tf.truncated_normal(shape=[4,4,num_channels,conv1_features], # 4x4 es el tamaño del filtro\n",
    "                                               stddev=0.1, \n",
    "                                               dtype=tf.float32)) \n",
    "conv1_bias = tf.Variable(tf.zeros(shape=[conv1_features], dtype=tf.float32))\n",
    "\n",
    "conv2_weight = tf.Variable(tf.truncated_normal(shape=[4,4,conv1_features, conv2_features]))\n",
    "conv2_bias = tf.Variable(tf.zeros(shape=[conv2_features]))"
   ]
  },
  {
   "cell_type": "code",
   "execution_count": 180,
   "metadata": {},
   "outputs": [],
   "source": [
    "resulting_width = image_width // (max_pool_size1*max_pool_size2) # 28 / (2*2) = 7 (// para división entera)\n",
    "resulting_height = image_height // (max_pool_size1*max_pool_size2)\n",
    "\n",
    "# Número de parámetros de entrada de la primera capa totalmente conectada\n",
    "full1_input_size = resulting_width*resulting_height*conv2_features\n",
    "full1_weight = tf.Variable(tf.truncated_normal(shape=[full1_input_size, full_connected_size1], \n",
    "                                               stddev=0.1, \n",
    "                                               dtype=tf.float32))\n",
    "full1_bias = tf.Variable(tf.truncated_normal(shape=[full_connected_size1], stddev=0.1, dtype=tf.float32))\n",
    "\n",
    "full2_weight = tf.Variable(tf.truncated_normal(shape=[full_connected_size1, target_size], \n",
    "                                               stddev=0.1, \n",
    "                                               dtype=tf.float32))\n",
    "full2_bias = tf.Variable(tf.truncated_normal(shape=[target_size], stddev=0.1, dtype=tf.float32))"
   ]
  },
  {
   "cell_type": "code",
   "execution_count": 181,
   "metadata": {},
   "outputs": [],
   "source": [
    "def my_conv_neural_network(input_data):\n",
    "    # Primera capa de convolución + ReLu + Maxpool\n",
    "    conv1 = tf.nn.conv2d(input=input_data, \n",
    "                         filter=conv1_weight, \n",
    "                         strides=[1,1,1,1], \n",
    "                         padding=\"SAME\")\n",
    "    relu1 = tf.nn.relu(tf.nn.bias_add(conv1, conv1_bias)) # Suma el bias y, a continuación, hace el ReLu\n",
    "    maxpool1 = tf.nn.max_pool(value=relu1, \n",
    "                              ksize=[1, max_pool_size1, max_pool_size1, 1], \n",
    "                              strides=[1, max_pool_size1, max_pool_size1, 1], \n",
    "                              padding=\"SAME\")\n",
    "    \n",
    "    # Segunda capa de convolución\n",
    "    conv2 = tf.nn.conv2d(input=maxpool1, filter=conv2_weight, strides=[1,1,1,1], padding=\"SAME\")\n",
    "    relu2 = tf.nn.relu(tf.nn.bias_add(conv2, conv2_bias))\n",
    "    maxpool2 = tf.nn.max_pool(value=relu2, \n",
    "                              ksize=[1, max_pool_size2, max_pool_size2, 1], \n",
    "                              strides=[1, max_pool_size2, max_pool_size2, 1], \n",
    "                              padding=\"SAME\")\n",
    "    \n",
    "    # Operción de flattening para aplanar la imagen en un vector\n",
    "    final_conv_shape = maxpool2.get_shape().as_list()\n",
    "    final_shape = final_conv_shape[1]*final_conv_shape[2]*final_conv_shape[3]\n",
    "    flat_output = tf.reshape(maxpool2, [final_conv_shape[0], final_shape])\n",
    "    \n",
    "    # Tercera capa, totalmente conectada\n",
    "    fully_layer1 = tf.nn.relu(tf.add(tf.matmul(flat_output, full1_weight), full1_bias))\n",
    "    \n",
    "    #Última capa, totalmente conectada\n",
    "    fully_layer2 = tf.add(tf.matmul(fully_layer1, full2_weight), full2_bias)\n",
    "    \n",
    "    return fully_layer2"
   ]
  },
  {
   "cell_type": "code",
   "execution_count": 182,
   "metadata": {},
   "outputs": [],
   "source": [
    "model_output = my_conv_neural_network(x_input)\n",
    "test_model_output = my_conv_neural_network(eval_input)"
   ]
  },
  {
   "cell_type": "code",
   "execution_count": 183,
   "metadata": {},
   "outputs": [],
   "source": [
    "loss = tf.reduce_mean(tf.nn.sparse_softmax_cross_entropy_with_logits(logits=model_output, labels=y_target))"
   ]
  },
  {
   "cell_type": "code",
   "execution_count": 184,
   "metadata": {},
   "outputs": [],
   "source": [
    "# Aplicamos un softmax para prescindir de las probabilidades y pasar directamente a la categoría\n",
    "prediction = tf.nn.softmax(model_output) \n",
    "test_prediction = tf.nn.softmax(test_model_output)\n",
    "\n",
    "def get_accuracy(logits, targets):\n",
    "    batch_predictions = np.argmax(logits, axis=1)\n",
    "    acc = tf.reduce_mean(tf.cast(tf.equal(batch_predictions, targets), tf.float32))\n",
    "    # num_corrects = np.sum(np.equal(batch_predictions, targets))\n",
    "    # return 100.0*num_corrects/batch_predictions.shape[0]\n",
    "    return acc"
   ]
  },
  {
   "cell_type": "code",
   "execution_count": 185,
   "metadata": {},
   "outputs": [],
   "source": [
    "train = tf.train.MomentumOptimizer(learning_rate=learning_rate, momentum=0.9).minimize(loss)"
   ]
  },
  {
   "cell_type": "code",
   "execution_count": 186,
   "metadata": {},
   "outputs": [],
   "source": [
    "init = tf.global_variables_initializer()\n",
    "session.run(init)"
   ]
  },
  {
   "cell_type": "code",
   "execution_count": null,
   "metadata": {},
   "outputs": [
    {
     "name": "stdout",
     "output_type": "stream",
     "text": [
      "Step #5 ==> Loss: 2.302048921585083, Accuracy: 0.33000001311302185\n",
      "Step #10 ==> Loss: 1.890992283821106, Accuracy: 0.33000001311302185\n",
      "Step #15 ==> Loss: 1.3369841575622559, Accuracy: 0.5699999928474426\n",
      "Step #20 ==> Loss: 1.2255752086639404, Accuracy: 0.6499999761581421\n",
      "Step #25 ==> Loss: 0.7444543242454529, Accuracy: 0.7400000095367432\n",
      "Step #30 ==> Loss: 0.5717993378639221, Accuracy: 0.8399999737739563\n",
      "Step #35 ==> Loss: 0.5130689740180969, Accuracy: 0.8299999833106995\n",
      "Step #40 ==> Loss: 0.5476437211036682, Accuracy: 0.8500000238418579\n",
      "Step #45 ==> Loss: 0.32026931643486023, Accuracy: 0.8999999761581421\n",
      "Step #50 ==> Loss: 0.5307966470718384, Accuracy: 0.8399999737739563\n",
      "Step #55 ==> Loss: 0.4470352828502655, Accuracy: 0.8600000143051147\n",
      "Step #60 ==> Loss: 0.24950730800628662, Accuracy: 0.9399999976158142\n",
      "Step #65 ==> Loss: 0.40268751978874207, Accuracy: 0.8899999856948853\n",
      "Step #70 ==> Loss: 0.550870418548584, Accuracy: 0.8600000143051147\n",
      "Step #75 ==> Loss: 0.3942861557006836, Accuracy: 0.8700000047683716\n",
      "Step #80 ==> Loss: 0.5009751915931702, Accuracy: 0.8700000047683716\n",
      "Step #85 ==> Loss: 0.44962233304977417, Accuracy: 0.8700000047683716\n",
      "Step #90 ==> Loss: 0.26130449771881104, Accuracy: 0.8899999856948853\n",
      "Step #95 ==> Loss: 0.36531221866607666, Accuracy: 0.8799999952316284\n",
      "Step #100 ==> Loss: 0.2260645478963852, Accuracy: 0.949999988079071\n",
      "Step #105 ==> Loss: 0.36197733879089355, Accuracy: 0.8899999856948853\n",
      "Step #110 ==> Loss: 0.339824914932251, Accuracy: 0.8700000047683716\n",
      "Step #115 ==> Loss: 0.2924673557281494, Accuracy: 0.9200000166893005\n",
      "Step #120 ==> Loss: 0.2676313519477844, Accuracy: 0.9200000166893005\n",
      "Step #125 ==> Loss: 0.2779313921928406, Accuracy: 0.8999999761581421\n",
      "Step #130 ==> Loss: 0.1395065188407898, Accuracy: 0.9599999785423279\n",
      "Step #135 ==> Loss: 0.26639020442962646, Accuracy: 0.8899999856948853\n",
      "Step #140 ==> Loss: 0.30477532744407654, Accuracy: 0.9200000166893005\n",
      "Step #145 ==> Loss: 0.2512704133987427, Accuracy: 0.9300000071525574\n",
      "Step #150 ==> Loss: 0.2649613916873932, Accuracy: 0.9200000166893005\n",
      "Step #155 ==> Loss: 0.18266630172729492, Accuracy: 0.9399999976158142\n",
      "Step #160 ==> Loss: 0.15397018194198608, Accuracy: 0.949999988079071\n",
      "Step #165 ==> Loss: 0.18844091892242432, Accuracy: 0.9200000166893005\n",
      "Step #170 ==> Loss: 0.24724870920181274, Accuracy: 0.9399999976158142\n",
      "Step #175 ==> Loss: 0.27289819717407227, Accuracy: 0.9399999976158142\n",
      "Step #180 ==> Loss: 0.1608680784702301, Accuracy: 0.9399999976158142\n",
      "Step #185 ==> Loss: 0.23953764140605927, Accuracy: 0.9100000262260437\n",
      "Step #190 ==> Loss: 0.1474231779575348, Accuracy: 0.9599999785423279\n",
      "Step #195 ==> Loss: 0.1326335221529007, Accuracy: 0.949999988079071\n",
      "Step #200 ==> Loss: 0.18118198215961456, Accuracy: 0.9399999976158142\n",
      "Step #205 ==> Loss: 0.1636987328529358, Accuracy: 0.9399999976158142\n",
      "Step #210 ==> Loss: 0.13267451524734497, Accuracy: 0.9300000071525574\n",
      "Step #215 ==> Loss: 0.1899634301662445, Accuracy: 0.949999988079071\n",
      "Step #220 ==> Loss: 0.13455940783023834, Accuracy: 0.9399999976158142\n",
      "Step #225 ==> Loss: 0.18485313653945923, Accuracy: 0.9300000071525574\n",
      "Step #230 ==> Loss: 0.15926161408424377, Accuracy: 0.949999988079071\n",
      "Step #235 ==> Loss: 0.08856353908777237, Accuracy: 0.9599999785423279\n",
      "Step #240 ==> Loss: 0.17368029057979584, Accuracy: 0.9700000286102295\n",
      "Step #245 ==> Loss: 0.31823551654815674, Accuracy: 0.8700000047683716\n",
      "Step #250 ==> Loss: 0.26129668951034546, Accuracy: 0.9100000262260437\n",
      "Step #255 ==> Loss: 0.11239910125732422, Accuracy: 0.949999988079071\n",
      "Step #260 ==> Loss: 0.16030992567539215, Accuracy: 0.9300000071525574\n",
      "Step #265 ==> Loss: 0.17355583608150482, Accuracy: 0.949999988079071\n",
      "Step #270 ==> Loss: 0.17318029701709747, Accuracy: 0.949999988079071\n",
      "Step #275 ==> Loss: 0.27289247512817383, Accuracy: 0.9399999976158142\n",
      "Step #280 ==> Loss: 0.14773108065128326, Accuracy: 0.9300000071525574\n",
      "Step #285 ==> Loss: 0.2885621190071106, Accuracy: 0.8899999856948853\n",
      "Step #290 ==> Loss: 0.31259486079216003, Accuracy: 0.9100000262260437\n",
      "Step #295 ==> Loss: 0.09008053690195084, Accuracy: 0.9900000095367432\n",
      "Step #300 ==> Loss: 0.1122036948800087, Accuracy: 0.9700000286102295\n",
      "Step #305 ==> Loss: 0.09830014407634735, Accuracy: 0.9700000286102295\n",
      "Step #310 ==> Loss: 0.11257252842187881, Accuracy: 0.949999988079071\n",
      "Step #315 ==> Loss: 0.2045557200908661, Accuracy: 0.9599999785423279\n",
      "Step #320 ==> Loss: 0.08483760803937912, Accuracy: 0.9800000190734863\n",
      "Step #325 ==> Loss: 0.14678214490413666, Accuracy: 0.949999988079071\n",
      "Step #330 ==> Loss: 0.20048847794532776, Accuracy: 0.949999988079071\n",
      "Step #335 ==> Loss: 0.1019318550825119, Accuracy: 0.9599999785423279\n",
      "Step #340 ==> Loss: 0.12452290207147598, Accuracy: 0.9700000286102295\n",
      "Step #345 ==> Loss: 0.09926833212375641, Accuracy: 0.949999988079071\n",
      "Step #350 ==> Loss: 0.15247485041618347, Accuracy: 0.949999988079071\n",
      "Step #355 ==> Loss: 0.1507071703672409, Accuracy: 0.9599999785423279\n",
      "Step #360 ==> Loss: 0.0989801287651062, Accuracy: 0.9599999785423279\n",
      "Step #365 ==> Loss: 0.12960152328014374, Accuracy: 0.9399999976158142\n",
      "Step #370 ==> Loss: 0.12993045151233673, Accuracy: 0.9700000286102295\n",
      "Step #375 ==> Loss: 0.22650150954723358, Accuracy: 0.9599999785423279\n",
      "Step #380 ==> Loss: 0.13029249012470245, Accuracy: 0.9700000286102295\n",
      "Step #385 ==> Loss: 0.15061873197555542, Accuracy: 0.949999988079071\n",
      "Step #390 ==> Loss: 0.09422440826892853, Accuracy: 0.9700000286102295\n",
      "Step #395 ==> Loss: 0.07775046676397324, Accuracy: 0.9800000190734863\n",
      "Step #400 ==> Loss: 0.10788467526435852, Accuracy: 0.9599999785423279\n",
      "Step #405 ==> Loss: 0.20152221620082855, Accuracy: 0.9399999976158142\n",
      "Step #410 ==> Loss: 0.10079893469810486, Accuracy: 0.9800000190734863\n"
     ]
    }
   ],
   "source": [
    "train_loss = []\n",
    "train_acc = []\n",
    "test_acc = []\n",
    "\n",
    "for i in range(generations):\n",
    "    rand_idx = np.random.choice(len(x_train), size=batch_size)\n",
    "    rand_x = np.expand_dims(x_train[rand_idx], 3) # Añadimos los canales de color en el index 3\n",
    "    rand_y = y_train[rand_idx]\n",
    "        \n",
    "    train_dict = {x_input: rand_x, y_target: rand_y}    \n",
    "    session.run(train, feed_dict=train_dict)\n",
    "    \n",
    "    temp_train_loss, temp_train_preds = session.run([loss, prediction], feed_dict=train_dict)\n",
    "    temp_train_acc = session.run(get_accuracy(temp_train_preds, rand_y))\n",
    "    \n",
    "    train_loss.append(temp_train_loss)\n",
    "    train_acc.append(temp_train_acc)\n",
    "    \n",
    "    # Evaluamos cada 50 iteraciones\n",
    "    if (i+1)%eval_every == 0:\n",
    "        rand_idx_eval = np.random.choice(len(x_test), size=evaluation_size)\n",
    "        rand_x_eval = np.expand_dims(x_test[rand_idx_eval], 3) # Añadimos los canales de color en el index 3\n",
    "        rand_y_eval = y_test[rand_idx_eval]\n",
    "\n",
    "        test_dict = {eval_input: rand_x_eval, eval_target: rand_y_eval}\n",
    "\n",
    "        temp_test_preds = session.run(test_prediction, feed_dict=test_dict)\n",
    "        temp_test_acc = session.run(get_accuracy(temp_test_preds, rand_y_eval))\n",
    "        test_acc.append(temp_test_acc)\n",
    "        \n",
    "        print(\"Step #{} ==> Loss: {}, Accuracy: {}\".format(i+1, temp_train_loss, temp_train_acc))"
   ]
  },
  {
   "cell_type": "code",
   "execution_count": null,
   "metadata": {},
   "outputs": [],
   "source": []
  }
 ],
 "metadata": {
  "kernelspec": {
   "display_name": "Python 3",
   "language": "python",
   "name": "python3"
  },
  "language_info": {
   "codemirror_mode": {
    "name": "ipython",
    "version": 3
   },
   "file_extension": ".py",
   "mimetype": "text/x-python",
   "name": "python",
   "nbconvert_exporter": "python",
   "pygments_lexer": "ipython3",
   "version": "3.6.8"
  }
 },
 "nbformat": 4,
 "nbformat_minor": 2
}
