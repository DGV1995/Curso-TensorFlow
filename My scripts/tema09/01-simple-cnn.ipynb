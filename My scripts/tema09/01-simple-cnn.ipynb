{
 "cells": [
  {
   "cell_type": "markdown",
   "metadata": {},
   "source": [
    "# Red neuronal convolucional simple"
   ]
  },
  {
   "cell_type": "markdown",
   "metadata": {},
   "source": [
    "- 2 capas de convolución + ReLu + Max Pooling\n",
    "- 2 capas totalmente conectadas (la última es el valor de salida)"
   ]
  },
  {
   "cell_type": "code",
   "execution_count": 204,
   "metadata": {},
   "outputs": [],
   "source": [
    "import tensorflow as tf\n",
    "import numpy as np\n",
    "import matplotlib.pyplot as plt\n",
    "from tensorflow.examples.tutorials.mnist import input_data\n",
    "from tensorflow.python.framework import ops"
   ]
  },
  {
   "cell_type": "code",
   "execution_count": 205,
   "metadata": {},
   "outputs": [],
   "source": [
    "session = tf.Session()"
   ]
  },
  {
   "cell_type": "code",
   "execution_count": 206,
   "metadata": {},
   "outputs": [
    {
     "name": "stdout",
     "output_type": "stream",
     "text": [
      "Extracting ../../datasets/MNIST_data/train-images-idx3-ubyte.gz\n",
      "Extracting ../../datasets/MNIST_data/train-labels-idx1-ubyte.gz\n",
      "Extracting ../../datasets/MNIST_data/t10k-images-idx3-ubyte.gz\n",
      "Extracting ../../datasets/MNIST_data/t10k-labels-idx1-ubyte.gz\n"
     ]
    }
   ],
   "source": [
    "data_dir = \"../../datasets/MNIST_data/\"\n",
    "mnist = input_data.read_data_sets(data_dir, one_hot=False)"
   ]
  },
  {
   "cell_type": "code",
   "execution_count": 207,
   "metadata": {},
   "outputs": [
    {
     "data": {
      "text/plain": [
       "<matplotlib.image.AxesImage at 0x1c6194ac18>"
      ]
     },
     "execution_count": 207,
     "metadata": {},
     "output_type": "execute_result"
    },
    {
     "data": {
      "image/png": "[encoded data removed]",
      "text/plain": [
       "<Figure size 432x288 with 1 Axes>"
      ]
     },
     "metadata": {
      "needs_background": "light"
     },
     "output_type": "display_data"
    }
   ],
   "source": [
    "x_train = np.array([x.reshape(28,28) for x in mnist.train.images])\n",
    "plt.imshow(x_train[0])"
   ]
  },
  {
   "cell_type": "code",
   "execution_count": 208,
   "metadata": {},
   "outputs": [
    {
     "data": {
      "text/plain": [
       "<matplotlib.image.AxesImage at 0x1c61c66278>"
      ]
     },
     "execution_count": 208,
     "metadata": {},
     "output_type": "execute_result"
    },
    {
     "data": {
      "image/png": "[encoded data removed]",
      "text/plain": [
       "<Figure size 432x288 with 1 Axes>"
      ]
     },
     "metadata": {
      "needs_background": "light"
     },
     "output_type": "display_data"
    }
   ],
   "source": [
    "x_test = np.array([x.reshape(28,28) for x in mnist.test.images])\n",
    "plt.imshow(x_test[0])"
   ]
  },
  {
   "cell_type": "code",
   "execution_count": 209,
   "metadata": {},
   "outputs": [],
   "source": [
    "y_train = mnist.train.labels\n",
    "y_test = mnist.test.labels"
   ]
  },
  {
   "cell_type": "code",
   "execution_count": 210,
   "metadata": {},
   "outputs": [
    {
     "data": {
      "text/plain": [
       "array([7, 3, 4, ..., 5, 6, 8], dtype=uint8)"
      ]
     },
     "execution_count": 210,
     "metadata": {},
     "output_type": "execute_result"
    }
   ],
   "source": [
    "y_train"
   ]
  },
  {
   "cell_type": "code",
   "execution_count": 211,
   "metadata": {},
   "outputs": [
    {
     "data": {
      "text/plain": [
       "((55000, 28, 28), (55000,))"
      ]
     },
     "execution_count": 211,
     "metadata": {},
     "output_type": "execute_result"
    }
   ],
   "source": [
    "x_train.shape, y_train.shape"
   ]
  },
  {
   "cell_type": "code",
   "execution_count": 213,
   "metadata": {},
   "outputs": [],
   "source": [
    "batch_size = 100 # Número de muestras en cada iteración\n",
    "learning_rate = 0.005 # Ratio de aprendizaje\n",
    "evaluation_size = 500 # Tamaño del conjunto de test\n",
    "image_width = x_train[0].shape[0]\n",
    "image_height = x_train[0].shape[1]\n",
    "target_size = max(y_train) + 1 # Tamaño del output (10 números distintos (0-9))\n",
    "num_channels = 1 # Escala de grises\n",
    "generations = 200 # Número de iteraciones para el entrenamiento\n",
    "eval_every = 5\n",
    "conv1_features = 25 # Número de pesos de la primera capa de convolución\n",
    "conv2_features = 50 # Número de pesos de la segunda capa de convolución\n",
    "max_pool_size1 = 2 # Tamaño de la parrilla de max pooling de la primera capa de convolución\n",
    "max_pool_size2 = 2 # Tamaño de la parrilla de max pooling de la segunda capa de convolución\n",
    "full_connected_size1 = 100 # Número de pesos de la primera capa totalmente conectada"
   ]
  },
  {
   "cell_type": "code",
   "execution_count": 214,
   "metadata": {},
   "outputs": [],
   "source": [
    "# Forma de las imágenes (número de imágenes, anchura, altura, canales de color)\n",
    "x_input_shape = (batch_size, image_width, image_height, num_channels)\n",
    "x_input = tf.placeholder(shape=x_input_shape, dtype=tf.float32)\n",
    "y_target = tf.placeholder(shape=(batch_size), dtype=tf.int32)\n",
    "\n",
    "# Creamos placeholders distintos para entrenamiento y test, con el objetivo de evitar que se sobreescriban \n",
    "# los datos, como puede pasar si declaramos un único placeholder\n",
    "\n",
    "eval_input_shape = (evaluation_size, image_width, image_height, num_channels)\n",
    "eval_input = tf.placeholder(shape=eval_input_shape, dtype=tf.float32)\n",
    "eval_target = tf.placeholder(shape=(evaluation_size), dtype=tf.int32)"
   ]
  },
  {
   "cell_type": "code",
   "execution_count": 215,
   "metadata": {},
   "outputs": [],
   "source": [
    "# En la primera capa de convolución, aplicamos un filtro 4x4\n",
    "conv1_weight = tf.Variable(tf.truncated_normal(shape=[4,4,num_channels,conv1_features], \n",
    "                                               stddev=0.1, \n",
    "                                               dtype=tf.float32)) \n",
    "conv1_bias = tf.Variable(tf.zeros(shape=[conv1_features], dtype=tf.float32))\n",
    "\n",
    "conv2_weight = tf.Variable(tf.truncated_normal(shape=[4,4,conv1_features, conv2_features]))\n",
    "conv2_bias = tf.Variable(tf.zeros(shape=[conv2_features]))"
   ]
  },
  {
   "cell_type": "code",
   "execution_count": 216,
   "metadata": {},
   "outputs": [],
   "source": [
    "# Tamaño de las imágenes después de las dos redes de convolución (7x7)\n",
    "resulting_width = image_width // (max_pool_size1*max_pool_size2) # 28 / (2*2) = 7 (// para división entera)\n",
    "resulting_height = image_height // (max_pool_size1*max_pool_size2)\n",
    "\n",
    "# Número de parámetros de entrada de la primera capa totalmente conectada\n",
    "full1_input_size = resulting_width*resulting_height*conv2_features\n",
    "full1_weight = tf.Variable(tf.truncated_normal(shape=[full1_input_size, full_connected_size1], \n",
    "                                               stddev=0.1, \n",
    "                                               dtype=tf.float32))\n",
    "full1_bias = tf.Variable(tf.truncated_normal(shape=[full_connected_size1], stddev=0.1, dtype=tf.float32))\n",
    "\n",
    "full2_weight = tf.Variable(tf.truncated_normal(shape=[full_connected_size1, target_size], \n",
    "                                               stddev=0.1, \n",
    "                                               dtype=tf.float32))\n",
    "full2_bias = tf.Variable(tf.truncated_normal(shape=[target_size], stddev=0.1, dtype=tf.float32))"
   ]
  },
  {
   "cell_type": "code",
   "execution_count": 217,
   "metadata": {},
   "outputs": [],
   "source": [
    "def my_conv_neural_network(input_data):\n",
    "    # Primera capa de convolución + ReLu + Maxpool\n",
    "    conv1 = tf.nn.conv2d(input=input_data, \n",
    "                         filter=conv1_weight, \n",
    "                         strides=[1,1,1,1], \n",
    "                         padding=\"SAME\")\n",
    "    relu1 = tf.nn.relu(tf.nn.bias_add(conv1, conv1_bias)) # Suma el bias y, a continuación, hace el ReLu\n",
    "    maxpool1 = tf.nn.max_pool(value=relu1, \n",
    "                              ksize=[1, max_pool_size1, max_pool_size1, 1], \n",
    "                              strides=[1, max_pool_size1, max_pool_size1, 1], \n",
    "                              padding=\"SAME\")\n",
    "    \n",
    "    # Segunda capa de convolución\n",
    "    conv2 = tf.nn.conv2d(input=maxpool1, filter=conv2_weight, strides=[1,1,1,1], padding=\"SAME\")\n",
    "    relu2 = tf.nn.relu(tf.nn.bias_add(conv2, conv2_bias))\n",
    "    maxpool2 = tf.nn.max_pool(value=relu2, \n",
    "                              ksize=[1, max_pool_size2, max_pool_size2, 1], \n",
    "                              strides=[1, max_pool_size2, max_pool_size2, 1], \n",
    "                              padding=\"SAME\")\n",
    "    \n",
    "    # Operción de flattening para aplanar la imagen en un vector\n",
    "    final_conv_shape = maxpool2.get_shape().as_list()\n",
    "    final_shape = final_conv_shape[1]*final_conv_shape[2]*final_conv_shape[3]\n",
    "    flat_output = tf.reshape(maxpool2, [final_conv_shape[0], final_shape])\n",
    "    \n",
    "    # Tercera capa, totalmente conectada\n",
    "    fully_layer1 = tf.nn.relu(tf.add(tf.matmul(flat_output, full1_weight), full1_bias))\n",
    "    \n",
    "    #Última capa, totalmente conectada\n",
    "    fully_layer2 = tf.add(tf.matmul(fully_layer1, full2_weight), full2_bias)\n",
    "    \n",
    "    return fully_layer2"
   ]
  },
  {
   "cell_type": "code",
   "execution_count": 218,
   "metadata": {},
   "outputs": [],
   "source": [
    "model_output = my_conv_neural_network(x_input)\n",
    "test_model_output = my_conv_neural_network(eval_input)"
   ]
  },
  {
   "cell_type": "code",
   "execution_count": 219,
   "metadata": {},
   "outputs": [],
   "source": [
    "loss = tf.reduce_mean(tf.nn.sparse_softmax_cross_entropy_with_logits(logits=model_output, labels=y_target))"
   ]
  },
  {
   "cell_type": "code",
   "execution_count": 220,
   "metadata": {},
   "outputs": [],
   "source": [
    "# Aplicamos un softmax para prescindir de las probabilidades y pasar directamente a la categoría\n",
    "prediction = tf.nn.softmax(model_output) \n",
    "test_prediction = tf.nn.softmax(test_model_output)\n",
    "\n",
    "def get_accuracy(logits, targets):\n",
    "    batch_predictions = np.argmax(logits, axis=1)\n",
    "    acc = tf.reduce_mean(tf.cast(tf.equal(batch_predictions, targets), tf.float32))\n",
    "    # num_corrects = np.sum(np.equal(batch_predictions, targets))\n",
    "    # return 100.0*num_corrects/batch_predictions.shape[0]\n",
    "    return acc"
   ]
  },
  {
   "cell_type": "code",
   "execution_count": 221,
   "metadata": {},
   "outputs": [],
   "source": [
    "train = tf.train.MomentumOptimizer(learning_rate=learning_rate, momentum=0.9).minimize(loss)"
   ]
  },
  {
   "cell_type": "code",
   "execution_count": 222,
   "metadata": {},
   "outputs": [],
   "source": [
    "init = tf.global_variables_initializer()\n",
    "session.run(init)"
   ]
  },
  {
   "cell_type": "code",
   "execution_count": 223,
   "metadata": {},
   "outputs": [
    {
     "name": "stdout",
     "output_type": "stream",
     "text": [
      "Step #5 ==> Loss: 2.5883126258850098, Accuracy: 0.3400000035762787\n",
      "Step #10 ==> Loss: 1.8108816146850586, Accuracy: 0.4000000059604645\n",
      "Step #15 ==> Loss: 1.764673113822937, Accuracy: 0.4000000059604645\n",
      "Step #20 ==> Loss: 1.2214195728302002, Accuracy: 0.5699999928474426\n",
      "Step #25 ==> Loss: 0.9333517551422119, Accuracy: 0.6700000166893005\n",
      "Step #30 ==> Loss: 0.745419442653656, Accuracy: 0.7699999809265137\n",
      "Step #35 ==> Loss: 0.5583617687225342, Accuracy: 0.8100000023841858\n",
      "Step #40 ==> Loss: 0.3241143822669983, Accuracy: 0.9200000166893005\n",
      "Step #45 ==> Loss: 0.46767768263816833, Accuracy: 0.8899999856948853\n",
      "Step #50 ==> Loss: 0.3287030756473541, Accuracy: 0.8899999856948853\n",
      "Step #55 ==> Loss: 0.4975167214870453, Accuracy: 0.8299999833106995\n",
      "Step #60 ==> Loss: 0.44645172357559204, Accuracy: 0.8999999761581421\n",
      "Step #65 ==> Loss: 0.3128787577152252, Accuracy: 0.8500000238418579\n",
      "Step #70 ==> Loss: 0.5250556468963623, Accuracy: 0.8600000143051147\n",
      "Step #75 ==> Loss: 0.48271700739860535, Accuracy: 0.8899999856948853\n",
      "Step #80 ==> Loss: 0.2941471338272095, Accuracy: 0.9100000262260437\n",
      "Step #85 ==> Loss: 0.2897647023200989, Accuracy: 0.9100000262260437\n",
      "Step #90 ==> Loss: 0.2414253205060959, Accuracy: 0.9300000071525574\n",
      "Step #95 ==> Loss: 0.29170694947242737, Accuracy: 0.9100000262260437\n",
      "Step #100 ==> Loss: 0.25326499342918396, Accuracy: 0.9399999976158142\n",
      "Step #105 ==> Loss: 0.4437386393547058, Accuracy: 0.8600000143051147\n",
      "Step #110 ==> Loss: 0.24992145597934723, Accuracy: 0.949999988079071\n",
      "Step #115 ==> Loss: 0.20496197044849396, Accuracy: 0.9399999976158142\n",
      "Step #120 ==> Loss: 0.27898773550987244, Accuracy: 0.9100000262260437\n",
      "Step #125 ==> Loss: 0.2658062279224396, Accuracy: 0.9300000071525574\n",
      "Step #130 ==> Loss: 0.2828023135662079, Accuracy: 0.9300000071525574\n",
      "Step #135 ==> Loss: 0.18261045217514038, Accuracy: 0.9599999785423279\n",
      "Step #140 ==> Loss: 0.22140760719776154, Accuracy: 0.9300000071525574\n",
      "Step #145 ==> Loss: 0.07522888481616974, Accuracy: 0.9800000190734863\n",
      "Step #150 ==> Loss: 0.37096190452575684, Accuracy: 0.8999999761581421\n",
      "Step #155 ==> Loss: 0.137845978140831, Accuracy: 0.9599999785423279\n",
      "Step #160 ==> Loss: 0.22488662600517273, Accuracy: 0.9200000166893005\n",
      "Step #165 ==> Loss: 0.20803537964820862, Accuracy: 0.9300000071525574\n",
      "Step #170 ==> Loss: 0.28027209639549255, Accuracy: 0.9200000166893005\n",
      "Step #175 ==> Loss: 0.18651586771011353, Accuracy: 0.9300000071525574\n",
      "Step #180 ==> Loss: 0.1609397530555725, Accuracy: 0.9599999785423279\n",
      "Step #185 ==> Loss: 0.13031142950057983, Accuracy: 0.9399999976158142\n",
      "Step #190 ==> Loss: 0.2729957401752472, Accuracy: 0.9300000071525574\n",
      "Step #195 ==> Loss: 0.1572316586971283, Accuracy: 0.9300000071525574\n",
      "Step #200 ==> Loss: 0.20577435195446014, Accuracy: 0.9300000071525574\n"
     ]
    }
   ],
   "source": [
    "train_loss = []\n",
    "train_acc = []\n",
    "test_acc = []\n",
    "\n",
    "for i in range(generations):\n",
    "    rand_idx = np.random.choice(len(x_train), size=batch_size)\n",
    "    rand_x = np.expand_dims(x_train[rand_idx], 3) # Añadimos los canales de color en el index 3\n",
    "    rand_y = y_train[rand_idx]\n",
    "        \n",
    "    train_dict = {x_input: rand_x, y_target: rand_y}    \n",
    "    session.run(train, feed_dict=train_dict)\n",
    "    \n",
    "    temp_train_loss, temp_train_preds = session.run([loss, prediction], feed_dict=train_dict)\n",
    "    temp_train_acc = session.run(get_accuracy(temp_train_preds, rand_y))\n",
    "    \n",
    "    train_loss.append(temp_train_loss)\n",
    "    train_acc.append(temp_train_acc)\n",
    "    \n",
    "    # Evaluamos cada 50 iteraciones\n",
    "    if (i+1)%eval_every == 0:\n",
    "        rand_idx_eval = np.random.choice(len(x_test), size=evaluation_size)\n",
    "        rand_x_eval = np.expand_dims(x_test[rand_idx_eval], 3) # Añadimos los canales de color en el index 3\n",
    "        rand_y_eval = y_test[rand_idx_eval]\n",
    "\n",
    "        test_dict = {eval_input: rand_x_eval, eval_target: rand_y_eval}\n",
    "\n",
    "        temp_test_preds = session.run(test_prediction, feed_dict=test_dict)\n",
    "        temp_test_acc = session.run(get_accuracy(temp_test_preds, rand_y_eval))\n",
    "        test_acc.append(temp_test_acc)\n",
    "        \n",
    "        print(\"Step #{} ==> Loss: {}, Accuracy: {}\".format(i+1, temp_train_loss, temp_train_acc))"
   ]
  },
  {
   "cell_type": "markdown",
   "metadata": {},
   "source": [
    "## Evaluar la calidad de la red reuronal"
   ]
  },
  {
   "cell_type": "code",
   "execution_count": 224,
   "metadata": {},
   "outputs": [
    {
     "data": {
      "image/png": "[encoded data removed]",
      "text/plain": [
       "<Figure size 432x288 with 1 Axes>"
      ]
     },
     "metadata": {
      "needs_background": "light"
     },
     "output_type": "display_data"
    }
   ],
   "source": [
    "plt.plot(train_loss, \"k-\")\n",
    "plt.title(\"Softmax Loss para cada Iteración\")\n",
    "plt.xlabel(\"Iteración\")\n",
    "plt.title(\"Pérdida Softmax\")\n",
    "plt.show()"
   ]
  },
  {
   "cell_type": "code",
   "execution_count": 225,
   "metadata": {},
   "outputs": [
    {
     "data": {
      "image/png": "[encoded data removed]",
      "text/plain": [
       "<Figure size 720x432 with 1 Axes>"
      ]
     },
     "metadata": {
      "needs_background": "light"
     },
     "output_type": "display_data"
    }
   ],
   "source": [
    "plt.figure(figsize=(10,6))\n",
    "plt.plot(train_acc, \"r\", label=\"Entrenamiento\")\n",
    "plt.plot(test_acc, \"g--\", label=\"Test\")\n",
    "plt.title(\"Precisión para cada Iteración\")\n",
    "plt.xlabel(\"Iteración\")\n",
    "plt.title(\"Precisión\")\n",
    "plt.ylim([0,1])\n",
    "plt.legend(\"lower right\")\n",
    "plt.show()"
   ]
  },
  {
   "cell_type": "code",
   "execution_count": 246,
   "metadata": {},
   "outputs": [
    {
     "data": {
      "image/png": "[encoded data removed]",
      "text/plain": [
       "<Figure size 1008x576 with 6 Axes>"
      ]
     },
     "metadata": {
      "needs_background": "light"
     },
     "output_type": "display_data"
    }
   ],
   "source": [
    "actuals = rand_y[0:6]\n",
    "predictions = np.argmax(temp_train_preds, axis=1)[0:6]\n",
    "images = np.squeeze(rand_x[0:6]) # Quito las columnas innecesarias (la primera y la última)\n",
    "n_rows = 2\n",
    "n_cols = 3\n",
    "\n",
    "plt.figure(figsize=(14,8))\n",
    "\n",
    "for i in range(n_rows*n_cols):\n",
    "    plt.subplot(n_rows, n_cols, i+1)\n",
    "    \n",
    "    if actuals[i] == predictions[i]:\n",
    "        color = \"green\"\n",
    "    else:\n",
    "        color = \"red\"\n",
    "        \n",
    "    plt.title(\"Valor real: {} \\n Valor predecido: {}\".format(actuals[i], predictions[i]), color=color)\n",
    "    plt.imshow(images[i].reshape(28,28), cmap=\"Greys_r\")\n",
    "    frame = plt.gca()\n",
    "    frame.axes.get_xaxis().set_visible(False)\n",
    "    frame.axes.get_yaxis().set_visible(False)\n",
    "    plt.subplots_adjust(hspace=0.5)\n",
    "    \n",
    "plt.show()"
   ]
  },
  {
   "cell_type": "code",
   "execution_count": null,
   "metadata": {},
   "outputs": [],
   "source": []
  }
 ],
 "metadata": {
  "kernelspec": {
   "display_name": "Python 3",
   "language": "python",
   "name": "python3"
  },
  "language_info": {
   "codemirror_mode": {
    "name": "ipython",
    "version": 3
   },
   "file_extension": ".py",
   "mimetype": "text/x-python",
   "name": "python",
   "nbconvert_exporter": "python",
   "pygments_lexer": "ipython3",
   "version": "3.6.8"
  }
 },
 "nbformat": 4,
 "nbformat_minor": 2
}
