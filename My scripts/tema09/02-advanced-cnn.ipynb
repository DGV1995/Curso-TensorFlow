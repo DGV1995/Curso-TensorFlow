{
 "cells": [
  {
   "cell_type": "markdown",
   "metadata": {},
   "source": [
    "# Red neuronal convolucional avanzada para detectar objetos"
   ]
  },
  {
   "cell_type": "code",
   "execution_count": 3,
   "metadata": {},
   "outputs": [],
   "source": [
    "import tensorflow as tf\n",
    "import numpy as np\n",
    "import matplotlib.pyplot as plt\n",
    "from tensorflow.python.framework import ops\n",
    "import os\n",
    "import sys\n",
    "import tarfile\n",
    "from six.moves import urllib"
   ]
  },
  {
   "cell_type": "code",
   "execution_count": 4,
   "metadata": {},
   "outputs": [],
   "source": [
    "session = tf.Session()"
   ]
  },
  {
   "cell_type": "code",
   "execution_count": 8,
   "metadata": {},
   "outputs": [],
   "source": [
    "batch_size = 128 # Número de imágenes\n",
    "output_every = 50\n",
    "generations = 20000 # Número de iteraciones\n",
    "eval_every = 500\n",
    "\n",
    "image_height = 32\n",
    "image_width = 32\n",
    "\n",
    "crop_height = 24 # Tamaño al que cambiaremos la images para que la red neuronal aprenda todavía más\n",
    "crop_width = 24\n",
    "\n",
    "num_channels = 3 # Será imágenes rgb\n",
    "num_targets = 10\n",
    "\n",
    "data_folder = \"../../datasets/cifar-10-batches-bin\""
   ]
  },
  {
   "cell_type": "markdown",
   "metadata": {},
   "source": [
    "$$ Learning\\ rate = 0.1 \\cdot 0.9^{\\frac{x}{250}} $$\n",
    "\n",
    "Empieza en 0.1 y baja un 10% cada 250 iteraciones"
   ]
  },
  {
   "cell_type": "code",
   "execution_count": 9,
   "metadata": {},
   "outputs": [],
   "source": [
    "learning_rate = 0.1\n",
    "lr_decay = 0.9\n",
    "num_generations_to_wait = 250"
   ]
  },
  {
   "cell_type": "code",
   "execution_count": 10,
   "metadata": {},
   "outputs": [],
   "source": [
    "image_vect_length = image_width*image_height*num_channels\n",
    "record_lenght = 1 + image_vect_length"
   ]
  },
  {
   "cell_type": "markdown",
   "metadata": {},
   "source": [
    "### Descarga y procesamiento de CIFAR 10"
   ]
  },
  {
   "cell_type": "code",
   "execution_count": 11,
   "metadata": {},
   "outputs": [],
   "source": [
    "# Directorio donde queremos guardar las imágenes\n",
    "data_dir = \"../../datasets/cifar-10-temp\"\n",
    "\n",
    "# Si no existe el directorio, lo crea\n",
    "if not os.path.exists(data_dir):\n",
    "    os.makedirs(data_dir)\n",
    "\n",
    "# Url desde la que descargamos los datos\n",
    "cifar_10_url = \"http://www.cs.toronto.edu/~kriz/cifar-10-binary.tar.gz\"\n",
    "# Nombre del fichero comprimido descargado\n",
    "data_file = os.path.join(data_dir, \"cifar-10-binary.tar.gz\")\n",
    "\n",
    "# Si el fichero no existe\n",
    "if not os.path.isfile(data_file):\n",
    "    # Guarda el fichero de la url 'cifar-10-url' en la ruta 'data_file'\n",
    "    file_path, _ = urllib.request.urlretrieve(url=cifar_10_url, filename=data_file)\n",
    "    # Extraer los ficheros del archivo comprimido\n",
    "    tarfile.open(file_path, \"r:gz\").extractall(data_dir)"
   ]
  },
  {
   "cell_type": "code",
   "execution_count": null,
   "metadata": {},
   "outputs": [],
   "source": []
  }
 ],
 "metadata": {
  "kernelspec": {
   "display_name": "Python 3",
   "language": "python",
   "name": "python3"
  },
  "language_info": {
   "codemirror_mode": {
    "name": "ipython",
    "version": 3
   },
   "file_extension": ".py",
   "mimetype": "text/x-python",
   "name": "python",
   "nbconvert_exporter": "python",
   "pygments_lexer": "ipython3",
   "version": "3.6.8"
  }
 },
 "nbformat": 4,
 "nbformat_minor": 2
}
