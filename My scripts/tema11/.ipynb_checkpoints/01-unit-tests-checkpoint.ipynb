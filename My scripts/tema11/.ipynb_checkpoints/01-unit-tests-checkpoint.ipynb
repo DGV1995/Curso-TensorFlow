{
 "cells": [
  {
   "cell_type": "markdown",
   "metadata": {},
   "source": [
    "# Unit tests con TensorFlow"
   ]
  },
  {
   "cell_type": "code",
   "execution_count": 1,
   "metadata": {},
   "outputs": [],
   "source": [
    "import sys\n",
    "import numpy as np\n",
    "import tensorflow as tf"
   ]
  },
  {
   "cell_type": "code",
   "execution_count": 2,
   "metadata": {},
   "outputs": [],
   "source": [
    "session = tf.Session()"
   ]
  },
  {
   "cell_type": "code",
   "execution_count": 3,
   "metadata": {},
   "outputs": [
    {
     "name": "stdout",
     "output_type": "stream",
     "text": [
      "Downloading data from https://storage.googleapis.com/tensorflow/tf-keras-datasets/mnist.npz\n",
      "11493376/11490434 [==============================] - 22s 2us/step\n"
     ]
    }
   ],
   "source": [
    "data_dir = \"../../datasets/MNIST_data/\"\n",
    "mnist = tf.keras.datasets.mnist\n",
    "(train_xdata, train_labels), (test_xdata, test_labels) = mnist.load_data()"
   ]
  },
  {
   "cell_type": "code",
   "execution_count": 5,
   "metadata": {},
   "outputs": [],
   "source": [
    "train_xdata = train_xdata/255.0\n",
    "test_xdata = test_xdata/255.0"
   ]
  },
  {
   "cell_type": "code",
   "execution_count": 10,
   "metadata": {},
   "outputs": [],
   "source": [
    "batch_size = 100\n",
    "learning_rate = 0.005\n",
    "evaluation_size = 100\n",
    "image_width = train_xdata[0].shape[1]\n",
    "image_height = train_xdata[0].shape[0]\n",
    "target_size = max(train_labels) + 1\n",
    "num_channels = 1\n",
    "generations = 100\n",
    "eval_every = 5\n",
    "conv1_features = 25\n",
    "conv2_features = 50\n",
    "max_pool_size1 = 2\n",
    "max_pool_size2 = 2\n",
    "fully_connected_size1 = 100\n",
    "dropout_prob = 0.75"
   ]
  },
  {
   "cell_type": "code",
   "execution_count": 13,
   "metadata": {},
   "outputs": [],
   "source": [
    "x_input_shape = (batch_size, image_width, image_height, num_channels)\n",
    "x_input = tf.placeholder(shape=x_input_shape, dtype=tf.float32)\n",
    "y_target = tf.placeholder(shape=(batch_size), dtype=tf.int32)\n",
    "\n",
    "eval_input_shape = (evaluation_size, image_width, image_height, num_channels)\n",
    "eval_input = tf.placeholder(shape=eval_input_shape, dtype=tf.float32)\n",
    "eval_target = tf.placeholder(shape=(evaluation_size), dtype=tf.float32)\n",
    "\n",
    "dropout = tf.placeholder(dtype=tf.float32, shape=())"
   ]
  },
  {
   "cell_type": "code",
   "execution_count": 14,
   "metadata": {},
   "outputs": [
    {
     "name": "stdout",
     "output_type": "stream",
     "text": [
      "WARNING:tensorflow:From /anaconda3/lib/python3.6/site-packages/tensorflow/python/framework/op_def_library.py:263: colocate_with (from tensorflow.python.framework.ops) is deprecated and will be removed in a future version.\n",
      "Instructions for updating:\n",
      "Colocations handled automatically by placer.\n"
     ]
    }
   ],
   "source": [
    "conv1_weight = tf.Variable(tf.truncated_normal(shape=[4,4,num_channels,conv1_features], stddev=0.1, \n",
    "                                               dtype=tf.float32))\n",
    "conv1_bias = tf.Variable(tf.zeros(shape=[conv1_features], dtype=tf.float32))\n",
    "\n",
    "conv2_weight = tf.Variable(tf.truncated_normal(shape=[4,4,conv1_features,conv2_features], stddev=0.1, \n",
    "                                               dtype=tf.float32))\n",
    "conv2_bias = tf.Variable(tf.zeros(shape=[conv2_features], dtype=tf.float32))"
   ]
  },
  {
   "cell_type": "code",
   "execution_count": 15,
   "metadata": {},
   "outputs": [],
   "source": [
    "result_width = image_width//(max_pool_size1+max_pool_size2)\n",
    "result_height = image_height//(max_pool_size1+max_pool_size2)\n",
    "\n",
    "full1_input_size = result_height*result_width*conv1_features\n",
    "full1_weight = tf.Variable(tf.truncated_normal(shape=[full1_input_size, fully_connected_size1], stddev=0.1, \n",
    "                                               dtype=tf.float32))\n",
    "full1_bias = tf.Variable(tf.zeros(shape=[fully_connected_size1], dtype=tf.float32))\n",
    "\n",
    "output_weigh = tf.Variable(tf.truncated_normal(shape=[fully_connected_size1, target_size], stddev=0.1, \n",
    "                                               dtype=tf.float32))\n",
    "output_bias = tf.Variable(tf.zeros(shape=[target_size]))"
   ]
  },
  {
   "cell_type": "code",
   "execution_count": 21,
   "metadata": {},
   "outputs": [],
   "source": [
    "def cnn(input_data):\n",
    "    conv1 = tf.nn.conv2d(input=input_data, filter=conv1_weight, strides=[1,1,1,1], padding=\"SAME\")\n",
    "    relu1 = tf.nn.relu(tf.nn.bias_add(value=conv1, bias=conv1_bias))\n",
    "    maxpool1 = tf.nn.max_pool(value=relu1, ksize=[1,max_pool_size1,max_pool_size1,1], \n",
    "                              strides=[1,max_pool_size1,max_pool_size1,1], padding=\"SAME\")\n",
    "    \n",
    "    conv2 = tf.nn.conv2d(input=maxpool1, filter=conv2_weight, strides=[1,1,1,1], padding=\"SAME\")\n",
    "    relu2 = tf.nn.relu(tf.nn.bias_add(value=conv2, bias=conv2_bias))\n",
    "    maxpool2 = tf.nn.max_pool(value=relu2, ksize=[1,max_pool_size2,max_pool_size2,1], \n",
    "                              strides=[1,max_pool_size2,max_pool_size2,1], padding=\"SAME\")\n",
    "    \n",
    "    final_conv_shape = maxpool2.get_shape().as_list()\n",
    "    final_shape = final_conv_shape[1] * final_conv_shape[2] * final_conv_shape[3]\n",
    "    flat_output = tf.reshape(maxpool2, [final_conv_shape[0], final_shape])\n",
    "    \n",
    "    fully = tf.nn.relu(tf.add(tf.matmul(flat_output, full1_weight), full1_bias))\n",
    "    output = tf.add(tf.matmul(fully, output_weigh), output_bias)\n",
    "    \n",
    "    return tf.nn.dropout(output, keep_prob=dropout_prob)"
   ]
  }
 ],
 "metadata": {
  "kernelspec": {
   "display_name": "Python 3",
   "language": "python",
   "name": "python3"
  },
  "language_info": {
   "codemirror_mode": {
    "name": "ipython",
    "version": 3
   },
   "file_extension": ".py",
   "mimetype": "text/x-python",
   "name": "python",
   "nbconvert_exporter": "python",
   "pygments_lexer": "ipython3",
   "version": "3.6.8"
  }
 },
 "nbformat": 4,
 "nbformat_minor": 2
}
