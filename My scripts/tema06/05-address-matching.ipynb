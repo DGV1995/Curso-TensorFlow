{
 "cells": [
  {
   "cell_type": "markdown",
   "metadata": {},
   "source": [
    "# Correspondencia en direcciones postales"
   ]
  },
  {
   "cell_type": "code",
   "execution_count": 1,
   "metadata": {},
   "outputs": [],
   "source": [
    "import random\n",
    "import string\n",
    "import numpy as np\n",
    "import tensorflow as tf"
   ]
  },
  {
   "cell_type": "code",
   "execution_count": 3,
   "metadata": {},
   "outputs": [],
   "source": [
    "n = 10\n",
    "\n",
    "street_names = [\"diagon\",\"elm\",\"abbey\",\"gran\",\"python\"]\n",
    "street_types = [\"callejon\",\"calle\",\"carretera\",\"via\",\"avenida\"]\n",
    "street_zips = [random.randint(20000,29999) for i in range(5)]\n",
    "numbers = [random.randint(1,999) for i in range(n)]"
   ]
  },
  {
   "cell_type": "code",
   "execution_count": 18,
   "metadata": {},
   "outputs": [],
   "source": [
    "streets = [random.choice(street_names) for i in range(n)]\n",
    "street_prefixes = [random.choice(street_types) for i in range(n)]\n",
    "zips = [random.choice(street_zips) for i in range(n)]\n",
    "\n",
    "full_streets = [x + \" \" + y + \" \" + str(z) for x, y, z in zip(street_prefixes, streets, numbers)]\n",
    "full_directions = [list(x) for x in zip(full_streets, zips)]"
   ]
  },
  {
   "cell_type": "code",
   "execution_count": 19,
   "metadata": {},
   "outputs": [
    {
     "data": {
      "text/plain": [
       "[['carretera gran 639', 26103],\n",
       " ['via gran 528', 27243],\n",
       " ['via elm 815', 23500],\n",
       " ['callejon elm 78', 23500],\n",
       " ['callejon gran 963', 27243],\n",
       " ['avenida diagon 420', 23500],\n",
       " ['calle gran 148', 26103],\n",
       " ['calle gran 883', 24448],\n",
       " ['callejon abbey 146', 24448],\n",
       " ['avenida python 369', 27243]]"
      ]
     },
     "execution_count": 19,
     "metadata": {},
     "output_type": "execute_result"
    }
   ],
   "source": [
    "full_directions"
   ]
  },
  {
   "cell_type": "code",
   "execution_count": 37,
   "metadata": {},
   "outputs": [],
   "source": [
    "# Generar un error\n",
    "def create_typo(s, probability=0.75):\n",
    "    if (random.uniform(0,1)) < 0.75: # En un 75% de los casos\n",
    "        random_idx = random.choice(range(len(s))) # Escoge un índice aleatorio dentro del \n",
    "        string_list = list(s)                             # rango de la longitud de la palabra\n",
    "        string_list[random_idx] = random.choice(string.ascii_lowercase)\n",
    "        s = \"\".join(string_list)\n",
    "    return s"
   ]
  },
  {
   "cell_type": "code",
   "execution_count": 39,
   "metadata": {},
   "outputs": [
    {
     "data": {
      "text/plain": [
       "['gran',\n",
       " 'grnn',\n",
       " 'elm',\n",
       " 'elm',\n",
       " 'nran',\n",
       " 'diagnn',\n",
       " 'gran',\n",
       " 'gxan',\n",
       " 'ybbey',\n",
       " 'pythou']"
      ]
     },
     "execution_count": 39,
     "metadata": {},
     "output_type": "execute_result"
    }
   ],
   "source": [
    "typo_streets = [create_typo(x) for x in streets]\n",
    "typo_streets"
   ]
  },
  {
   "cell_type": "code",
   "execution_count": 41,
   "metadata": {},
   "outputs": [
    {
     "data": {
      "text/plain": [
       "[['carretera gran 639', 26103],\n",
       " ['via grnn 528', 27243],\n",
       " ['via elm 815', 23500],\n",
       " ['callejon elm 78', 23500],\n",
       " ['callejon nran 963', 27243],\n",
       " ['avenida diagnn 420', 23500],\n",
       " ['calle gran 148', 26103],\n",
       " ['calle gxan 883', 24448],\n",
       " ['callejon ybbey 146', 24448],\n",
       " ['avenida pythou 369', 27243]]"
      ]
     },
     "execution_count": 41,
     "metadata": {},
     "output_type": "execute_result"
    }
   ],
   "source": [
    "typo_full_streets = [x + \" \" + y + \" \" + str(z) for x, y, z in zip(street_prefixes, typo_streets, numbers)]\n",
    "typo_full_directions = [list(x) for x in zip(typo_full_streets, zips)]\n",
    "typo_full_directions"
   ]
  },
  {
   "cell_type": "markdown",
   "metadata": {},
   "source": [
    "## Tensorflow"
   ]
  },
  {
   "cell_type": "code",
   "execution_count": 42,
   "metadata": {},
   "outputs": [],
   "source": [
    "session = tf.Session()"
   ]
  },
  {
   "cell_type": "code",
   "execution_count": 44,
   "metadata": {},
   "outputs": [],
   "source": [
    "# Direcciones erróneas\n",
    "test_address = tf.sparse_placeholder(dtype=tf.string) # Es un string ==> tf.sparse_placeholder()\n",
    "test_zip = tf.placeholder(shape=[None,1], dtype=tf.float32)\n",
    "\n",
    "# Direcciones correctas\n",
    "ref_address = tf.sparse_placeholder(dtype=tf.string)\n",
    "ref_zip = tf.placeholder(shape=[None, 1], dtype=tf.float32)"
   ]
  },
  {
   "cell_type": "code",
   "execution_count": 47,
   "metadata": {},
   "outputs": [],
   "source": [
    "# Distancias\n",
    "zip_distance = tf.square(tf.subtract(ref_zip, test_zip))\n",
    "address_distance = tf.edit_distance(ref_address, test_address, normalize=True)"
   ]
  },
  {
   "cell_type": "markdown",
   "metadata": {},
   "source": [
    "- $ S(x,y) = 0 $ si $x$ e $y$ son totalmente diferentes (no se parecen en nada)\n",
    "\n",
    "\n",
    "- $ S(x,x) = 1 $ ya que todo objeto es igual a sí mismo.\n",
    "\n",
    "\n",
    "- $ S(x,y) = \\frac{D - d(x,y)}{D-d} $\n",
    "\n",
    "$S\\equiv$ similaridad\n",
    "\n",
    "$D\\equiv$ mayor distancia posible entre dos objetos\n",
    "\n",
    "$d\\equiv$ menor distancia posible entre dos objetos"
   ]
  },
  {
   "cell_type": "code",
   "execution_count": 50,
   "metadata": {},
   "outputs": [],
   "source": [
    "# Gather = reunir\n",
    "# Squeeze = aplanar\n",
    "zip_max = tf.gather(tf.squeeze(zip_distance), tf.argmax(zip_distance, axis=1)) # Código zip más grande de cada fila\n",
    "zip_min = tf.gather(tf.squeeze(zip_distance), tf.argmin(zip_distance, axis=1)) # Código zip más pequeño de cada fila\n",
    "\n",
    "zip_sim = tf.divide(tf.subtract(zip_max, zip_distance), tf.subtract(zip_max, zip_min))"
   ]
  },
  {
   "cell_type": "code",
   "execution_count": 51,
   "metadata": {},
   "outputs": [],
   "source": [
    "# address_max es 1 y address_min es 0 (porque están normalizadas)\n",
    "address_sim = tf.subtract(1.0, address_distance)"
   ]
  },
  {
   "cell_type": "markdown",
   "metadata": {},
   "source": [
    "$$ S(x,y) = \\sum_{i=1}^k w_i\\cdot S_k(x,y) $$\n",
    "$$ \\sum_{i=1}^k w_i = 1 $$"
   ]
  },
  {
   "cell_type": "code",
   "execution_count": 53,
   "metadata": {},
   "outputs": [],
   "source": [
    "address_wi = 0.5\n",
    "zip_wi = 1.0 - address_wi"
   ]
  },
  {
   "cell_type": "code",
   "execution_count": 54,
   "metadata": {},
   "outputs": [],
   "source": [
    "weighted_sim = tf.add(tf.transpose(tf.multiply(address_wi, address_sim)), tf.multiply(zip_wi, zip_sim))"
   ]
  },
  {
   "cell_type": "code",
   "execution_count": 55,
   "metadata": {},
   "outputs": [],
   "source": [
    "# La dirección más parecida ==> mayor similaridad\n",
    "top_match_idx = tf.argmax(weighted_sim, axis=1) "
   ]
  },
  {
   "cell_type": "code",
   "execution_count": 57,
   "metadata": {},
   "outputs": [],
   "source": [
    "def sparse_from_word_vector(word_vector):\n",
    "    num_words = len(word_vector)\n",
    "    \n",
    "    idx = [[0, x_idx, y_idx] for x_idx, x in enumerate(word_vector) for y_idx, y in enumerate(x)]\n",
    "    vals = list(\"\".join(word_vector))\n",
    "    \n",
    "    return tf.SparseTensorValue(indices=idx, values=vals, dense_shape=[num_words, 1, 1])"
   ]
  },
  {
   "cell_type": "code",
   "execution_count": null,
   "metadata": {},
   "outputs": [],
   "source": []
  }
 ],
 "metadata": {
  "kernelspec": {
   "display_name": "Python 3",
   "language": "python",
   "name": "python3"
  },
  "language_info": {
   "codemirror_mode": {
    "name": "ipython",
    "version": 3
   },
   "file_extension": ".py",
   "mimetype": "text/x-python",
   "name": "python",
   "nbconvert_exporter": "python",
   "pygments_lexer": "ipython3",
   "version": "3.6.8"
  }
 },
 "nbformat": 4,
 "nbformat_minor": 2
}
