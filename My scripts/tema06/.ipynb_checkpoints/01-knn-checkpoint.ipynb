{
 "cells": [
  {
   "cell_type": "markdown",
   "metadata": {},
   "source": [
    "# K-Nearest Neighbours"
   ]
  },
  {
   "cell_type": "markdown",
   "metadata": {},
   "source": [
    "Dataset de entrenamiento con datos $(x_1, x_2, ..., x_n)$ con categorías $(y_1, y_2, ..., y_n)$"
   ]
  },
  {
   "cell_type": "markdown",
   "metadata": {},
   "source": [
    "Para predecir un nuevo punto $z \\rightarrow$ mirar a sus $k$ vecinos más cercanos. Para ello se utilizará:\n",
    "- Una regresión si los $y_i$ con continuos\n",
    "- Una clasificación si los $y_i$ son discretos"
   ]
  },
  {
   "cell_type": "markdown",
   "metadata": {},
   "source": [
    "En problemas de clasificacón discretos con categorías $j$, las predicción se hace por voto por mayoría, ponderando la distancia de los k vecinos con el punto a predecir:\n",
    "$$ f(z) = \\max_j \\sum_{i=1}^k \\phi(d_{ij})I_{ij} $$"
   ]
  },
  {
   "cell_type": "markdown",
   "metadata": {},
   "source": [
    "$ I_{ij} = 1 $ si el punto $i$ pertenece a la clase $j$ y $0$ si no pertenece"
   ]
  },
  {
   "cell_type": "markdown",
   "metadata": {},
   "source": [
    "En problemas continuos de regresión, la predicción se obtiene como la media ponderada de los $k$ puntos más cercanos al que queremos predecir:\n",
    "\n",
    "$$ f(z) = \\frac{1}{k} \\sum_{i=1}^k \\phi(d_i) $$"
   ]
  },
  {
   "cell_type": "markdown",
   "metadata": {},
   "source": [
    "Si $x, y \\in \\mathbb R^m \\rightarrow$ Las distancias más utilizadas en estos problemas son:\n",
    "- $ d_{L1}(x,y) = |x - y| = |x_1 - y_1| + |x_2 - y_2| + ... + |x_m - y_m| = \\sum_{i=1}^m |x_i - y_i| $\n",
    "\n",
    "\n",
    "- $ d_{L2}(x,y) = ||x - y|| = \\sqrt{(x_1 - y_1)^2 + (x_2 - y_2)^2 + ... + (x_m - y_m)^2} $"
   ]
  },
  {
   "cell_type": "code",
   "execution_count": null,
   "metadata": {},
   "outputs": [],
   "source": []
  }
 ],
 "metadata": {
  "kernelspec": {
   "display_name": "Python 3",
   "language": "python",
   "name": "python3"
  },
  "language_info": {
   "codemirror_mode": {
    "name": "ipython",
    "version": 3
   },
   "file_extension": ".py",
   "mimetype": "text/x-python",
   "name": "python",
   "nbconvert_exporter": "python",
   "pygments_lexer": "ipython3",
   "version": "3.6.8"
  }
 },
 "nbformat": 4,
 "nbformat_minor": 2
}
