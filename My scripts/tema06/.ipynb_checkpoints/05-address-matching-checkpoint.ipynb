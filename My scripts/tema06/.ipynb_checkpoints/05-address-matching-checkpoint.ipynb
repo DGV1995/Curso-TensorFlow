{
 "cells": [
  {
   "cell_type": "markdown",
   "metadata": {},
   "source": [
    "# Correspondencia en direcciones postales"
   ]
  },
  {
   "cell_type": "code",
   "execution_count": 67,
   "metadata": {},
   "outputs": [],
   "source": [
    "import random\n",
    "import string\n",
    "import numpy as np\n",
    "import tensorflow as tf"
   ]
  },
  {
   "cell_type": "code",
   "execution_count": 68,
   "metadata": {},
   "outputs": [],
   "source": [
    "n = 10\n",
    "\n",
    "street_names = [\"diagon\",\"elm\",\"abbey\",\"gran\",\"python\"]\n",
    "street_types = [\"callejon\",\"calle\",\"carretera\",\"via\",\"avenida\"]\n",
    "street_zips = [random.randint(20000,29999) for i in range(5)]\n",
    "numbers = [random.randint(1,999) for i in range(n)]"
   ]
  },
  {
   "cell_type": "code",
   "execution_count": 69,
   "metadata": {},
   "outputs": [],
   "source": [
    "streets = [random.choice(street_names) for i in range(n)]\n",
    "street_prefixes = [random.choice(street_types) for i in range(n)]\n",
    "zips = [random.choice(street_zips) for i in range(n)]\n",
    "\n",
    "full_streets = [x + \" \" + y + \" \" + str(z) for x, y, z in zip(street_prefixes, streets, numbers)]\n",
    "full_directions = [list(x) for x in zip(full_streets, zips)]"
   ]
  },
  {
   "cell_type": "code",
   "execution_count": 70,
   "metadata": {},
   "outputs": [
    {
     "data": {
      "text/plain": [
       "[['via gran 346', 26244],\n",
       " ['via python 759', 22130],\n",
       " ['carretera gran 832', 28417],\n",
       " ['via diagon 641', 25492],\n",
       " ['calle abbey 899', 25492],\n",
       " ['callejon elm 723', 28417],\n",
       " ['calle python 122', 25492],\n",
       " ['callejon diagon 94', 22130],\n",
       " ['avenida abbey 827', 25492],\n",
       " ['avenida python 83', 28417]]"
      ]
     },
     "execution_count": 70,
     "metadata": {},
     "output_type": "execute_result"
    }
   ],
   "source": [
    "full_directions"
   ]
  },
  {
   "cell_type": "code",
   "execution_count": 104,
   "metadata": {},
   "outputs": [],
   "source": [
    "# Generar un error\n",
    "def create_typo(s, probability=0.75):\n",
    "    if random.uniform(0,1) < 0.75: # En un 75% de los casos\n",
    "        random_idx = random.choice(range(len(s))) # Escoge un índice aleatorio dentro del \n",
    "        string_list = list(s)                     # rango de la longitud de la palabra\n",
    "        string_list[random_idx] = random.choice(string.ascii_lowercase)\n",
    "        s = \"\".join(string_list)\n",
    "    return s"
   ]
  },
  {
   "cell_type": "code",
   "execution_count": 105,
   "metadata": {},
   "outputs": [
    {
     "data": {
      "text/plain": [
       "['grvn',\n",
       " 'pnthon',\n",
       " 'cran',\n",
       " 'diagon',\n",
       " 'abbey',\n",
       " 'ezm',\n",
       " 'python',\n",
       " 'diaton',\n",
       " 'abbhy',\n",
       " 'puthon']"
      ]
     },
     "execution_count": 105,
     "metadata": {},
     "output_type": "execute_result"
    }
   ],
   "source": [
    "typo_streets = [create_typo(x) for x in streets]\n",
    "typo_streets"
   ]
  },
  {
   "cell_type": "code",
   "execution_count": 73,
   "metadata": {},
   "outputs": [
    {
     "data": {
      "text/plain": [
       "[['via grcn 346', 26244],\n",
       " ['via python 759', 22130],\n",
       " ['carretera gray 832', 28417],\n",
       " ['via diagon 641', 25492],\n",
       " ['calle abbes 899', 25492],\n",
       " ['callejon elq 723', 28417],\n",
       " ['calle pyvhon 122', 25492],\n",
       " ['callejon diagon 94', 22130],\n",
       " ['avenida abbcy 827', 25492],\n",
       " ['avenida pythou 83', 28417]]"
      ]
     },
     "execution_count": 73,
     "metadata": {},
     "output_type": "execute_result"
    }
   ],
   "source": [
    "typo_full_streets = [x + \" \" + y + \" \" + str(z) for x, y, z in zip(street_prefixes, typo_streets, numbers)]\n",
    "typo_full_directions = [list(x) for x in zip(typo_full_streets, zips)]\n",
    "typo_full_directions"
   ]
  },
  {
   "cell_type": "markdown",
   "metadata": {},
   "source": [
    "## Tensorflow"
   ]
  },
  {
   "cell_type": "code",
   "execution_count": 74,
   "metadata": {},
   "outputs": [],
   "source": [
    "session = tf.Session()"
   ]
  },
  {
   "cell_type": "code",
   "execution_count": 87,
   "metadata": {},
   "outputs": [],
   "source": [
    "# Direcciones erróneas\n",
    "test_address = tf.sparse_placeholder(dtype=tf.string) # Es un string ==> tf.sparse_placeholder()\n",
    "test_zip = tf.placeholder(shape=[None,1], dtype=tf.float32)\n",
    "\n",
    "# Direcciones correctas\n",
    "ref_address = tf.sparse_placeholder(dtype=tf.string)\n",
    "ref_zip = tf.placeholder(shape=[None, n], dtype=tf.float32)"
   ]
  },
  {
   "cell_type": "code",
   "execution_count": 88,
   "metadata": {},
   "outputs": [],
   "source": [
    "# Distancias\n",
    "zip_distance = tf.square(tf.subtract(ref_zip, test_zip)) # (zip_t - zip_r)^2\n",
    "address_distance = tf.edit_distance(ref_address, test_address, normalize=True)"
   ]
  },
  {
   "cell_type": "markdown",
   "metadata": {},
   "source": [
    "- $ S(x,y) = 0 $ si $x$ e $y$ son totalmente diferentes (no se parecen en nada)\n",
    "\n",
    "\n",
    "- $ S(x,x) = 1 $ ya que todo objeto es igual a sí mismo.\n",
    "\n",
    "\n",
    "- $ S(x,y) = \\frac{D - d(x,y)}{D-d} $\n",
    "\n",
    "$S\\equiv$ similaridad\n",
    "\n",
    "$D\\equiv$ mayor distancia posible entre dos objetos\n",
    "\n",
    "$d\\equiv$ menor distancia posible entre dos objetos"
   ]
  },
  {
   "cell_type": "code",
   "execution_count": 89,
   "metadata": {},
   "outputs": [],
   "source": [
    "# Gather = reunir\n",
    "# Squeeze = aplanar\n",
    "zip_max = tf.gather(tf.squeeze(zip_distance), tf.argmax(zip_distance, axis=1)) # Código zip más grande de cada fila\n",
    "zip_min = tf.gather(tf.squeeze(zip_distance), tf.argmin(zip_distance, axis=1)) # Código zip más pequeño de cada fila\n",
    "\n",
    "zip_sim = tf.divide(tf.subtract(zip_max, zip_distance), tf.subtract(zip_max, zip_min))"
   ]
  },
  {
   "cell_type": "code",
   "execution_count": 90,
   "metadata": {},
   "outputs": [],
   "source": [
    "# address_max es 1 y address_min es 0 (porque están normalizadas)\n",
    "address_sim = tf.subtract(1.0, address_distance)"
   ]
  },
  {
   "cell_type": "markdown",
   "metadata": {},
   "source": [
    "$$ S(x,y) = \\sum_{i=1}^k w_i\\cdot S_k(x,y) $$\n",
    "$$ \\sum_{i=1}^k w_i = 1 $$"
   ]
  },
  {
   "cell_type": "code",
   "execution_count": 108,
   "metadata": {},
   "outputs": [],
   "source": [
    "# Pesos de ponderación\n",
    "address_wi = 0.5\n",
    "zip_wi = 1.0 - address_wi"
   ]
  },
  {
   "cell_type": "code",
   "execution_count": 109,
   "metadata": {},
   "outputs": [],
   "source": [
    "# Suma de las dos similaridades ponderadas (la de la dirección y la del código postal)\n",
    "weighted_sim = tf.add(tf.transpose(tf.multiply(address_wi, address_sim)), tf.multiply(zip_wi, zip_sim))"
   ]
  },
  {
   "cell_type": "code",
   "execution_count": 93,
   "metadata": {},
   "outputs": [],
   "source": [
    "# La dirección más parecida ==> mayor similaridad\n",
    "top_match_idx = tf.argmax(weighted_sim, axis=1) "
   ]
  },
  {
   "cell_type": "code",
   "execution_count": 94,
   "metadata": {},
   "outputs": [],
   "source": [
    "def sparse_from_word_vector(word_vector):\n",
    "    num_words = len(word_vector)\n",
    "    \n",
    "    idx = [[0, x_idx, y_idx] for x_idx, x in enumerate(word_vector) for y_idx, y in enumerate(x)]\n",
    "    vals = list(\"\".join(word_vector))\n",
    "    \n",
    "    return tf.SparseTensorValue(indices=idx, values=vals, dense_shape=[num_words, 1, 1])"
   ]
  },
  {
   "cell_type": "code",
   "execution_count": 101,
   "metadata": {},
   "outputs": [
    {
     "data": {
      "text/plain": [
       "[['via gran 346', 26244],\n",
       " ['via python 759', 22130],\n",
       " ['carretera gran 832', 28417],\n",
       " ['via diagon 641', 25492],\n",
       " ['calle abbey 899', 25492],\n",
       " ['callejon elm 723', 28417],\n",
       " ['calle python 122', 25492],\n",
       " ['callejon diagon 94', 22130],\n",
       " ['avenida abbey 827', 25492],\n",
       " ['avenida python 83', 28417]]"
      ]
     },
     "execution_count": 101,
     "metadata": {},
     "output_type": "execute_result"
    }
   ],
   "source": [
    "full_directions"
   ]
  },
  {
   "cell_type": "code",
   "execution_count": 95,
   "metadata": {},
   "outputs": [],
   "source": [
    "reference_address = [x[0] for x in full_directions]\n",
    "reference_zips = np.array([[x[1] for x in full_directions]])"
   ]
  },
  {
   "cell_type": "code",
   "execution_count": 96,
   "metadata": {},
   "outputs": [],
   "source": [
    "sparse_reference_set = sparse_from_word_vector(reference_address)"
   ]
  },
  {
   "cell_type": "code",
   "execution_count": 100,
   "metadata": {},
   "outputs": [
    {
     "name": "stdout",
     "output_type": "stream",
     "text": [
      "Dirección original: via grcn 346, [[26244]]\n",
      "Dirección corregida: via gran 346, 26244\n",
      "\n",
      "\n",
      "Dirección original: via python 759, [[22130]]\n",
      "Dirección corregida: via python 759, 22130\n",
      "\n",
      "\n",
      "Dirección original: carretera gray 832, [[28417]]\n",
      "Dirección corregida: carretera gran 832, 28417\n",
      "\n",
      "\n",
      "Dirección original: via diagon 641, [[25492]]\n",
      "Dirección corregida: via diagon 641, 25492\n",
      "\n",
      "\n",
      "Dirección original: calle abbes 899, [[25492]]\n",
      "Dirección corregida: calle abbey 899, 25492\n",
      "\n",
      "\n",
      "Dirección original: callejon elq 723, [[28417]]\n",
      "Dirección corregida: callejon elm 723, 28417\n",
      "\n",
      "\n",
      "Dirección original: calle pyvhon 122, [[25492]]\n",
      "Dirección corregida: calle python 122, 25492\n",
      "\n",
      "\n",
      "Dirección original: callejon diagon 94, [[22130]]\n",
      "Dirección corregida: callejon diagon 94, 22130\n",
      "\n",
      "\n",
      "Dirección original: avenida abbcy 827, [[25492]]\n",
      "Dirección corregida: avenida abbey 827, 25492\n",
      "\n",
      "\n",
      "Dirección original: avenida pythou 83, [[28417]]\n",
      "Dirección corregida: avenida python 83, 28417\n",
      "\n",
      "\n"
     ]
    }
   ],
   "source": [
    "for i in range(n):\n",
    "    test_address_entry = typo_full_directions[i][0]\n",
    "    test_zip_entry = [[typo_full_directions[i][1]]]\n",
    "    \n",
    "    test_address_repeated = [test_address_entry]*n\n",
    "    sparse_test_set = sparse_from_word_vector(test_address_repeated)\n",
    "    feed_dict = {test_address: sparse_test_set, \n",
    "                 test_zip: test_zip_entry, \n",
    "                 ref_address: sparse_reference_set, \n",
    "                 ref_zip: reference_zips}\n",
    "    \n",
    "    best_match = session.run(top_match_idx, feed_dict=feed_dict)\n",
    "    best_address = reference_address[best_match[0]]\n",
    "    [best_zip] = reference_zips[0][best_match]\n",
    "    [[test_zip_aux]] = test_zip_entry\n",
    "    \n",
    "    print(\"Dirección original: {}, {}\".format(test_address_entry, test_zip_entry))\n",
    "    print(\"Dirección corregida: {}, {}\".format(best_address, best_zip))\n",
    "    print(\"\\n\")"
   ]
  },
  {
   "cell_type": "code",
   "execution_count": null,
   "metadata": {},
   "outputs": [],
   "source": []
  }
 ],
 "metadata": {
  "kernelspec": {
   "display_name": "Python 3",
   "language": "python",
   "name": "python3"
  },
  "language_info": {
   "codemirror_mode": {
    "name": "ipython",
    "version": 3
   },
   "file_extension": ".py",
   "mimetype": "text/x-python",
   "name": "python",
   "nbconvert_exporter": "python",
   "pygments_lexer": "ipython3",
   "version": "3.6.8"
  }
 },
 "nbformat": 4,
 "nbformat_minor": 2
}
