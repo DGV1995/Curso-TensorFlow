{
 "cells": [
  {
   "cell_type": "markdown",
   "metadata": {},
   "source": [
    "# Correspondencia en direcciones postales"
   ]
  },
  {
   "cell_type": "code",
   "execution_count": 1,
   "metadata": {},
   "outputs": [],
   "source": [
    "import random\n",
    "import string\n",
    "import numpy as np\n",
    "import tensorflow as tf"
   ]
  },
  {
   "cell_type": "code",
   "execution_count": 3,
   "metadata": {},
   "outputs": [],
   "source": [
    "n = 10\n",
    "\n",
    "street_names = [\"diagon\",\"elm\",\"abbey\",\"gran\",\"python\"]\n",
    "street_types = [\"callejon\",\"calle\",\"carretera\",\"via\",\"avenida\"]\n",
    "street_zips = [random.randint(20000,29999) for i in range(5)]\n",
    "numbers = [random.randint(1,999) for i in range(n)]"
   ]
  },
  {
   "cell_type": "code",
   "execution_count": 18,
   "metadata": {},
   "outputs": [],
   "source": [
    "streets = [random.choice(street_names) for i in range(n)]\n",
    "street_prefixes = [random.choice(street_types) for i in range(n)]\n",
    "zips = [random.choice(street_zips) for i in range(n)]\n",
    "\n",
    "full_streets = [x + \" \" + y + \" \" + str(z) for x, y, z in zip(street_prefixes, streets, numbers)]\n",
    "full_directions = [list(x) for x in zip(full_streets, zips)]"
   ]
  },
  {
   "cell_type": "code",
   "execution_count": 19,
   "metadata": {},
   "outputs": [
    {
     "data": {
      "text/plain": [
       "[['carretera gran 639', 26103],\n",
       " ['via gran 528', 27243],\n",
       " ['via elm 815', 23500],\n",
       " ['callejon elm 78', 23500],\n",
       " ['callejon gran 963', 27243],\n",
       " ['avenida diagon 420', 23500],\n",
       " ['calle gran 148', 26103],\n",
       " ['calle gran 883', 24448],\n",
       " ['callejon abbey 146', 24448],\n",
       " ['avenida python 369', 27243]]"
      ]
     },
     "execution_count": 19,
     "metadata": {},
     "output_type": "execute_result"
    }
   ],
   "source": [
    "full_directions"
   ]
  },
  {
   "cell_type": "code",
   "execution_count": 37,
   "metadata": {},
   "outputs": [],
   "source": [
    "# Generar un error\n",
    "def create_typo(s, probability=0.75):\n",
    "    if (random.uniform(0,1)) < 0.75: # En un 75% de los casos\n",
    "        random_idx = random.choice(range(len(s))) # Escoge un índice aleatorio dentro del \n",
    "        string_list = list(s)                             # rango de la longitud de la palabra\n",
    "        string_list[random_idx] = random.choice(string.ascii_lowercase)\n",
    "        s = \"\".join(string_list)\n",
    "    return s"
   ]
  },
  {
   "cell_type": "code",
   "execution_count": 39,
   "metadata": {},
   "outputs": [
    {
     "data": {
      "text/plain": [
       "['gran',\n",
       " 'grnn',\n",
       " 'elm',\n",
       " 'elm',\n",
       " 'nran',\n",
       " 'diagnn',\n",
       " 'gran',\n",
       " 'gxan',\n",
       " 'ybbey',\n",
       " 'pythou']"
      ]
     },
     "execution_count": 39,
     "metadata": {},
     "output_type": "execute_result"
    }
   ],
   "source": [
    "typo_streets = [create_typo(x) for x in streets]\n",
    "typo_streets"
   ]
  },
  {
   "cell_type": "code",
   "execution_count": 41,
   "metadata": {},
   "outputs": [
    {
     "data": {
      "text/plain": [
       "[['carretera gran 639', 26103],\n",
       " ['via grnn 528', 27243],\n",
       " ['via elm 815', 23500],\n",
       " ['callejon elm 78', 23500],\n",
       " ['callejon nran 963', 27243],\n",
       " ['avenida diagnn 420', 23500],\n",
       " ['calle gran 148', 26103],\n",
       " ['calle gxan 883', 24448],\n",
       " ['callejon ybbey 146', 24448],\n",
       " ['avenida pythou 369', 27243]]"
      ]
     },
     "execution_count": 41,
     "metadata": {},
     "output_type": "execute_result"
    }
   ],
   "source": [
    "typo_full_streets = [x + \" \" + y + \" \" + str(z) for x, y, z in zip(street_prefixes, typo_streets, numbers)]\n",
    "typo_full_directions = [list(x) for x in zip(typo_full_streets, zips)]\n",
    "typo_full_directions"
   ]
  },
  {
   "cell_type": "code",
   "execution_count": null,
   "metadata": {},
   "outputs": [],
   "source": []
  }
 ],
 "metadata": {
  "kernelspec": {
   "display_name": "Python 3",
   "language": "python",
   "name": "python3"
  },
  "language_info": {
   "codemirror_mode": {
    "name": "ipython",
    "version": 3
   },
   "file_extension": ".py",
   "mimetype": "text/x-python",
   "name": "python",
   "nbconvert_exporter": "python",
   "pygments_lexer": "ipython3",
   "version": "3.6.8"
  }
 },
 "nbformat": 4,
 "nbformat_minor": 2
}
