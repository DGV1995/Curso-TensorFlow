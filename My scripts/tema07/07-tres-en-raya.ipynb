{
 "cells": [
  {
   "cell_type": "markdown",
   "metadata": {},
   "source": [
    "# Juego del tres en raya"
   ]
  },
  {
   "cell_type": "code",
   "execution_count": 67,
   "metadata": {},
   "outputs": [],
   "source": [
    "import tensorflow as tf\n",
    "import matplotlib.pyplot as plt\n",
    "import numpy as np\n",
    "import csv\n",
    "import random"
   ]
  },
  {
   "cell_type": "code",
   "execution_count": 69,
   "metadata": {},
   "outputs": [],
   "source": [
    "batch_size = 50"
   ]
  },
  {
   "cell_type": "code",
   "execution_count": 70,
   "metadata": {},
   "outputs": [],
   "source": [
    "# Función para pintar un tablero\n",
    "def print_board(board):\n",
    "    symbols = [\"O\", \" \", \"X\"]\n",
    "    board_plus_1 = [int(x)+1 for x in board] # Transforma los -1 en 0, los 0 en 1 y los 1 en un 2\n",
    "    board_line_1 = \"{}|{}|{}\".format(symbols[board_plus_1[0]], symbols[board_plus_1[1]], symbols[board_plus_1[2]])\n",
    "    board_line_2 = \"{}|{}|{}\".format(symbols[board_plus_1[3]], symbols[board_plus_1[4]], symbols[board_plus_1[5]])\n",
    "    board_line_3 = \"{}|{}|{}\".format(symbols[board_plus_1[6]], symbols[board_plus_1[7]], symbols[board_plus_1[8]])\n",
    "    print(board_line_1)\n",
    "    print(\"_____\")\n",
    "    print(board_line_2)\n",
    "    print(\"_____\")\n",
    "    print(board_line_3)"
   ]
  },
  {
   "cell_type": "code",
   "execution_count": 71,
   "metadata": {},
   "outputs": [
    {
     "name": "stdout",
     "output_type": "stream",
     "text": [
      "O| | \n",
      "_____\n",
      "X|X| \n",
      "_____\n",
      " |O|X\n"
     ]
    }
   ],
   "source": [
    "print_board([-1,0,0,1,1,0,0,-1,1])"
   ]
  },
  {
   "cell_type": "code",
   "execution_count": 77,
   "metadata": {},
   "outputs": [],
   "source": [
    "def get_symmetry(board, response, transformation):\n",
    "    '''\n",
    "    :param board: lista de 9 enteros formados por:\n",
    "    - O = -1, símbolo del enemigo\n",
    "    - X =  1, símbolo del jugador\n",
    "    - ' ' = 0, casilla vacía\n",
    "    :param transformation: ona de las cinco transformaciones del tablero:\n",
    "    - rotate90, rotate180, rotate270, flip_v, flip_h\n",
    "    :return: tuple(new_board, new_response)\n",
    "    '''\n",
    "    \n",
    "    if transformation == 'rotate180':\n",
    "        new_response = 8-response\n",
    "        return board[::-1], new_response\n",
    "    \n",
    "    elif transformation == 'rotate90':\n",
    "        new_reponse = [6,3,0,7,4,1,8,5,2].index(response)\n",
    "        tuple_board = list(zip(*[board[6:9], board[3:6], board[0:3]]))\n",
    "        return [value for item in tuple_board for value in item], new_reponse\n",
    "    \n",
    "    elif transformation == 'rotate270':\n",
    "        new_reponse = [2,5,8,1,4,7,0,3,6].index(response)\n",
    "        tuple_board = list(zip(*[board[0:3], board[3:6], board[6:9]]))[::-1]\n",
    "        return [value for item in tuple_board for value in item], new_reponse\n",
    "    \n",
    "    elif transformation == 'flip_v':\n",
    "        new_response = [6,7,8,3,4,5,0,1,2].index(response)\n",
    "        return board[6:9]+board[3:6]+board[0:3], new_response\n",
    "    \n",
    "    elif transformation == 'flip_h':\n",
    "        new_response = [2,1,0,5,4,3,8,7,6].index(response)\n",
    "        new_board = board[::-1]\n",
    "        return new_board[6:9]+new_board[3:6]+new_board[0:3], new_response\n",
    "    \n",
    "    else:\n",
    "        raise ValueError('Este movimiento no está contemplado')"
   ]
  },
  {
   "cell_type": "code",
   "execution_count": 78,
   "metadata": {},
   "outputs": [
    {
     "name": "stdout",
     "output_type": "stream",
     "text": [
      " | |O\n",
      "_____\n",
      " |X|X\n",
      "_____\n",
      "X|O| \n"
     ]
    }
   ],
   "source": [
    "print_board(get_symmetry([-1,0,0,1,1,0,0,-1,1], 1, \"flip_h\")[0])"
   ]
  },
  {
   "cell_type": "code",
   "execution_count": 79,
   "metadata": {},
   "outputs": [],
   "source": [
    "def get_moves_from_csv(csv_file):\n",
    "    '''\n",
    "    csv_file: fichero CSV con las respuestas para cada configuración esencial de tablero\n",
    "    return move: lista de los mejores movimientos posibles del tablero\n",
    "    '''\n",
    "    moves = []\n",
    "    with open(csv_file, \"r\") as csvfile:\n",
    "        reader = csv.reader(csvfile, delimiter=\",\")\n",
    "        for row in reader:\n",
    "            moves.append(([int(x) for x in row[0:9]], int(row[9])))\n",
    "    return moves"
   ]
  },
  {
   "cell_type": "code",
   "execution_count": 80,
   "metadata": {},
   "outputs": [],
   "source": [
    "moves = get_moves_from_csv(\"../../datasets/moves_tic_tac_toe.csv\")"
   ]
  },
  {
   "cell_type": "code",
   "execution_count": 81,
   "metadata": {},
   "outputs": [],
   "source": [
    "# Transformaciones aleatorias del tablero para poder entrenar la red neuronal\n",
    "def get_random_move(moves, random_transformations = 2):\n",
    "    (board, response) = random.choice(moves)\n",
    "    possible_transformations = [\"rotate90\", \"rotate180\", \"rotate270\", \"flip_v\", \"flip_h\"]\n",
    "    for i in range(random_transformations):\n",
    "        random_transformation = random.choice(possible_transformations)\n",
    "        (board, response) = get_symmetry(board, response, random_transformation)\n",
    "    return board, response"
   ]
  },
  {
   "cell_type": "code",
   "execution_count": 82,
   "metadata": {},
   "outputs": [
    {
     "data": {
      "text/plain": [
       "([0, 0, -1, 0, -1, 0, 1, 0, 0], 0)"
      ]
     },
     "execution_count": 82,
     "metadata": {},
     "output_type": "execute_result"
    }
   ],
   "source": [
    "get_random_move(moves, 2)"
   ]
  },
  {
   "cell_type": "markdown",
   "metadata": {},
   "source": [
    "### Enseñar a jugar al tres en raya a TensorFlow"
   ]
  },
  {
   "cell_type": "code",
   "execution_count": 269,
   "metadata": {},
   "outputs": [],
   "source": [
    "session = tf.Session()"
   ]
  },
  {
   "cell_type": "code",
   "execution_count": 270,
   "metadata": {},
   "outputs": [],
   "source": [
    "train_length = 500\n",
    "train_set = []\n",
    "\n",
    "for t in range(train_length):\n",
    "    train_set.append(get_random_move(moves))"
   ]
  },
  {
   "cell_type": "code",
   "execution_count": 271,
   "metadata": {},
   "outputs": [
    {
     "data": {
      "text/plain": [
       "([0, 0, 0, -1, 0, 1, 1, -1, -1], 1)"
      ]
     },
     "execution_count": 271,
     "metadata": {},
     "output_type": "execute_result"
    }
   ],
   "source": [
    "train_set[0]"
   ]
  },
  {
   "cell_type": "code",
   "execution_count": 272,
   "metadata": {},
   "outputs": [
    {
     "name": "stdout",
     "output_type": "stream",
     "text": [
      "O| | \n",
      "_____\n",
      "X|O|O\n",
      "_____\n",
      " | |X\n"
     ]
    }
   ],
   "source": [
    "test_board = [-1,0,0,1,-1,-1,0,0,1] # -> El mejor movimiento sería poner una 'X' en el índice 6\n",
    "print_board(test_board)"
   ]
  },
  {
   "cell_type": "code",
   "execution_count": 273,
   "metadata": {},
   "outputs": [],
   "source": [
    "train_set = [x for x in train_set if x[0] != test_board]"
   ]
  },
  {
   "cell_type": "code",
   "execution_count": 274,
   "metadata": {},
   "outputs": [],
   "source": [
    "def init_weights(shape):\n",
    "    return tf.Variable(tf.random_normal(shape=shape))"
   ]
  },
  {
   "cell_type": "code",
   "execution_count": 275,
   "metadata": {},
   "outputs": [],
   "source": [
    "def model(X, A1, A2, b1, b2):\n",
    "    layer1 = tf.nn.sigmoid(tf.add(tf.matmul(X, A1), b1))\n",
    "    layer2 = tf.add(tf.matmul(layer1, A2), b2)\n",
    "    return layer2"
   ]
  },
  {
   "cell_type": "code",
   "execution_count": 276,
   "metadata": {},
   "outputs": [],
   "source": [
    "X = tf.placeholder(shape=[None, 9], dtype=tf.float32)\n",
    "Y = tf.placeholder(shape=[None], dtype=tf.int32)\n",
    "\n",
    "A1 = init_weights([9,81])\n",
    "b1 = init_weights([81])\n",
    "A2 = init_weights([81,9])\n",
    "b2 = init_weights([9])\n",
    "\n",
    "model_output = model(X, A1, A2, b1, b2)"
   ]
  },
  {
   "cell_type": "code",
   "execution_count": 277,
   "metadata": {},
   "outputs": [],
   "source": [
    "loss = tf.reduce_mean(tf.nn.sparse_softmax_cross_entropy_with_logits(logits=model_output, labels=Y))\n",
    "train = tf.train.GradientDescentOptimizer(0.025).minimize(loss)\n",
    "prediction = tf.argmax(model_output, 1)\n",
    "\n",
    "init = tf.global_variables_initializer()\n",
    "session.run(init)"
   ]
  },
  {
   "cell_type": "code",
   "execution_count": 278,
   "metadata": {},
   "outputs": [
    {
     "name": "stdout",
     "output_type": "stream",
     "text": [
      "Step #500 ==> Loss = 1.5502957105636597\n",
      "Step #1000 ==> Loss = 1.564211130142212\n",
      "Step #1500 ==> Loss = 1.2242834568023682\n",
      "Step #2000 ==> Loss = 1.2239917516708374\n",
      "Step #2500 ==> Loss = 1.3627506494522095\n",
      "Step #3000 ==> Loss = 1.2173380851745605\n",
      "Step #3500 ==> Loss = 1.0767263174057007\n",
      "Step #4000 ==> Loss = 1.0449885129928589\n",
      "Step #4500 ==> Loss = 0.989879846572876\n",
      "Step #5000 ==> Loss = 0.974174976348877\n",
      "Step #5500 ==> Loss = 0.9496064782142639\n",
      "Step #6000 ==> Loss = 0.8818283081054688\n",
      "Step #6500 ==> Loss = 0.7961556911468506\n",
      "Step #7000 ==> Loss = 0.8788861632347107\n",
      "Step #7500 ==> Loss = 0.7017239928245544\n",
      "Step #8000 ==> Loss = 1.065687656402588\n",
      "Step #8500 ==> Loss = 0.7719660997390747\n",
      "Step #9000 ==> Loss = 0.7263510227203369\n",
      "Step #9500 ==> Loss = 0.6210167407989502\n",
      "Step #10000 ==> Loss = 0.821739673614502\n"
     ]
    }
   ],
   "source": [
    "loss_vector = []\n",
    "\n",
    "for i in range(10000):\n",
    "    rand_idx = np.random.choice(range(len(train_set)), size=batch_size, replace=False)\n",
    "    batch_data = [train_set[i] for i in rand_idx]\n",
    "    x_input = [x[0] for x in batch_data]\n",
    "    y_output = np.array([x[1] for x in batch_data])\n",
    "    \n",
    "    session.run(train, feed_dict={X: x_input, Y: y_output})\n",
    "    \n",
    "    temp_loss = session.run(loss, feed_dict={X: x_input, Y: y_output})\n",
    "    loss_vector.append(temp_loss)\n",
    "    \n",
    "    if (i+1)%500 == 0:\n",
    "        print(\"Step #{} ==> Loss = {}\".format(i+1, temp_loss))"
   ]
  },
  {
   "cell_type": "code",
   "execution_count": 279,
   "metadata": {},
   "outputs": [
    {
     "data": {
      "image/png": "[encoded data removed]",
      "text/plain": [
       "<Figure size 1080x576 with 1 Axes>"
      ]
     },
     "metadata": {
      "needs_background": "light"
     },
     "output_type": "display_data"
    }
   ],
   "source": [
    "plt.figure(figsize=(15,8))\n",
    "plt.plot(loss_vector, \"b\")\n",
    "plt.title(\"MSE por iteración\", fontsize=15)\n",
    "plt.show()"
   ]
  },
  {
   "cell_type": "markdown",
   "metadata": {},
   "source": [
    "### Comprobando el modelo entrenado"
   ]
  },
  {
   "cell_type": "code",
   "execution_count": 280,
   "metadata": {},
   "outputs": [],
   "source": [
    "test_boards = [test_board]\n",
    "feed_dict = {X: test_boards}\n",
    "logits = session.run(model_output, feed_dict=feed_dict)\n",
    "predictions = session.run(prediction, feed_dict=feed_dict)"
   ]
  },
  {
   "cell_type": "code",
   "execution_count": 281,
   "metadata": {},
   "outputs": [
    {
     "name": "stdout",
     "output_type": "stream",
     "text": [
      "[0]\n"
     ]
    }
   ],
   "source": [
    "print(predictions)"
   ]
  },
  {
   "cell_type": "code",
   "execution_count": 282,
   "metadata": {},
   "outputs": [],
   "source": [
    "# Dado un tablero, comprobará si hay 3 en raya\n",
    "def check_board(board):\n",
    "    # Combinaciones de 3 en raya\n",
    "    wins = [[0,1,2], [3,4,5], [6,7,8], [0,3,6], [1,4,7], [2,5,8], [1,4,8], [2,4,6]]\n",
    "    \n",
    "    for i in range(len(wins)):\n",
    "        # Si los tres elementos son del mismo elemento ('X' ó 'O')\n",
    "        if board[wins[i][0]] == board[wins[i][1]] == board[wins[i][2]] == 1.0:\n",
    "            return 1\n",
    "        elif board[wins[i][0]] == board[wins[i][1]] == board[wins[i][2]] == -1.0:\n",
    "            return 1\n",
    "    return 0"
   ]
  },
  {
   "cell_type": "code",
   "execution_count": 283,
   "metadata": {},
   "outputs": [
    {
     "name": "stdout",
     "output_type": "stream",
     "text": [
      "Introduce tu posición de juego (de 0 a 8):4\n",
      " | | \n",
      "_____\n",
      " |X| \n",
      "_____\n",
      " | | \n",
      "\n",
      "\n",
      "AI move: \n",
      "\n",
      " | | \n",
      "_____\n",
      " |X| \n",
      "_____\n",
      " | |O\n",
      "Introduce tu posición de juego (de 0 a 8):0\n",
      "X| | \n",
      "_____\n",
      " |X| \n",
      "_____\n",
      " | |O\n",
      "\n",
      "\n",
      "AI move: \n",
      "\n",
      "X| | \n",
      "_____\n",
      "O|X| \n",
      "_____\n",
      " | |O\n",
      "Introduce tu posición de juego (de 0 a 8):2\n",
      "X| |X\n",
      "_____\n",
      "O|X| \n",
      "_____\n",
      " | |O\n",
      "\n",
      "\n",
      "AI move: \n",
      "\n",
      "X| |X\n",
      "_____\n",
      "O|X|O\n",
      "_____\n",
      " | |O\n",
      "Introduce tu posición de juego (de 0 a 8):1\n",
      "X|X|X\n",
      "_____\n",
      "O|X|O\n",
      "_____\n",
      " | |O\n",
      "\n",
      "\n",
      "AI move: \n",
      "\n",
      "X|X|X\n",
      "_____\n",
      "O|X|O\n",
      "_____\n",
      "O| |O\n",
      "GAME OVER\n"
     ]
    }
   ],
   "source": [
    "game_tracker = [0,0,0,0,0,0,0,0,0]\n",
    "win_logical = 0\n",
    "num_moves = 0\n",
    "\n",
    "while not win_logical:\n",
    "    player_idx = input(\"Introduce tu posición de juego (de 0 a 8):\")\n",
    "    num_moves += 1\n",
    "    game_tracker[int(player_idx)] = 1.0\n",
    "    \n",
    "    print_board(game_tracker)\n",
    "    print(\"\\n\")\n",
    "    \n",
    "    [potencial_moves] = session.run(model_output, feed_dict={X: [game_tracker]})\n",
    "    allowed_moves = [ix for ix, x in enumerate(game_tracker) if x == 0]\n",
    "    \n",
    "    model_move = np.argmax([x if ix in allowed_moves else -9999 for ix, x in enumerate(potencial_moves)])\n",
    "    game_tracker[int(model_move)] = -1.0\n",
    "    print(\"AI move: \\n\")\n",
    "    print_board(game_tracker)\n",
    "    \n",
    "    if check_board(game_tracker) == 1:\n",
    "        win_logical = True\n",
    "        print(\"GAME OVER\")"
   ]
  },
  {
   "cell_type": "code",
   "execution_count": null,
   "metadata": {},
   "outputs": [],
   "source": []
  }
 ],
 "metadata": {
  "kernelspec": {
   "display_name": "Python 3",
   "language": "python",
   "name": "python3"
  },
  "language_info": {
   "codemirror_mode": {
    "name": "ipython",
    "version": 3
   },
   "file_extension": ".py",
   "mimetype": "text/x-python",
   "name": "python",
   "nbconvert_exporter": "python",
   "pygments_lexer": "ipython3",
   "version": "3.6.8"
  }
 },
 "nbformat": 4,
 "nbformat_minor": 2
}
