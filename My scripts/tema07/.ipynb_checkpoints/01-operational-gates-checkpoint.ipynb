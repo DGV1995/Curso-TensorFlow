{
 "cells": [
  {
   "cell_type": "markdown",
   "metadata": {},
   "source": [
    "# Puerta lógicas"
   ]
  },
  {
   "cell_type": "markdown",
   "metadata": {},
   "source": [
    "$$ f(x) = ax $$"
   ]
  },
  {
   "cell_type": "code",
   "execution_count": 1,
   "metadata": {},
   "outputs": [],
   "source": [
    "import tensorflow as tf\n",
    "import matplotlib.pyplot as plt\n",
    "import numpy as np"
   ]
  },
  {
   "cell_type": "code",
   "execution_count": 18,
   "metadata": {},
   "outputs": [],
   "source": [
    "session = tf.Session()"
   ]
  },
  {
   "cell_type": "code",
   "execution_count": 94,
   "metadata": {},
   "outputs": [],
   "source": [
    "a = tf.Variable(tf.constant(4.0))\n",
    "x_val = 5.0\n",
    "x_data = tf.placeholder(dtype=tf.float32)"
   ]
  },
  {
   "cell_type": "code",
   "execution_count": 95,
   "metadata": {},
   "outputs": [],
   "source": [
    "operation = tf.multiply(a, x_data)"
   ]
  },
  {
   "cell_type": "markdown",
   "metadata": {},
   "source": [
    "$$Loss = (y_{target} - y_{pred})^2$$"
   ]
  },
  {
   "cell_type": "code",
   "execution_count": 96,
   "metadata": {},
   "outputs": [],
   "source": [
    "# Función de pérdidas => Norma L2\n",
    "loss = tf.square(tf.subtract(operation, 50.0))"
   ]
  },
  {
   "cell_type": "code",
   "execution_count": 97,
   "metadata": {},
   "outputs": [],
   "source": [
    "init = tf.global_variables_initializer()\n",
    "session.run(init)"
   ]
  },
  {
   "cell_type": "code",
   "execution_count": 98,
   "metadata": {},
   "outputs": [],
   "source": [
    "optimizer = tf.train.GradientDescentOptimizer(learning_rate=0.01)\n",
    "train = optimizer.minimize(loss)"
   ]
  },
  {
   "cell_type": "code",
   "execution_count": 99,
   "metadata": {},
   "outputs": [
    {
     "name": "stdout",
     "output_type": "stream",
     "text": [
      "7.0 x 5.0 = 35.0\n",
      "8.5 x 5.0 = 42.5\n",
      "9.25 x 5.0 = 46.25\n",
      "9.625 x 5.0 = 48.125\n",
      "9.8125 x 5.0 = 49.0625\n",
      "9.90625 x 5.0 = 49.53125\n",
      "9.953125 x 5.0 = 49.765625\n",
      "9.9765625 x 5.0 = 49.8828125\n",
      "9.98828125 x 5.0 = 49.94140625\n",
      "9.994140625 x 5.0 = 49.970703125\n",
      "9.9970703125 x 5.0 = 49.9853515625\n",
      "9.99853515625 x 5.0 = 49.99267578125\n",
      "9.999267578125 x 5.0 = 49.996337890625\n",
      "9.9996337890625 x 5.0 = 49.9981689453125\n",
      "9.99981689453125 x 5.0 = 49.99908447265625\n",
      "9.999908447265625 x 5.0 = 49.999542236328125\n",
      "9.999954223632812 x 5.0 = 49.99977111816406\n",
      "9.999977111816406 x 5.0 = 49.99988555908203\n",
      "9.999988555908203 x 5.0 = 49.999942779541016\n",
      "9.999994277954102 x 5.0 = 49.999969482421875\n"
     ]
    }
   ],
   "source": [
    "for i in range(20):\n",
    "    session.run(train, feed_dict={x_data: x_val})\n",
    "    a_val = session.run(a)\n",
    "    output = session.run(operation, feed_dict={x_data: x_val})\n",
    "    print(\"{} x {} = {}\".format(a_val, x_val, output))"
   ]
  },
  {
   "cell_type": "markdown",
   "metadata": {},
   "source": [
    "$$ f(x) = ax + b $$\n",
    "¿Qué tienen que valer a y b para que f(5) = 50?"
   ]
  },
  {
   "cell_type": "code",
   "execution_count": 23,
   "metadata": {},
   "outputs": [],
   "source": [
    "from tensorflow.python.framework import ops\n",
    "ops.reset_default_graph()\n",
    "session = tf.Session()"
   ]
  },
  {
   "cell_type": "code",
   "execution_count": 24,
   "metadata": {},
   "outputs": [],
   "source": [
    "x = 5.0\n",
    "x_val = tf.placeholder(dtype=tf.float32)\n",
    "a = tf.Variable(tf.constant(2.0))\n",
    "b = tf.Variable(tf.constant(1.0))"
   ]
  },
  {
   "cell_type": "code",
   "execution_count": 25,
   "metadata": {},
   "outputs": [],
   "source": [
    "f = tf.add(tf.multiply(a, x_val), b)\n",
    "y_target = 50.0"
   ]
  },
  {
   "cell_type": "code",
   "execution_count": 26,
   "metadata": {},
   "outputs": [],
   "source": [
    "loss = tf.square(tf.subtract(y_target, f)) # loss = (y_target - y_pred)^2 ==> Norma L2\n",
    "optimizer = tf.train.GradientDescentOptimizer(learning_rate=0.01)\n",
    "train = optimizer.minimize(loss)\n",
    "\n",
    "init = tf.global_variables_initializer()\n",
    "session.run(init)"
   ]
  },
  {
   "cell_type": "code",
   "execution_count": 28,
   "metadata": {},
   "outputs": [
    {
     "name": "stdout",
     "output_type": "stream",
     "text": [
      "5.899999618530273 x 5.0 + 1.7799999713897705 = 31.279998779296875\n",
      "7.771999835968018 x 5.0 + 2.154399871826172 = 41.014400482177734\n",
      "8.670559883117676 x 5.0 + 2.3341119289398193 = 45.68690872192383\n",
      "9.101868629455566 x 5.0 + 2.4203736782073975 = 47.92971420288086\n",
      "9.308897018432617 x 5.0 + 2.4617793560028076 = 49.00626754760742\n",
      "9.408269882202148 x 5.0 + 2.481653928756714 = 49.523006439208984\n",
      "9.455968856811523 x 5.0 + 2.4911937713623047 = 49.77104187011719\n",
      "9.478864669799805 x 5.0 + 2.4957728385925293 = 49.890098571777344\n",
      "9.48985481262207 x 5.0 + 2.4979708194732666 = 49.947242736816406\n",
      "9.49513053894043 x 5.0 + 2.49902606010437 = 49.97468185424805\n",
      "9.497662544250488 x 5.0 + 2.499532461166382 = 49.98784255981445\n",
      "9.498878479003906 x 5.0 + 2.4997756481170654 = 49.99416732788086\n",
      "9.499462127685547 x 5.0 + 2.499892234802246 = 49.9972038269043\n",
      "9.499741554260254 x 5.0 + 2.499948263168335 = 49.998653411865234\n",
      "9.499876022338867 x 5.0 + 2.4999752044677734 = 49.999359130859375\n",
      "9.499939918518066 x 5.0 + 2.499988079071045 = 49.99968719482422\n",
      "9.499971389770508 x 5.0 + 2.4999942779541016 = 49.999847412109375\n",
      "9.49998664855957 x 5.0 + 2.49999737739563 = 49.99992752075195\n",
      "9.499994277954102 x 5.0 + 2.4999988079071045 = 49.999969482421875\n",
      "9.49999713897705 x 5.0 + 2.499999523162842 = 49.99998474121094\n"
     ]
    }
   ],
   "source": [
    "loss_vect = []\n",
    "\n",
    "for i in range(20):\n",
    "    session.run(train, feed_dict={x_val: x})\n",
    "    result = session.run(f, feed_dict={x_val: x})\n",
    "    temp_loss = session.run(loss, feed_dict={x_val: x})\n",
    "    loss_vect.append(temp_loss)\n",
    "    print(\"{} x {} + {} = {}\".format(session.run(a), x, session.run(b), result))\n",
    "    "
   ]
  },
  {
   "cell_type": "code",
   "execution_count": 29,
   "metadata": {},
   "outputs": [
    {
     "data": {
      "image/png": "[encoded data removed]",
      "text/plain": [
       "<Figure size 720x432 with 1 Axes>"
      ]
     },
     "metadata": {
      "needs_background": "light"
     },
     "output_type": "display_data"
    }
   ],
   "source": [
    "plt.figure(figsize=(10,6))\n",
    "plt.plot(loss_vect)\n",
    "plt.title(\"Función de pérdidas\", fontsize=15)\n",
    "plt.xlabel(\"Iteración\", fontsize=14)\n",
    "plt.ylabel(\"Pérdidas\", fontsize=14)\n",
    "plt.show()"
   ]
  },
  {
   "cell_type": "code",
   "execution_count": null,
   "metadata": {},
   "outputs": [],
   "source": []
  }
 ],
 "metadata": {
  "kernelspec": {
   "display_name": "Python 3",
   "language": "python",
   "name": "python3"
  },
  "language_info": {
   "codemirror_mode": {
    "name": "ipython",
    "version": 3
   },
   "file_extension": ".py",
   "mimetype": "text/x-python",
   "name": "python",
   "nbconvert_exporter": "python",
   "pygments_lexer": "ipython3",
   "version": "3.6.8"
  }
 },
 "nbformat": 4,
 "nbformat_minor": 2
}
