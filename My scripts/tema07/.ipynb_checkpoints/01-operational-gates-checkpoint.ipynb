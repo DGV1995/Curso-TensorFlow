{
 "cells": [
  {
   "cell_type": "markdown",
   "metadata": {},
   "source": [
    "# Puerta lógicas"
   ]
  },
  {
   "cell_type": "markdown",
   "metadata": {},
   "source": [
    "$$ f(x) = ax $$"
   ]
  },
  {
   "cell_type": "code",
   "execution_count": 84,
   "metadata": {},
   "outputs": [],
   "source": [
    "import tensorflow as tf\n",
    "import matplotlib.pyplot as plt\n",
    "import numpy as np"
   ]
  },
  {
   "cell_type": "code",
   "execution_count": 93,
   "metadata": {},
   "outputs": [],
   "source": [
    "session = tf.Session()"
   ]
  },
  {
   "cell_type": "code",
   "execution_count": 94,
   "metadata": {},
   "outputs": [],
   "source": [
    "a = tf.Variable(tf.constant(4.0))\n",
    "x_val = 5.0\n",
    "x_data = tf.placeholder(dtype=tf.float32)"
   ]
  },
  {
   "cell_type": "code",
   "execution_count": 95,
   "metadata": {},
   "outputs": [],
   "source": [
    "operation = tf.multiply(a, x_data)"
   ]
  },
  {
   "cell_type": "markdown",
   "metadata": {},
   "source": [
    "$$Loss = (y_{target} - y_{pred})^2$$"
   ]
  },
  {
   "cell_type": "code",
   "execution_count": 96,
   "metadata": {},
   "outputs": [],
   "source": [
    "# Función de pérdidas => Norma L2\n",
    "loss = tf.square(tf.subtract(operation, 50.0))"
   ]
  },
  {
   "cell_type": "code",
   "execution_count": 97,
   "metadata": {},
   "outputs": [],
   "source": [
    "init = tf.global_variables_initializer()\n",
    "session.run(init)"
   ]
  },
  {
   "cell_type": "code",
   "execution_count": 98,
   "metadata": {},
   "outputs": [],
   "source": [
    "optimizer = tf.train.GradientDescentOptimizer(learning_rate=0.01)\n",
    "train = optimizer.minimize(loss)"
   ]
  },
  {
   "cell_type": "code",
   "execution_count": 99,
   "metadata": {},
   "outputs": [
    {
     "name": "stdout",
     "output_type": "stream",
     "text": [
      "7.0 x 5.0 = 35.0\n",
      "8.5 x 5.0 = 42.5\n",
      "9.25 x 5.0 = 46.25\n",
      "9.625 x 5.0 = 48.125\n",
      "9.8125 x 5.0 = 49.0625\n",
      "9.90625 x 5.0 = 49.53125\n",
      "9.953125 x 5.0 = 49.765625\n",
      "9.9765625 x 5.0 = 49.8828125\n",
      "9.98828125 x 5.0 = 49.94140625\n",
      "9.994140625 x 5.0 = 49.970703125\n",
      "9.9970703125 x 5.0 = 49.9853515625\n",
      "9.99853515625 x 5.0 = 49.99267578125\n",
      "9.999267578125 x 5.0 = 49.996337890625\n",
      "9.9996337890625 x 5.0 = 49.9981689453125\n",
      "9.99981689453125 x 5.0 = 49.99908447265625\n",
      "9.999908447265625 x 5.0 = 49.999542236328125\n",
      "9.999954223632812 x 5.0 = 49.99977111816406\n",
      "9.999977111816406 x 5.0 = 49.99988555908203\n",
      "9.999988555908203 x 5.0 = 49.999942779541016\n",
      "9.999994277954102 x 5.0 = 49.999969482421875\n"
     ]
    }
   ],
   "source": [
    "for i in range(20):\n",
    "    session.run(train, feed_dict={x_data: x_val})\n",
    "    a_val = session.run(a)\n",
    "    output = session.run(operation, feed_dict={x_data: x_val})\n",
    "    print(\"{} x {} = {}\".format(a_val, x_val, output))"
   ]
  },
  {
   "cell_type": "markdown",
   "metadata": {},
   "source": [
    "$$ f(x) = ax + b $$\n",
    "¿Qué tienen que valer a y b para que f(5) = 50?"
   ]
  },
  {
   "cell_type": "code",
   "execution_count": null,
   "metadata": {},
   "outputs": [],
   "source": []
  }
 ],
 "metadata": {
  "kernelspec": {
   "display_name": "Python 3",
   "language": "python",
   "name": "python3"
  },
  "language_info": {
   "codemirror_mode": {
    "name": "ipython",
    "version": 3
   },
   "file_extension": ".py",
   "mimetype": "text/x-python",
   "name": "python",
   "nbconvert_exporter": "python",
   "pygments_lexer": "ipython3",
   "version": "3.6.8"
  }
 },
 "nbformat": 4,
 "nbformat_minor": 2
}
