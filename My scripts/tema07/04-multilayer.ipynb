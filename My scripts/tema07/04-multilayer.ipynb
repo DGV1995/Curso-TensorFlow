{
 "cells": [
  {
   "cell_type": "markdown",
   "metadata": {},
   "source": [
    "# Redes neuronales multicapa"
   ]
  },
  {
   "cell_type": "markdown",
   "metadata": {},
   "source": [
    "### Ejemplo 1-D (unidimensional)"
   ]
  },
  {
   "cell_type": "code",
   "execution_count": 85,
   "metadata": {},
   "outputs": [],
   "source": [
    "import tensorflow as tf\n",
    "import numpy as np\n",
    "session = tf.Session()"
   ]
  },
  {
   "cell_type": "code",
   "execution_count": 86,
   "metadata": {},
   "outputs": [],
   "source": [
    "data_size = 25\n",
    "data_1d = np.random.normal(size=data_size) # Array unidimensional de 25 elementos\n",
    "x_input = tf.placeholder(shape=[data_size], dtype=tf.float32)"
   ]
  },
  {
   "cell_type": "markdown",
   "metadata": {},
   "source": [
    "Para hacer convolución y max pooling, necesitamos que el tensor sea de dimensión 4\n",
    "\n",
    "$ Dimensión\\ del\\ tensor = [n, f, c, col] $\n",
    "\n",
    "$ n\\equiv número\\ de\\ elementos$\n",
    "\n",
    "$ c\\equiv columnas$\n",
    "\n",
    "$ f\\equiv filas$\n",
    "\n",
    "$ col\\equiv canales\\ de\\ color$\n",
    "\n",
    "En nuestro caso, tenemos un array de 25 elementos $\\rightarrow$ tenemos una fila y 25 columnas "
   ]
  },
  {
   "cell_type": "code",
   "execution_count": 87,
   "metadata": {},
   "outputs": [],
   "source": [
    "def conv_layer_1d(input_1d, my_filter):\n",
    "    # Añadir elemento a la fila, es decir, añadir una columna\n",
    "    input_2d = tf.expand_dims(input_1d, 0) # Añadir elemento por delante\n",
    "    input_3d = tf.expand_dims(input_2d, 0)\n",
    "    input_4d = tf.expand_dims(input_3d, 3) # Añadir dimensión al final (index 3)\n",
    "    \n",
    "    convolution = tf.nn.conv2d(input_4d, filter=my_filter, strides=[1,1,1,1], padding=\"VALID\")\n",
    "    # Squeeze para aplanar el resultado de la convolución\n",
    "    output = tf.squeeze(convolution) \n",
    "    \n",
    "    return output"
   ]
  },
  {
   "cell_type": "code",
   "execution_count": 88,
   "metadata": {},
   "outputs": [],
   "source": [
    "my_filter = tf.Variable(tf.random_normal(shape=[1,5,1,1]))\n",
    "# 1 batch, 5 filas, 1 columna, 1 canal de color\n",
    "conv_output = conv_layer_1d(x_input, my_filter)"
   ]
  },
  {
   "cell_type": "code",
   "execution_count": 89,
   "metadata": {},
   "outputs": [],
   "source": [
    "# Función de activación ReLu\n",
    "def activation(input_1d):\n",
    "    return tf.nn.relu(input_1d)"
   ]
  },
  {
   "cell_type": "code",
   "execution_count": 90,
   "metadata": {},
   "outputs": [],
   "source": [
    "activation_output = activation(conv_output)"
   ]
  },
  {
   "cell_type": "code",
   "execution_count": 91,
   "metadata": {},
   "outputs": [],
   "source": [
    "# Capa de maxpool (para eliminar posibles valores mediocres)\n",
    "def max_pool(input_1d, width):\n",
    "    # Añadir elemento a la fila, es decir, añadir una columna\n",
    "    input_2d = tf.expand_dims(input_1d, 0) \n",
    "    input_3d = tf.expand_dims(input_2d, 0)\n",
    "    input_4d = tf.expand_dims(input_3d, 3) # Añadir dimensión al final (index 3)\n",
    "    \n",
    "    pooling = tf.nn.max_pool(input_4d, ksize=[1,1,width,1], strides=[1,1,1,1], padding=\"VALID\")\n",
    "    output = tf.squeeze(pooling)\n",
    "    \n",
    "    return output"
   ]
  },
  {
   "cell_type": "code",
   "execution_count": 92,
   "metadata": {},
   "outputs": [],
   "source": [
    "maxpool_output = max_pool(activation_output, width=5)"
   ]
  },
  {
   "cell_type": "code",
   "execution_count": 93,
   "metadata": {},
   "outputs": [],
   "source": [
    "def fully_connected_layer(input_layer, num_outputs):\n",
    "    weight_shape = tf.squeeze(tf.stack([tf.shape(input_layer), [num_outputs]])) # Tamaño de los pesos de la capa\n",
    "    weight = tf.random_normal(shape=weight_shape, stddev=0.1)\n",
    "    bias = tf.random_normal(shape=[num_outputs])\n",
    "    \n",
    "    input_layer_2d = tf.expand_dims(input_layer, 0)\n",
    "    # y = Ax + b\n",
    "    full_output = tf.add(tf.matmul(input_layer_2d, weight), bias)\n",
    "    full_output_1d = tf.squeeze(full_output)\n",
    "    \n",
    "    return full_output_1d\n",
    "\n",
    "# VER GRÁFICO DE LA CLASE ANTERIOR PARA ACLARAR EL ESQUEMA"
   ]
  },
  {
   "cell_type": "code",
   "execution_count": 94,
   "metadata": {},
   "outputs": [],
   "source": [
    "full_output = fully_connected_layer(maxpool_output, num_outputs=5)"
   ]
  },
  {
   "cell_type": "code",
   "execution_count": 95,
   "metadata": {},
   "outputs": [],
   "source": [
    "init = tf.global_variables_initializer()\n",
    "session.run(init)"
   ]
  },
  {
   "cell_type": "code",
   "execution_count": 96,
   "metadata": {},
   "outputs": [],
   "source": [
    "feed_dict = {x_input: data_1d}"
   ]
  },
  {
   "cell_type": "code",
   "execution_count": 97,
   "metadata": {},
   "outputs": [
    {
     "name": "stdout",
     "output_type": "stream",
     "text": [
      "Input original: \n",
      "\n",
      "[ 0.47475442  1.1801964  -0.12531582 -1.24064976  0.58022051 -0.99920246\n",
      " -0.03415297  0.26158376  0.06842541 -0.9104595   0.53659257 -1.23097123\n",
      " -0.03045065 -1.3223118   1.97934682  0.59748781 -1.16009436 -0.73632716\n",
      "  0.38523188  0.44406455  1.5905312   0.34546277 -1.97939856 -0.97482663\n",
      " -0.0549464 ]\n"
     ]
    }
   ],
   "source": [
    "print(\"Input original: \\n\")\n",
    "print(data_1d)"
   ]
  },
  {
   "cell_type": "code",
   "execution_count": 98,
   "metadata": {},
   "outputs": [
    {
     "name": "stdout",
     "output_type": "stream",
     "text": [
      "Filtro: \n",
      "\n",
      "[[[[ 0.11531693]]\n",
      "\n",
      "  [[-0.8757149 ]]\n",
      "\n",
      "  [[ 0.6169386 ]]\n",
      "\n",
      "  [[ 0.6700308 ]]\n",
      "\n",
      "  [[-0.9224233 ]]]]\n"
     ]
    }
   ],
   "source": [
    "print(\"Filtro: \\n\")\n",
    "print(session.run(my_filter))"
   ]
  },
  {
   "cell_type": "code",
   "execution_count": 99,
   "metadata": {},
   "outputs": [
    {
     "name": "stdout",
     "output_type": "stream",
     "text": [
      "Input: tamaño 25, Operación: convolución con filtro de tamaño 5 + stride de tamaño 1, Resultado: tamaño 21\n",
      "\n",
      "\n",
      "[-2.4225628   0.79088604  0.791972   -1.5317967   1.0330074   0.9617407\n",
      " -1.2957984   0.9035564   0.33953807 -0.1349988  -1.5907134  -0.15598434\n",
      "  3.8460255  -1.6153088  -1.8593924   0.47904548 -0.4209075   0.5987382\n",
      "  2.6941242  -1.5555696  -1.9427592 ]\n"
     ]
    }
   ],
   "source": [
    "# Operación de convolución (primera capa)\n",
    "print(\"Input: tamaño 25, Operación: convolución con filtro de tamaño 5 + stride de tamaño 1, Resultado: tamaño 21\")\n",
    "print(\"\\n\")\n",
    "print(session.run(conv_output, feed_dict=feed_dict))"
   ]
  },
  {
   "cell_type": "code",
   "execution_count": 100,
   "metadata": {},
   "outputs": [
    {
     "name": "stdout",
     "output_type": "stream",
     "text": [
      "Input: tamaño 21, Operación: ReLu al array anterior, Resultado: tamaño 21\n",
      "\n",
      "\n",
      "[0.         0.79088604 0.791972   0.         1.0330074  0.9617407\n",
      " 0.         0.9035564  0.33953807 0.         0.         0.\n",
      " 3.8460255  0.         0.         0.47904548 0.         0.5987382\n",
      " 2.6941242  0.         0.        ]\n"
     ]
    }
   ],
   "source": [
    "# Función de activación\n",
    "print(\"Input: tamaño 21, Operación: ReLu al array anterior, Resultado: tamaño 21\")\n",
    "print(\"\\n\")\n",
    "print(session.run(activation_output, feed_dict=feed_dict))"
   ]
  },
  {
   "cell_type": "code",
   "execution_count": 102,
   "metadata": {},
   "outputs": [
    {
     "name": "stdout",
     "output_type": "stream",
     "text": [
      "Input: tamaño 21, Operación: maxpooling con ventana de tamaño 5 + stride de tamaño 1, Resultado: tamaño 17\n",
      "\n",
      "\n",
      "[1.0330074 1.0330074 1.0330074 1.0330074 1.0330074 0.9617407 0.9035564\n",
      " 0.9035564 3.8460255 3.8460255 3.8460255 3.8460255 3.8460255 0.5987382\n",
      " 2.6941242 2.6941242 2.6941242]\n"
     ]
    }
   ],
   "source": [
    "# Operación de Max Pooling\n",
    "# Coge 5 elementos (del 1º al 5º) y se queda con el más grande. A continuación coge del 2º al 6º y se queda\n",
    "# con el más grande, y así sucesivamente\n",
    "print(\"Input: tamaño 21, Operación: maxpooling con ventana de tamaño 5 + stride de tamaño 1, Resultado: tamaño 17\")\n",
    "print(\"\\n\")\n",
    "print(session.run(maxpool_output, feed_dict=feed_dict))"
   ]
  },
  {
   "cell_type": "code",
   "execution_count": 103,
   "metadata": {},
   "outputs": [
    {
     "name": "stdout",
     "output_type": "stream",
     "text": [
      "Input: tamaño 17, Operación: conectar totalmente la entrada con 5 valores de salida, Resultado: tamaño 5\n",
      "\n",
      "\n",
      "[-0.61559033  1.91151     0.75073504  0.23200023 -0.8265862 ]\n"
     ]
    }
   ],
   "source": [
    "# Capa totalmente conectada\n",
    "print(\"Input: tamaño 17, Operación: conectar totalmente la entrada con 5 valores de salida, Resultado: tamaño 5\")\n",
    "print(\"\\n\")\n",
    "print(session.run(full_output, feed_dict=feed_dict))"
   ]
  },
  {
   "cell_type": "markdown",
   "metadata": {},
   "source": [
    "### Ejemplo 2-D"
   ]
  },
  {
   "cell_type": "code",
   "execution_count": 104,
   "metadata": {},
   "outputs": [],
   "source": [
    "session = tf.Session()"
   ]
  },
  {
   "cell_type": "code",
   "execution_count": 107,
   "metadata": {},
   "outputs": [],
   "source": [
    "data_size = [10,10]\n",
    "input_2d = np.random.normal(size=data_size)\n",
    "x_input = tf.placeholder(shape=data_size, dtype=tf.float32)"
   ]
  },
  {
   "cell_type": "code",
   "execution_count": 112,
   "metadata": {},
   "outputs": [],
   "source": [
    "def conv_layer_2d(input_2d, my_filter):\n",
    "    input_3d = tf.expand_dims(input_2d, 0)\n",
    "    input_4d = tf.expand_dims(input_3d, 3)\n",
    "    \n",
    "    # strides=[1,2,2,1] porque el filtro que utilizamos es 2x2\n",
    "    convolution = tf.nn.conv2d(input_4d, filter=my_filter, strides=[1,2,2,1], padding=\"VALID\")\n",
    "    \n",
    "    return tf.squeeze(convolution)"
   ]
  },
  {
   "cell_type": "code",
   "execution_count": 113,
   "metadata": {},
   "outputs": [],
   "source": [
    "my_filter = tf.Variable(tf.random_normal(shape=[2,2,1,1]))\n",
    "\n",
    "conv_output = conv_layer_2d(x_input, my_filter)"
   ]
  },
  {
   "cell_type": "code",
   "execution_count": 114,
   "metadata": {},
   "outputs": [],
   "source": [
    "def activation(input_2d):\n",
    "    return tf.nn.relu(input_2d)"
   ]
  },
  {
   "cell_type": "code",
   "execution_count": 115,
   "metadata": {},
   "outputs": [],
   "source": [
    "activation_output = activation(conv_output)"
   ]
  },
  {
   "cell_type": "code",
   "execution_count": null,
   "metadata": {},
   "outputs": [],
   "source": [
    "def max_pool(input_2d, width):\n",
    "    input_3d = tf.expand_dims(input_2d, 0)\n",
    "    input_4d = tf.expand_dims(input_3d, 3)\n",
    "    \n",
    "    pooling = tf.nn.max_pool(input_4d, ksize=width, strides=[1,2,2,1], padding=\"VALID\")\n",
    "    \n",
    "    return tf.squeeze(pooling)"
   ]
  }
 ],
 "metadata": {
  "kernelspec": {
   "display_name": "Python 3",
   "language": "python",
   "name": "python3"
  },
  "language_info": {
   "codemirror_mode": {
    "name": "ipython",
    "version": 3
   },
   "file_extension": ".py",
   "mimetype": "text/x-python",
   "name": "python",
   "nbconvert_exporter": "python",
   "pygments_lexer": "ipython3",
   "version": "3.6.8"
  }
 },
 "nbformat": 4,
 "nbformat_minor": 2
}
