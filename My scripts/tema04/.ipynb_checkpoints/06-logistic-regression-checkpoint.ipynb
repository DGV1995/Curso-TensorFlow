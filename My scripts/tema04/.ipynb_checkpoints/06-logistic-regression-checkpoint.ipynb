{
 "cells": [
  {
   "cell_type": "markdown",
   "metadata": {},
   "source": [
    "# Regresión Logística"
   ]
  },
  {
   "cell_type": "code",
   "execution_count": 1,
   "metadata": {},
   "outputs": [],
   "source": [
    "import matplotlib.pyplot as plt\n",
    "import numpy as np\n",
    "import tensorflow as tf\n",
    "import requests"
   ]
  },
  {
   "cell_type": "code",
   "execution_count": 158,
   "metadata": {},
   "outputs": [],
   "source": [
    "session = tf.Session()"
   ]
  },
  {
   "cell_type": "code",
   "execution_count": 71,
   "metadata": {},
   "outputs": [],
   "source": [
    "url = \"https://raw.githubusercontent.com/DGV1995/Curso-TensorFlow/master/datasets/birthweight.dat\"\n",
    "birth_file = requests.get(url)\n",
    "birth_data = birth_file.text.split(\"\\r\\n\")"
   ]
  },
  {
   "cell_type": "code",
   "execution_count": 72,
   "metadata": {},
   "outputs": [
    {
     "data": {
      "text/plain": [
       "['LOW\\tAGE\\tLWT\\tRACE\\tSMOKE\\tPTL\\tHT\\tUI\\tBWT',\n",
       " '1\\t28\\t113\\t1\\t1\\t1\\t0\\t1\\t709',\n",
       " '1\\t29\\t130\\t0\\t0\\t0\\t0\\t1\\t1021',\n",
       " '1\\t34\\t187\\t1\\t1\\t0\\t1\\t0\\t1135',\n",
       " '1\\t25\\t105\\t1\\t0\\t1\\t1\\t0\\t1330',\n",
       " '1\\t25\\t85\\t1\\t0\\t0\\t0\\t1\\t1474',\n",
       " '1\\t27\\t150\\t1\\t0\\t0\\t0\\t0\\t1588',\n",
       " '1\\t23\\t97\\t1\\t0\\t0\\t0\\t1\\t1588',\n",
       " '1\\t24\\t128\\t1\\t0\\t1\\t0\\t0\\t1701',\n",
       " '1\\t24\\t132\\t1\\t0\\t0\\t1\\t0\\t1729',\n",
       " '1\\t21\\t165\\t0\\t1\\t0\\t1\\t0\\t1790',\n",
       " '1\\t32\\t105\\t1\\t1\\t0\\t0\\t0\\t1818',\n",
       " '1\\t19\\t91\\t0\\t1\\t1\\t0\\t1\\t1885',\n",
       " '1\\t25\\t115\\t1\\t0\\t0\\t0\\t0\\t1893',\n",
       " '1\\t16\\t130\\t1\\t0\\t0\\t0\\t0\\t1899',\n",
       " '1\\t25\\t92\\t0\\t1\\t0\\t0\\t0\\t1928',\n",
       " '1\\t20\\t150\\t0\\t1\\t0\\t0\\t0\\t1928',\n",
       " '1\\t21\\t190\\t1\\t0\\t0\\t0\\t1\\t1928',\n",
       " '1\\t24\\t155\\t0\\t1\\t1\\t0\\t0\\t1936',\n",
       " '1\\t21\\t103\\t1\\t0\\t0\\t0\\t0\\t1970',\n",
       " '1\\t20\\t125\\t1\\t0\\t0\\t0\\t1\\t2055',\n",
       " '1\\t25\\t89\\t1\\t0\\t1\\t0\\t0\\t2055',\n",
       " '1\\t19\\t102\\t0\\t0\\t0\\t0\\t0\\t2082',\n",
       " '1\\t19\\t112\\t0\\t1\\t0\\t0\\t1\\t2084',\n",
       " '1\\t26\\t117\\t0\\t1\\t1\\t0\\t1\\t2084',\n",
       " '1\\t24\\t138\\t0\\t0\\t0\\t0\\t0\\t2100',\n",
       " '1\\t17\\t130\\t1\\t1\\t1\\t0\\t1\\t2125',\n",
       " '1\\t20\\t120\\t1\\t1\\t0\\t0\\t0\\t2126',\n",
       " '1\\t22\\t130\\t0\\t1\\t1\\t0\\t1\\t2187',\n",
       " '1\\t27\\t130\\t1\\t0\\t0\\t0\\t1\\t2187',\n",
       " '1\\t20\\t80\\t1\\t1\\t0\\t0\\t1\\t2211',\n",
       " '1\\t17\\t110\\t0\\t1\\t0\\t0\\t0\\t2225',\n",
       " '1\\t25\\t105\\t1\\t0\\t1\\t0\\t0\\t2240',\n",
       " '1\\t20\\t109\\t1\\t0\\t0\\t0\\t0\\t2240',\n",
       " '1\\t18\\t148\\t1\\t0\\t0\\t0\\t0\\t2282',\n",
       " '1\\t18\\t110\\t1\\t1\\t1\\t0\\t0\\t2296',\n",
       " '1\\t20\\t121\\t0\\t1\\t1\\t0\\t1\\t2296',\n",
       " '1\\t21\\t100\\t1\\t0\\t1\\t0\\t0\\t2301',\n",
       " '1\\t26\\t96\\t1\\t0\\t0\\t0\\t0\\t2325',\n",
       " '1\\t31\\t102\\t0\\t1\\t1\\t0\\t0\\t2353',\n",
       " '1\\t15\\t110\\t0\\t0\\t0\\t0\\t0\\t2353',\n",
       " '1\\t23\\t187\\t1\\t1\\t0\\t0\\t0\\t2367',\n",
       " '1\\t20\\t122\\t1\\t1\\t1\\t0\\t0\\t2381',\n",
       " '1\\t24\\t105\\t1\\t1\\t0\\t0\\t0\\t2381',\n",
       " '1\\t15\\t115\\t1\\t0\\t0\\t0\\t1\\t2381',\n",
       " '1\\t23\\t120\\t1\\t0\\t0\\t0\\t0\\t2395',\n",
       " '1\\t30\\t142\\t0\\t1\\t1\\t0\\t0\\t2410',\n",
       " '1\\t22\\t130\\t0\\t1\\t0\\t0\\t0\\t2410',\n",
       " '1\\t17\\t120\\t0\\t1\\t0\\t0\\t0\\t2414',\n",
       " '1\\t23\\t110\\t0\\t1\\t1\\t0\\t0\\t2424',\n",
       " '1\\t17\\t120\\t1\\t0\\t0\\t0\\t0\\t2438',\n",
       " '1\\t26\\t154\\t1\\t0\\t1\\t1\\t0\\t2442',\n",
       " '1\\t20\\t105\\t1\\t0\\t0\\t0\\t0\\t2450',\n",
       " '1\\t26\\t168\\t0\\t1\\t0\\t0\\t0\\t2466',\n",
       " '1\\t14\\t101\\t1\\t1\\t1\\t0\\t0\\t2466',\n",
       " '1\\t28\\t95\\t0\\t1\\t0\\t0\\t0\\t2466',\n",
       " '1\\t14\\t100\\t1\\t0\\t0\\t0\\t0\\t2495',\n",
       " '1\\t23\\t94\\t1\\t1\\t0\\t0\\t0\\t2495',\n",
       " '1\\t17\\t142\\t1\\t0\\t0\\t1\\t0\\t2495',\n",
       " '1\\t21\\t130\\t0\\t1\\t0\\t1\\t0\\t2495',\n",
       " '0\\t19\\t182\\t1\\t0\\t0\\t0\\t1\\t2523',\n",
       " '0\\t33\\t155\\t1\\t0\\t0\\t0\\t0\\t2551',\n",
       " '0\\t20\\t105\\t0\\t1\\t0\\t0\\t0\\t2557',\n",
       " '0\\t21\\t108\\t0\\t1\\t0\\t0\\t1\\t2594',\n",
       " '0\\t18\\t107\\t0\\t1\\t0\\t0\\t1\\t2600',\n",
       " '0\\t21\\t124\\t1\\t0\\t0\\t0\\t0\\t2622',\n",
       " '0\\t22\\t118\\t0\\t0\\t0\\t0\\t0\\t2637',\n",
       " '0\\t17\\t103\\t1\\t0\\t0\\t0\\t0\\t2637',\n",
       " '0\\t29\\t123\\t0\\t1\\t0\\t0\\t0\\t2663',\n",
       " '0\\t26\\t113\\t0\\t1\\t0\\t0\\t0\\t2665',\n",
       " '0\\t19\\t95\\t1\\t0\\t0\\t0\\t0\\t2722',\n",
       " '0\\t19\\t150\\t1\\t0\\t0\\t0\\t0\\t2733',\n",
       " '0\\t22\\t95\\t1\\t0\\t0\\t1\\t0\\t2750',\n",
       " '0\\t30\\t107\\t1\\t0\\t1\\t0\\t1\\t2750',\n",
       " '0\\t18\\t100\\t0\\t1\\t0\\t0\\t0\\t2769',\n",
       " '0\\t18\\t100\\t1\\t1\\t0\\t0\\t0\\t2769',\n",
       " '0\\t15\\t98\\t1\\t0\\t0\\t0\\t0\\t2778',\n",
       " '0\\t25\\t118\\t0\\t1\\t0\\t0\\t0\\t2782',\n",
       " '0\\t20\\t120\\t1\\t0\\t0\\t0\\t1\\t2807',\n",
       " '0\\t28\\t120\\t0\\t1\\t0\\t0\\t0\\t2821',\n",
       " '0\\t32\\t121\\t1\\t0\\t0\\t0\\t0\\t2835',\n",
       " '0\\t31\\t100\\t0\\t0\\t0\\t0\\t1\\t2835',\n",
       " '0\\t36\\t202\\t0\\t0\\t0\\t0\\t0\\t2836',\n",
       " '0\\t28\\t120\\t1\\t0\\t0\\t0\\t0\\t2863',\n",
       " '0\\t25\\t120\\t1\\t0\\t0\\t0\\t1\\t2877',\n",
       " '0\\t28\\t167\\t0\\t0\\t0\\t0\\t0\\t2877',\n",
       " '0\\t17\\t122\\t0\\t1\\t0\\t0\\t0\\t2906',\n",
       " '0\\t29\\t150\\t0\\t0\\t0\\t0\\t0\\t2920',\n",
       " '0\\t26\\t168\\t1\\t1\\t0\\t0\\t0\\t2920',\n",
       " '0\\t17\\t113\\t1\\t0\\t0\\t0\\t0\\t2920',\n",
       " '0\\t17\\t113\\t1\\t0\\t0\\t0\\t0\\t2920',\n",
       " '0\\t24\\t90\\t0\\t1\\t1\\t0\\t0\\t2948',\n",
       " '0\\t35\\t121\\t1\\t1\\t1\\t1\\t0\\t2948',\n",
       " '0\\t25\\t155\\t0\\t1\\t1\\t0\\t0\\t2977',\n",
       " '0\\t25\\t125\\t1\\t0\\t0\\t0\\t0\\t2977',\n",
       " '0\\t29\\t140\\t0\\t1\\t0\\t0\\t0\\t2977',\n",
       " '0\\t19\\t138\\t0\\t1\\t0\\t1\\t0\\t2977',\n",
       " '0\\t27\\t124\\t0\\t1\\t0\\t0\\t0\\t2992',\n",
       " '0\\t31\\t115\\t0\\t1\\t0\\t0\\t0\\t3005',\n",
       " '0\\t33\\t109\\t0\\t1\\t0\\t0\\t0\\t3033',\n",
       " '0\\t21\\t185\\t1\\t1\\t0\\t0\\t0\\t3042',\n",
       " '0\\t19\\t189\\t0\\t0\\t0\\t0\\t0\\t3062',\n",
       " '0\\t23\\t130\\t1\\t0\\t0\\t0\\t0\\t3062',\n",
       " '0\\t21\\t160\\t0\\t0\\t0\\t0\\t0\\t3062',\n",
       " '0\\t18\\t90\\t0\\t1\\t0\\t0\\t1\\t3076',\n",
       " '0\\t18\\t90\\t0\\t1\\t0\\t0\\t1\\t3076',\n",
       " '0\\t32\\t132\\t0\\t0\\t0\\t0\\t0\\t3080',\n",
       " '0\\t19\\t132\\t1\\t0\\t0\\t0\\t0\\t3090',\n",
       " '0\\t24\\t115\\t0\\t0\\t0\\t0\\t0\\t3090',\n",
       " '0\\t22\\t85\\t1\\t1\\t0\\t0\\t0\\t3090',\n",
       " '0\\t22\\t120\\t0\\t0\\t0\\t1\\t0\\t3100',\n",
       " '0\\t23\\t128\\t1\\t0\\t0\\t0\\t0\\t3104',\n",
       " '0\\t22\\t130\\t0\\t1\\t0\\t0\\t0\\t3132',\n",
       " '0\\t30\\t95\\t0\\t1\\t0\\t0\\t0\\t3147',\n",
       " '0\\t19\\t115\\t1\\t0\\t0\\t0\\t0\\t3175',\n",
       " '0\\t16\\t110\\t1\\t0\\t0\\t0\\t0\\t3175',\n",
       " '0\\t21\\t110\\t1\\t1\\t0\\t0\\t1\\t3203',\n",
       " '0\\t30\\t153\\t1\\t0\\t0\\t0\\t0\\t3203',\n",
       " '0\\t20\\t103\\t1\\t0\\t0\\t0\\t0\\t3203',\n",
       " '0\\t17\\t119\\t1\\t0\\t0\\t0\\t0\\t3225',\n",
       " '0\\t17\\t119\\t1\\t0\\t0\\t0\\t0\\t3225',\n",
       " '0\\t23\\t119\\t1\\t0\\t0\\t0\\t0\\t3232',\n",
       " '0\\t24\\t110\\t1\\t0\\t0\\t0\\t0\\t3232',\n",
       " '0\\t28\\t140\\t0\\t0\\t0\\t0\\t0\\t3234',\n",
       " '0\\t26\\t133\\t1\\t1\\t0\\t0\\t0\\t3260',\n",
       " '0\\t20\\t169\\t1\\t0\\t1\\t0\\t1\\t3274',\n",
       " '0\\t24\\t115\\t1\\t0\\t0\\t0\\t0\\t3274',\n",
       " '0\\t28\\t250\\t1\\t1\\t0\\t0\\t0\\t3303',\n",
       " '0\\t20\\t141\\t0\\t0\\t0\\t0\\t1\\t3317',\n",
       " '0\\t22\\t158\\t1\\t0\\t1\\t0\\t0\\t3317',\n",
       " '0\\t22\\t112\\t0\\t1\\t1\\t0\\t0\\t3317',\n",
       " '0\\t31\\t150\\t1\\t1\\t0\\t0\\t0\\t3321',\n",
       " '0\\t23\\t115\\t1\\t1\\t0\\t0\\t0\\t3331',\n",
       " '0\\t16\\t112\\t1\\t0\\t0\\t0\\t0\\t3374',\n",
       " '0\\t16\\t135\\t0\\t1\\t0\\t0\\t0\\t3374',\n",
       " '0\\t18\\t229\\t1\\t0\\t0\\t0\\t0\\t3402',\n",
       " '0\\t25\\t140\\t0\\t0\\t0\\t0\\t0\\t3416',\n",
       " '0\\t32\\t134\\t0\\t1\\t1\\t0\\t0\\t3430',\n",
       " '0\\t20\\t121\\t1\\t1\\t0\\t0\\t0\\t3444',\n",
       " '0\\t23\\t190\\t0\\t0\\t0\\t0\\t0\\t3459',\n",
       " '0\\t22\\t131\\t0\\t0\\t0\\t0\\t0\\t3460',\n",
       " '0\\t32\\t170\\t0\\t0\\t0\\t0\\t0\\t3473',\n",
       " '0\\t30\\t110\\t1\\t0\\t0\\t0\\t0\\t3475',\n",
       " '0\\t20\\t127\\t1\\t0\\t0\\t0\\t0\\t3487',\n",
       " '0\\t23\\t123\\t1\\t0\\t0\\t0\\t0\\t3544',\n",
       " '0\\t17\\t120\\t1\\t1\\t0\\t0\\t0\\t3572',\n",
       " '0\\t19\\t105\\t1\\t0\\t0\\t0\\t0\\t3572',\n",
       " '0\\t23\\t130\\t0\\t0\\t0\\t0\\t0\\t3586',\n",
       " '0\\t36\\t175\\t0\\t0\\t0\\t0\\t0\\t3600',\n",
       " '0\\t22\\t125\\t0\\t0\\t0\\t0\\t0\\t3614',\n",
       " '0\\t24\\t133\\t0\\t0\\t0\\t0\\t0\\t3614',\n",
       " '0\\t21\\t134\\t1\\t0\\t0\\t0\\t0\\t3629',\n",
       " '0\\t19\\t235\\t0\\t1\\t0\\t1\\t0\\t3629',\n",
       " '0\\t25\\t200\\t0\\t0\\t1\\t0\\t1\\t3637',\n",
       " '0\\t16\\t135\\t0\\t1\\t0\\t0\\t0\\t3643',\n",
       " '0\\t29\\t135\\t0\\t0\\t0\\t0\\t0\\t3651',\n",
       " '0\\t29\\t154\\t0\\t0\\t0\\t0\\t0\\t3651',\n",
       " '0\\t19\\t147\\t0\\t1\\t0\\t0\\t0\\t3651',\n",
       " '0\\t19\\t147\\t0\\t1\\t0\\t0\\t0\\t3651',\n",
       " '0\\t30\\t137\\t0\\t0\\t0\\t0\\t0\\t3699',\n",
       " '0\\t24\\t110\\t0\\t0\\t0\\t0\\t0\\t3728',\n",
       " '0\\t19\\t184\\t0\\t1\\t0\\t1\\t0\\t3756',\n",
       " '0\\t24\\t110\\t0\\t0\\t1\\t0\\t0\\t3770',\n",
       " '0\\t23\\t110\\t0\\t0\\t0\\t0\\t0\\t3770',\n",
       " '0\\t20\\t120\\t1\\t0\\t0\\t0\\t0\\t3770',\n",
       " '0\\t25\\t141\\t0\\t0\\t0\\t1\\t0\\t3790',\n",
       " '0\\t30\\t112\\t0\\t0\\t0\\t0\\t0\\t3799',\n",
       " '0\\t22\\t169\\t0\\t0\\t0\\t0\\t0\\t3827',\n",
       " '0\\t18\\t120\\t0\\t1\\t0\\t0\\t0\\t3856',\n",
       " '0\\t16\\t170\\t1\\t0\\t0\\t0\\t0\\t3860',\n",
       " '0\\t32\\t186\\t0\\t0\\t0\\t0\\t0\\t3860',\n",
       " '0\\t18\\t120\\t1\\t0\\t0\\t0\\t0\\t3884',\n",
       " '0\\t29\\t130\\t0\\t1\\t0\\t0\\t0\\t3884',\n",
       " '0\\t33\\t117\\t0\\t0\\t0\\t0\\t1\\t3912',\n",
       " '0\\t20\\t170\\t0\\t1\\t0\\t0\\t0\\t3940',\n",
       " '0\\t28\\t134\\t1\\t0\\t0\\t0\\t0\\t3941',\n",
       " '0\\t14\\t135\\t0\\t0\\t1\\t0\\t0\\t3941',\n",
       " '0\\t28\\t130\\t1\\t0\\t0\\t0\\t0\\t3969',\n",
       " '0\\t25\\t120\\t0\\t0\\t0\\t0\\t0\\t3983',\n",
       " '0\\t16\\t135\\t1\\t0\\t0\\t0\\t0\\t3997',\n",
       " '0\\t20\\t158\\t0\\t0\\t0\\t0\\t0\\t3997',\n",
       " '0\\t26\\t160\\t0\\t0\\t0\\t0\\t0\\t4054',\n",
       " '0\\t21\\t115\\t0\\t0\\t0\\t0\\t0\\t4054',\n",
       " '0\\t22\\t129\\t0\\t0\\t0\\t0\\t0\\t4111',\n",
       " '0\\t25\\t130\\t0\\t0\\t0\\t0\\t0\\t4153',\n",
       " '0\\t31\\t120\\t0\\t0\\t0\\t0\\t0\\t4167',\n",
       " '0\\t35\\t170\\t0\\t0\\t1\\t0\\t0\\t4174',\n",
       " '0\\t19\\t120\\t0\\t1\\t0\\t1\\t0\\t4238',\n",
       " '0\\t24\\t216\\t0\\t0\\t0\\t0\\t0\\t4593',\n",
       " '0\\t45\\t123\\t0\\t0\\t1\\t0\\t0\\t4990',\n",
       " '',\n",
       " '']"
      ]
     },
     "execution_count": 72,
     "metadata": {},
     "output_type": "execute_result"
    }
   ],
   "source": [
    "birth_data"
   ]
  },
  {
   "cell_type": "code",
   "execution_count": 73,
   "metadata": {},
   "outputs": [],
   "source": [
    "header = birth_data[0].split(\"\\t\")\n",
    "data = [[float(x) for x in y.split(\"\\t\") if len(x) >= 1] for y in birth_data[1:] if len(y) >= 1]"
   ]
  },
  {
   "cell_type": "code",
   "execution_count": 74,
   "metadata": {},
   "outputs": [],
   "source": [
    "import os\n",
    "import csv\n",
    "\n",
    "filename = \"../../datasets/birthweight.csv\"\n",
    "\n",
    "if os.path.exists(filename):\n",
    "    with open(filename, \"w\", newline=\"\") as f:\n",
    "        writer = csv.writer(f)\n",
    "        writer.writerow(header)\n",
    "        writer.writerows(data)\n",
    "        f.close()"
   ]
  },
  {
   "cell_type": "code",
   "execution_count": 75,
   "metadata": {},
   "outputs": [],
   "source": [
    "import pandas as pd\n",
    "\n",
    "birth_data = []\n",
    "\n",
    "with open(filename, newline=\"\") as csvfile:\n",
    "    csv_reader = csv.reader(csvfile)\n",
    "    birth_header = next(csv_reader)\n",
    "    for row in csv_reader:\n",
    "        birth_data.append(row)"
   ]
  },
  {
   "cell_type": "code",
   "execution_count": 76,
   "metadata": {},
   "outputs": [
    {
     "data": {
      "text/plain": [
       "['1.0', '28.0', '113.0', '1.0', '1.0', '1.0', '0.0', '1.0', '709.0']"
      ]
     },
     "execution_count": 76,
     "metadata": {},
     "output_type": "execute_result"
    }
   ],
   "source": [
    "birth_data[0]"
   ]
  },
  {
   "cell_type": "code",
   "execution_count": 77,
   "metadata": {},
   "outputs": [
    {
     "data": {
      "text/plain": [
       "[1.0, 28.0, 113.0, 1.0, 1.0, 1.0, 0.0, 1.0, 709.0]"
      ]
     },
     "execution_count": 77,
     "metadata": {},
     "output_type": "execute_result"
    }
   ],
   "source": [
    "birth_data = [[float(x) for x in row] for row in birth_data]\n",
    "birth_data[0]"
   ]
  },
  {
   "cell_type": "code",
   "execution_count": 78,
   "metadata": {},
   "outputs": [],
   "source": [
    "y_vals = np.array([x[0] for x in birth_data])\n",
    "x_vals = np.array([x[1:] for x in birth_data])"
   ]
  },
  {
   "cell_type": "markdown",
   "metadata": {},
   "source": [
    "## Dividir en entrenamiento y test"
   ]
  },
  {
   "cell_type": "code",
   "execution_count": 79,
   "metadata": {},
   "outputs": [],
   "source": [
    "train_idx = np.random.choice(len(x_vals), size=round(len(x_vals)*0.8), replace=False)\n",
    "test_idx = np.array(list(set(range(len(x_vals))) - set(train_idx)))\n",
    "\n",
    "x_train = x_vals[train_idx]\n",
    "y_train = y_vals[train_idx]\n",
    "x_test = x_vals[test_idx]\n",
    "y_test = y_vals[test_idx]"
   ]
  },
  {
   "cell_type": "markdown",
   "metadata": {},
   "source": [
    "## Normalización de los datos\n",
    "\n",
    "Importante para que la regresión logística converja"
   ]
  },
  {
   "cell_type": "code",
   "execution_count": 80,
   "metadata": {},
   "outputs": [],
   "source": [
    "from sklearn.preprocessing import normalize"
   ]
  },
  {
   "cell_type": "code",
   "execution_count": 81,
   "metadata": {},
   "outputs": [],
   "source": [
    "def normalize_cols(column, col_min = np.array([None]), col_max = np.array([None])):\n",
    "    if not col_min[0]: # Si no hemos suministrado ningún array indicando la columna mínima\n",
    "        col_min = column.min(axis=0)\n",
    "    if not col_max[0]:\n",
    "        col_max = column.max(axis=0)\n",
    "    return (column - col_min)/(col_max - col_min), col_min, col_max\n",
    "\n",
    "# Normalizará la columna 'column' entre los valores 'col_min' y 'col_max'"
   ]
  },
  {
   "cell_type": "code",
   "execution_count": 85,
   "metadata": {},
   "outputs": [],
   "source": [
    "x_train_normalized, train_min, train_max = np.nan_to_num(normalize_cols(x_train))"
   ]
  },
  {
   "cell_type": "code",
   "execution_count": 87,
   "metadata": {},
   "outputs": [
    {
     "data": {
      "text/plain": [
       "array([0.64516129, 0.70833333, 1.        , 1.        , 0.        ,\n",
       "       1.        , 0.        , 0.09950946])"
      ]
     },
     "execution_count": 87,
     "metadata": {},
     "output_type": "execute_result"
    }
   ],
   "source": [
    "x_train_normalized[0]"
   ]
  },
  {
   "cell_type": "code",
   "execution_count": 84,
   "metadata": {},
   "outputs": [
    {
     "data": {
      "text/plain": [
       "(array([ 14.,  85.,   0.,   0.,   0.,   0.,   0., 709.]),\n",
       " array([4.50e+01, 2.29e+02, 1.00e+00, 1.00e+00, 1.00e+00, 1.00e+00,\n",
       "        1.00e+00, 4.99e+03]))"
      ]
     },
     "execution_count": 84,
     "metadata": {},
     "output_type": "execute_result"
    }
   ],
   "source": [
    "train_min, train_max"
   ]
  },
  {
   "cell_type": "code",
   "execution_count": 88,
   "metadata": {},
   "outputs": [],
   "source": [
    "x_test_normalized = np.nan_to_num(normalize_cols(x_test, col_min=train_min, col_max=train_max))\n",
    "# Se debe escalar el test con los mismos factores de escala que se hayan llevado a cabo en el entrenamiento"
   ]
  },
  {
   "cell_type": "markdown",
   "metadata": {},
   "source": [
    "## Modelo de regresión logística"
   ]
  },
  {
   "cell_type": "code",
   "execution_count": 143,
   "metadata": {},
   "outputs": [],
   "source": [
    "batch_size = 25\n",
    "learning_rate = 0.01"
   ]
  },
  {
   "cell_type": "code",
   "execution_count": 144,
   "metadata": {},
   "outputs": [
    {
     "data": {
      "text/plain": [
       "(189, 8)"
      ]
     },
     "execution_count": 144,
     "metadata": {},
     "output_type": "execute_result"
    }
   ],
   "source": [
    "x_vals.shape"
   ]
  },
  {
   "cell_type": "markdown",
   "metadata": {},
   "source": [
    "- $ x \\in \\mathbb R^7 $\n",
    "- $ A \\in \\mathbb R_{8x1} $\n",
    "- $ b \\in \\mathbb R $\n",
    "- $ y = Ax + b \\in R $\n",
    "- $ \\hat{y} = sigmoid(y) \\in (0,1) $"
   ]
  },
  {
   "cell_type": "code",
   "execution_count": 159,
   "metadata": {},
   "outputs": [],
   "source": [
    "x_data = tf.placeholder(shape=[None, x_vals.shape[1]], dtype=tf.float32)\n",
    "y_target = tf.placeholder(shape=[None, 1], dtype=tf.float32)\n",
    "A = tf.Variable(tf.random_normal(shape=[8,1]))\n",
    "b = tf.Variable(tf.random_normal(shape=[1,1]))\n",
    "y_pred = tf.add(tf.matmul(x_data, A), b)"
   ]
  },
  {
   "cell_type": "code",
   "execution_count": 160,
   "metadata": {},
   "outputs": [],
   "source": [
    "loss = tf.reduce_mean(tf.nn.sigmoid_cross_entropy_with_logits(logits=y_pred, labels=y_target))\n",
    "optimizer = tf.train.GradientDescentOptimizer(learning_rate=learning_rate)\n",
    "train = optimizer.minimize(loss)"
   ]
  },
  {
   "cell_type": "code",
   "execution_count": 161,
   "metadata": {},
   "outputs": [],
   "source": [
    "init = tf.global_variables_initializer()\n",
    "session.run(init)"
   ]
  },
  {
   "cell_type": "code",
   "execution_count": 162,
   "metadata": {},
   "outputs": [],
   "source": [
    "classification_lr = tf.round(tf.sigmoid(y_pred)) # y^\n",
    "correct_classification = tf.cast(tf.equal(classification_lr, y_target), tf.float32)\n",
    "accuracy = tf.reduce_mean(correct_classification)"
   ]
  },
  {
   "cell_type": "code",
   "execution_count": 163,
   "metadata": {},
   "outputs": [
    {
     "name": "stdout",
     "output_type": "stream",
     "text": [
      "Step #100 ==> Train Accuracy: 0.3178808093070984, Test Accuracy: 0.2368421107530594 Loss: 1.3893537521362305\n",
      "Step #200 ==> Train Accuracy: 0.5364238619804382, Test Accuracy: 0.2368421107530594 Loss: 0.7926295399665833\n",
      "Step #300 ==> Train Accuracy: 0.5827814340591431, Test Accuracy: 0.2368421107530594 Loss: 0.7810009717941284\n",
      "Step #400 ==> Train Accuracy: 0.6225165724754333, Test Accuracy: 0.2368421107530594 Loss: 0.5610067248344421\n",
      "Step #500 ==> Train Accuracy: 0.6357616186141968, Test Accuracy: 0.2368421107530594 Loss: 0.5665194988250732\n",
      "Step #600 ==> Train Accuracy: 0.7218543291091919, Test Accuracy: 0.7631579041481018 Loss: 0.6567369103431702\n",
      "Step #700 ==> Train Accuracy: 0.748344361782074, Test Accuracy: 0.7631579041481018 Loss: 0.5835410952568054\n",
      "Step #800 ==> Train Accuracy: 0.7417218685150146, Test Accuracy: 0.7631579041481018 Loss: 0.5400846004486084\n",
      "Step #900 ==> Train Accuracy: 0.7417218685150146, Test Accuracy: 0.7631579041481018 Loss: 0.6071128845214844\n",
      "Step #1000 ==> Train Accuracy: 0.7350993156433105, Test Accuracy: 0.7631579041481018 Loss: 0.43428662419319153\n",
      "Step #1100 ==> Train Accuracy: 0.7417218685150146, Test Accuracy: 0.7631579041481018 Loss: 0.5090937614440918\n",
      "Step #1200 ==> Train Accuracy: 0.7350993156433105, Test Accuracy: 0.7631579041481018 Loss: 0.44477662444114685\n",
      "Step #1300 ==> Train Accuracy: 0.7417218685150146, Test Accuracy: 0.7631579041481018 Loss: 0.45997849106788635\n",
      "Step #1400 ==> Train Accuracy: 0.748344361782074, Test Accuracy: 0.7631579041481018 Loss: 0.634783923625946\n",
      "Step #1500 ==> Train Accuracy: 0.7549669146537781, Test Accuracy: 0.7631579041481018 Loss: 0.6038458943367004\n",
      "Step #1600 ==> Train Accuracy: 0.7549669146537781, Test Accuracy: 0.7631579041481018 Loss: 0.5670675039291382\n",
      "Step #1700 ==> Train Accuracy: 0.7549669146537781, Test Accuracy: 0.7631579041481018 Loss: 0.5079915523529053\n",
      "Step #1800 ==> Train Accuracy: 0.7549669146537781, Test Accuracy: 0.7631579041481018 Loss: 0.6015902161598206\n",
      "Step #1900 ==> Train Accuracy: 0.7549669146537781, Test Accuracy: 0.7631579041481018 Loss: 0.3848375082015991\n",
      "Step #2000 ==> Train Accuracy: 0.7549669146537781, Test Accuracy: 0.7631579041481018 Loss: 0.5290148258209229\n"
     ]
    }
   ],
   "source": [
    "loss_vect = []\n",
    "train_accuracy = []\n",
    "test_accuracy = []\n",
    "\n",
    "for i in range(2000):\n",
    "    rand_idx = np.random.choice(len(x_train), size=batch_size)\n",
    "    rand_x = x_train[rand_idx]\n",
    "    rand_y = np.transpose([y_train[rand_idx]])\n",
    "    session.run(train, feed_dict={x_data: rand_x, y_target: rand_y})\n",
    "    temp_loss = session.run(loss, feed_dict={x_data: rand_x, y_target: rand_y})\n",
    "    loss_vect.append(temp_loss)\n",
    "    acc_train = session.run(accuracy, feed_dict={x_data: x_train, y_target: np.transpose([y_train])})\n",
    "    train_accuracy.append(acc_train)\n",
    "    acc_test = session.run(accuracy, feed_dict={x_data: x_test, y_target: np.transpose([y_test])})\n",
    "    test_accuracy.append(acc_test)\n",
    "    if (i+1)%100 == 0:\n",
    "        print(\"Step #{} ==> Train Accuracy: {}, Test Accuracy: {} Loss: {}\".format(i+1, acc_train, acc_test, temp_loss))"
   ]
  },
  {
   "cell_type": "code",
   "execution_count": 164,
   "metadata": {},
   "outputs": [
    {
     "data": {
      "image/png": "[encoded data removed]",
      "text/plain": [
       "<Figure size 1080x720 with 1 Axes>"
      ]
     },
     "metadata": {
      "needs_background": "light"
     },
     "output_type": "display_data"
    }
   ],
   "source": [
    "plt.figure(figsize=(15,10))\n",
    "plt.plot(loss_vect)\n",
    "plt.title(\"Función de pérdidas\", fontsize=15)\n",
    "plt.xlabel(\"Iteración\", fontsize=12)\n",
    "plt.ylabel(\"Pérdidas\", fontsize=12)\n",
    "plt.show()"
   ]
  },
  {
   "cell_type": "code",
   "execution_count": 167,
   "metadata": {},
   "outputs": [
    {
     "data": {
      "image/png": "[encoded data removed]",
      "text/plain": [
       "<Figure size 1080x720 with 1 Axes>"
      ]
     },
     "metadata": {
      "needs_background": "light"
     },
     "output_type": "display_data"
    }
   ],
   "source": [
    "plt.figure(figsize=(15,10))\n",
    "plt.plot(train_accuracy, \"r\", label=\"Conjunto de entrenamiento\")\n",
    "plt.plot(test_accuracy, \"b\", label=\"Conjunto de testing\")\n",
    "plt.title(\"Precisión de entrenamiento y testing\", fontsize=15)\n",
    "plt.xlabel(\"Iteración\", fontsize=13)\n",
    "plt.ylabel(\"Precisión\", fontsize=13)\n",
    "plt.legend(loc=\"lower right\")\n",
    "plt.show()"
   ]
  },
  {
   "cell_type": "code",
   "execution_count": null,
   "metadata": {},
   "outputs": [],
   "source": []
  }
 ],
 "metadata": {
  "kernelspec": {
   "display_name": "Python 3",
   "language": "python",
   "name": "python3"
  },
  "language_info": {
   "codemirror_mode": {
    "name": "ipython",
    "version": 3
   },
   "file_extension": ".py",
   "mimetype": "text/x-python",
   "name": "python",
   "nbconvert_exporter": "python",
   "pygments_lexer": "ipython3",
   "version": "3.6.8"
  }
 },
 "nbformat": 4,
 "nbformat_minor": 2
}
