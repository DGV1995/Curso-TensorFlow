{
 "cells": [
  {
   "cell_type": "markdown",
   "metadata": {},
   "source": [
    "# Elastic Net\n",
    "\n",
    "Combina la regresión Lasso con la regresión Ridge, añadiendo un término en norma L1 (Lasso) y otro término en norma L2 (Ridge)"
   ]
  },
  {
   "cell_type": "code",
   "execution_count": 1,
   "metadata": {},
   "outputs": [],
   "source": [
    "import tensorflow as tf\n",
    "import matplotlib.pyplot as plt\n",
    "import numpy as np\n",
    "from sklearn import datasets"
   ]
  },
  {
   "cell_type": "code",
   "execution_count": 27,
   "metadata": {},
   "outputs": [],
   "source": [
    "session = tf.Session()"
   ]
  },
  {
   "cell_type": "code",
   "execution_count": 28,
   "metadata": {},
   "outputs": [],
   "source": [
    "iris = datasets.load_iris()"
   ]
  },
  {
   "cell_type": "code",
   "execution_count": 29,
   "metadata": {},
   "outputs": [],
   "source": [
    "x_vals = np.array([[x[1], x[2], x[3]] for x in iris.data])\n",
    "y_vals = np.array([x[0] for x in iris.data])"
   ]
  },
  {
   "cell_type": "code",
   "execution_count": 30,
   "metadata": {},
   "outputs": [],
   "source": [
    "batch_size=50\n",
    "learning_rate = 0.001"
   ]
  },
  {
   "cell_type": "markdown",
   "metadata": {},
   "source": [
    "- $ x \\in\\mathbb R^3 $\n",
    "- $ A \\in\\mathbb R_{3\\times1} $\n",
    "- $ y = Ax + b \\in \\mathbb R $"
   ]
  },
  {
   "cell_type": "code",
   "execution_count": 31,
   "metadata": {},
   "outputs": [],
   "source": [
    "x_data = tf.placeholder(shape=[None, 3], dtype=tf.float32)\n",
    "y_target = tf.placeholder(shape=[None, 1], dtype=tf.float32)\n",
    "A = tf.Variable(tf.random_normal(shape=[3,1]))\n",
    "b = tf.Variable(tf.random_normal(shape=[1,1]))\n",
    "y_pred = tf.add(tf.matmul(x_data, A), b)"
   ]
  },
  {
   "cell_type": "markdown",
   "metadata": {},
   "source": [
    "$$ Loss = \\sum\\frac{(y_r - y_p)^2}{n} + \\alpha \\cdot |A| + \\beta \\cdot A^2 $$"
   ]
  },
  {
   "cell_type": "code",
   "execution_count": 32,
   "metadata": {},
   "outputs": [],
   "source": [
    "elastic_param1 = tf.constant(1.0)\n",
    "elastic_param2 = tf.constant(1.0)\n",
    "\n",
    "l1_a_loss = tf.reduce_mean(tf.abs(A))\n",
    "l2_a_loss = tf.reduce_mean(tf.square(A))\n",
    "\n",
    "e1_term = tf.multiply(elastic_param1, l1_a_loss)\n",
    "e2_term = tf.multiply(elastic_param2, l2_a_loss)\n",
    "\n",
    "loss = tf.expand_dims(tf.add(tf.add(tf.reduce_mean(tf.square(y_target - y_pred)), e1_term), e2_term), 0)"
   ]
  },
  {
   "cell_type": "code",
   "execution_count": 33,
   "metadata": {},
   "outputs": [],
   "source": [
    "init = tf.global_variables_initializer()\n",
    "session.run(init)"
   ]
  },
  {
   "cell_type": "code",
   "execution_count": 34,
   "metadata": {},
   "outputs": [],
   "source": [
    "optimizer = tf.train.GradientDescentOptimizer(learning_rate=learning_rate)\n",
    "train = optimizer.minimize(loss)"
   ]
  },
  {
   "cell_type": "code",
   "execution_count": 35,
   "metadata": {},
   "outputs": [
    {
     "name": "stdout",
     "output_type": "stream",
     "text": [
      "Step #100 ==> A = [[0.9847991 ]\n",
      " [0.09077697]\n",
      " [1.7062886 ]], b = [[0.13641086]], Loss = [2.941668]\n",
      "Step #200 ==> A = [[1.044773  ]\n",
      " [0.09471473]\n",
      " [1.544179  ]], b = [[0.18973029]], Loss = [2.6182108]\n",
      "Step #300 ==> A = [[1.0745447 ]\n",
      " [0.11269621]\n",
      " [1.4015864 ]], b = [[0.23592812]], Loss = [2.3506405]\n",
      "Step #400 ==> A = [[1.0904554 ]\n",
      " [0.13030137]\n",
      " [1.2713085 ]], b = [[0.27835488]], Loss = [2.0722923]\n",
      "Step #500 ==> A = [[1.0959029]\n",
      " [0.1546639]\n",
      " [1.1545224]], b = [[0.31815875]], Loss = [2.0058198]\n",
      "Step #600 ==> A = [[1.0926309 ]\n",
      " [0.18225896]\n",
      " [1.0489477 ]], b = [[0.35559368]], Loss = [1.8745089]\n",
      "Step #700 ==> A = [[1.0841802 ]\n",
      " [0.21469507]\n",
      " [0.9536814 ]], b = [[0.3915763]], Loss = [1.6783931]\n",
      "Step #800 ==> A = [[1.0719715 ]\n",
      " [0.24267486]\n",
      " [0.8652795 ]], b = [[0.42604432]], Loss = [1.630518]\n",
      "Step #900 ==> A = [[1.0617007 ]\n",
      " [0.27487662]\n",
      " [0.7850206 ]], b = [[0.4607165]], Loss = [1.5501058]\n",
      "Step #1000 ==> A = [[1.046507  ]\n",
      " [0.29574752]\n",
      " [0.7085426 ]], b = [[0.49329105]], Loss = [1.4167619]\n"
     ]
    }
   ],
   "source": [
    "loss_vector = []\n",
    "\n",
    "for i in range(1000):\n",
    "    rand_idx = np.random.choice(len(x_vals), size=batch_size)\n",
    "    rand_x = x_vals[rand_idx]\n",
    "    rand_y = np.transpose([y_vals[rand_idx]])\n",
    "    session.run(train, feed_dict={x_data: rand_x, y_target: rand_y})\n",
    "    temp_loss = session.run(loss, feed_dict={x_data: rand_x, y_target: rand_y})\n",
    "    loss_vector.append(temp_loss[0])\n",
    "    if (i+1)%100 == 0:\n",
    "        print(\"Step #{} ==> A = {}, b = {}, Loss = {}\".format(i+1, session.run(A), session.run(b), temp_loss))"
   ]
  },
  {
   "cell_type": "code",
   "execution_count": 46,
   "metadata": {},
   "outputs": [
    {
     "name": "stdout",
     "output_type": "stream",
     "text": [
      "1.046507 x1 + 0.29574752 x2 + 0.7085426 x3 + 0.49329105\n"
     ]
    }
   ],
   "source": [
    "slope = session.run(A)\n",
    "[[intercept]] = session.run(b)\n",
    "\n",
    "print(str(slope[0][0]) + \" x1 + \" + str(slope[1][0]) + \" x2 + \" + str(slope[2][0]) + \" x3 + \" + str(intercept))"
   ]
  },
  {
   "cell_type": "code",
   "execution_count": 49,
   "metadata": {},
   "outputs": [
    {
     "data": {
      "image/png": "[encoded data removed]",
      "text/plain": [
       "<Figure size 720x432 with 1 Axes>"
      ]
     },
     "metadata": {
      "needs_background": "light"
     },
     "output_type": "display_data"
    }
   ],
   "source": [
    "plt.figure(figsize=(10,6))\n",
    "plt.plot(loss_vector)\n",
    "plt.title(\"Regresión de la Elastic Net\", fontsize=15)\n",
    "plt.xlabel(\"Iteración\", fontsize=13)\n",
    "plt.ylabel(\"Pérdida\", fontsize=13)\n",
    "plt.show()"
   ]
  },
  {
   "cell_type": "code",
   "execution_count": null,
   "metadata": {},
   "outputs": [],
   "source": []
  }
 ],
 "metadata": {
  "kernelspec": {
   "display_name": "Python 3",
   "language": "python",
   "name": "python3"
  },
  "language_info": {
   "codemirror_mode": {
    "name": "ipython",
    "version": 3
   },
   "file_extension": ".py",
   "mimetype": "text/x-python",
   "name": "python",
   "nbconvert_exporter": "python",
   "pygments_lexer": "ipython3",
   "version": "3.6.8"
  }
 },
 "nbformat": 4,
 "nbformat_minor": 2
}
