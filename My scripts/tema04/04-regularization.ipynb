{
 "cells": [
  {
   "cell_type": "markdown",
   "metadata": {},
   "source": [
    "# Regresión Lasso y Ridge"
   ]
  },
  {
   "cell_type": "markdown",
   "metadata": {},
   "source": [
    "$$ y = Ax + b $$"
   ]
  },
  {
   "cell_type": "code",
   "execution_count": 40,
   "metadata": {},
   "outputs": [],
   "source": [
    "import tensorflow as tf\n",
    "import matplotlib.pyplot as plt\n",
    "import numpy as np\n",
    "from sklearn import datasets"
   ]
  },
  {
   "cell_type": "code",
   "execution_count": 41,
   "metadata": {},
   "outputs": [],
   "source": [
    "session = tf.Session()"
   ]
  },
  {
   "cell_type": "code",
   "execution_count": 42,
   "metadata": {},
   "outputs": [],
   "source": [
    "iris = datasets.load_iris()"
   ]
  },
  {
   "cell_type": "code",
   "execution_count": 43,
   "metadata": {},
   "outputs": [],
   "source": [
    "x_vals = np.array([x[3] for x in iris.data])\n",
    "y_vals = np.array([x[0] for x in iris.data])"
   ]
  },
  {
   "cell_type": "code",
   "execution_count": 44,
   "metadata": {},
   "outputs": [],
   "source": [
    "batch_size = 50\n",
    "learning_rate = 0.001"
   ]
  },
  {
   "cell_type": "code",
   "execution_count": 45,
   "metadata": {},
   "outputs": [],
   "source": [
    "x_data = tf.placeholder(shape=[None, 1], dtype=tf.float32)\n",
    "y_target = tf.placeholder(shape=[None, 1], dtype=tf.float32)\n",
    "A = tf.Variable(tf.random_normal(shape=[1,1]))\n",
    "b = tf.Variable(tf.random_normal(shape=[1,1]))\n",
    "y_pred = tf.add(tf.matmul(x_data, A), b)"
   ]
  },
  {
   "cell_type": "markdown",
   "metadata": {},
   "source": [
    "### Lasso"
   ]
  },
  {
   "cell_type": "markdown",
   "metadata": {},
   "source": [
    "$$ Heavyside step = \\frac{1}{1 + e^{100(A-0.9)}} $$\n",
    "\n"
   ]
  },
  {
   "cell_type": "markdown",
   "metadata": {},
   "source": [
    "$$ Loss = \\sum\\frac{(y_r - y_p)^2}{n} \\frac{99.0}{1 + e^{-100(A - 0.9)}} $$"
   ]
  },
  {
   "cell_type": "code",
   "execution_count": 46,
   "metadata": {},
   "outputs": [],
   "source": [
    "lasso_param = tf.constant(0.9)\n",
    "heavyside_step = tf.truediv(1.0, tf.add(1.0, tf.exp(tf.multiply(-100.0, tf.subtract(A, lasso_param)))))\n",
    "regularization_params = tf.multiply(heavyside_step, 99.0)\n",
    "loss = tf.add(tf.reduce_mean(tf.square(y_target - y_pred)), regularization_params)"
   ]
  },
  {
   "cell_type": "code",
   "execution_count": 47,
   "metadata": {},
   "outputs": [],
   "source": [
    "init = tf.global_variables_initializer()\n",
    "session.run(init)"
   ]
  },
  {
   "cell_type": "code",
   "execution_count": 48,
   "metadata": {},
   "outputs": [],
   "source": [
    "optimizer = tf.train.GradientDescentOptimizer(learning_rate=learning_rate)\n",
    "train = optimizer.minimize(loss)"
   ]
  },
  {
   "cell_type": "code",
   "execution_count": 49,
   "metadata": {},
   "outputs": [
    {
     "name": "stdout",
     "output_type": "stream",
     "text": [
      "Step #100, ==> A = [[0.83227247]], b = [[0.57340336]], Loss = [[18.804594]]\n",
      "Step #200, ==> A = [[0.83013076]], b = [[1.3481476]], Loss = [[13.628792]]\n",
      "Step #300, ==> A = [[0.82927376]], b = [[1.984572]], Loss = [[9.462257]]\n",
      "Step #400, ==> A = [[0.82503927]], b = [[2.5054245]], Loss = [[6.281097]]\n",
      "Step #500, ==> A = [[0.8224609]], b = [[2.9323604]], Loss = [[3.5208955]]\n",
      "Step #600, ==> A = [[0.8217311]], b = [[3.2809985]], Loss = [[2.933374]]\n",
      "Step #700, ==> A = [[0.8179899]], b = [[3.568198]], Loss = [[1.6968124]]\n",
      "Step #800, ==> A = [[0.8180251]], b = [[3.802889]], Loss = [[1.4038318]]\n",
      "Step #900, ==> A = [[0.81630117]], b = [[3.996389]], Loss = [[1.2506398]]\n",
      "Step #1000, ==> A = [[0.81462204]], b = [[4.154013]], Loss = [[0.8306694]]\n",
      "Step #1100, ==> A = [[0.8124462]], b = [[4.284032]], Loss = [[0.5921802]]\n",
      "Step #1200, ==> A = [[0.81006265]], b = [[4.389609]], Loss = [[0.44937596]]\n",
      "Step #1300, ==> A = [[0.8084356]], b = [[4.4775753]], Loss = [[0.45714393]]\n",
      "Step #1400, ==> A = [[0.8070362]], b = [[4.5510583]], Loss = [[0.41800618]]\n",
      "Step #1500, ==> A = [[0.80504525]], b = [[4.610649]], Loss = [[0.35196814]]\n",
      "Step #1600, ==> A = [[0.80511147]], b = [[4.6623807]], Loss = [[0.2605415]]\n",
      "Step #1700, ==> A = [[0.8020101]], b = [[4.7012796]], Loss = [[0.2104907]]\n",
      "Step #1800, ==> A = [[0.8002798]], b = [[4.734719]], Loss = [[0.22129856]]\n",
      "Step #1900, ==> A = [[0.8009549]], b = [[4.7625985]], Loss = [[0.27773]]\n",
      "Step #2000, ==> A = [[0.7977967]], b = [[4.782931]], Loss = [[0.18789074]]\n"
     ]
    }
   ],
   "source": [
    "loss_vector = []\n",
    "\n",
    "for i in range(2000):\n",
    "    rand_idx = np.random.choice(len(x_vals), size=batch_size)\n",
    "    rand_x = np.transpose([x_vals[rand_idx]])\n",
    "    rand_y = np.transpose([y_vals[rand_idx]])\n",
    "    session.run(train, feed_dict={x_data: rand_x, y_target: rand_y})\n",
    "    temp_loss = session.run(loss, feed_dict={x_data: rand_x, y_target: rand_y})\n",
    "    loss_vector.append(temp_loss[0])\n",
    "    if (i+1)%100 == 0:\n",
    "        print(\"Step #{}, ==> A = {}, b = {}, Loss = {}\".format(i+1, session.run(A), session.run(b), temp_loss))"
   ]
  },
  {
   "cell_type": "code",
   "execution_count": 50,
   "metadata": {},
   "outputs": [
    {
     "data": {
      "text/plain": [
       "[<matplotlib.lines.Line2D at 0x1a28dc2ba8>]"
      ]
     },
     "execution_count": 50,
     "metadata": {},
     "output_type": "execute_result"
    },
    {
     "data": {
      "image/png": "[encoded data removed]",
      "text/plain": [
       "<Figure size 432x288 with 1 Axes>"
      ]
     },
     "metadata": {
      "needs_background": "light"
     },
     "output_type": "display_data"
    }
   ],
   "source": [
    "plt.plot(loss_vector)"
   ]
  },
  {
   "cell_type": "code",
   "execution_count": 53,
   "metadata": {},
   "outputs": [
    {
     "name": "stdout",
     "output_type": "stream",
     "text": [
      "0.7977967x + 4.782931\n"
     ]
    }
   ],
   "source": [
    "[[slope]] = session.run(A)\n",
    "[[intercept]] = session.run(b)\n",
    "\n",
    "print(str(slope) + \"x + \" + str(intercept))"
   ]
  },
  {
   "cell_type": "code",
   "execution_count": 54,
   "metadata": {},
   "outputs": [],
   "source": [
    "best_fit = []\n",
    "\n",
    "for x in x_vals:\n",
    "    best_fit.append(slope*x + intercept)"
   ]
  },
  {
   "cell_type": "code",
   "execution_count": 57,
   "metadata": {},
   "outputs": [
    {
     "data": {
      "image/png": "[encoded data removed]",
      "text/plain": [
       "<Figure size 1008x576 with 1 Axes>"
      ]
     },
     "metadata": {
      "needs_background": "light"
     },
     "output_type": "display_data"
    }
   ],
   "source": [
    "plt.figure(figsize=(14,8))\n",
    "plt.plot(x_vals, y_vals, \"bo\", label=\"Datos\")\n",
    "plt.plot(x_vals, best_fit, \"r-\", label=\"Recta de regresión\", linewidth=3)\n",
    "plt.title(\"Regresión Lasso\")\n",
    "plt.legend(loc=\"upper left\")\n",
    "plt.show()"
   ]
  },
  {
   "cell_type": "markdown",
   "metadata": {},
   "source": [
    "### Ridge"
   ]
  },
  {
   "cell_type": "markdown",
   "metadata": {},
   "source": [
    "$$ \\sum\\frac{(y_r-y_p)^2}{n} + ridge_p \\cdot A^2 $$"
   ]
  },
  {
   "cell_type": "code",
   "execution_count": 68,
   "metadata": {},
   "outputs": [],
   "source": [
    "from tensorflow.python.framework import ops\n",
    "ops.reset_default_graph()\n",
    "session = tf.Session()"
   ]
  },
  {
   "cell_type": "code",
   "execution_count": 69,
   "metadata": {},
   "outputs": [],
   "source": [
    "batch_size = 50\n",
    "learning_rate = 0.001\n",
    "\n",
    "x_data = tf.placeholder(shape=[None, 1], dtype=tf.float32)\n",
    "y_target = tf.placeholder(shape=[None, 1], dtype=tf.float32)\n",
    "A = tf.Variable(tf.random_normal(shape=[1,1]))\n",
    "b = tf.Variable(tf.random_normal(shape=[1,1]))\n",
    "y_pred = tf.add(tf.matmul(x_data, A), b)\n",
    "\n",
    "ridge_param = tf.constant(1.0)\n",
    "ridge_loss = tf.reduce_mean(tf.square(A))\n",
    "loss = tf.expand_dims(tf.add(tf.reduce_mean(tf.square(y_target - y_pred)), tf.multiply(ridge_param, ridge_loss)),0)"
   ]
  },
  {
   "cell_type": "code",
   "execution_count": 70,
   "metadata": {},
   "outputs": [
    {
     "name": "stdout",
     "output_type": "stream",
     "text": [
      "Step #100, ==> A = [[1.567076]], b = [[1.4159297]], Loss = [8.999386]\n",
      "Step #200, ==> A = [[1.6810633]], b = [[1.8621708]], Loss = [7.3580713]\n",
      "Step #300, ==> A = [[1.6758159]], b = [[2.2220054]], Loss = [6.6907177]\n",
      "Step #400, ==> A = [[1.6197329]], b = [[2.5204244]], Loss = [4.9276667]\n",
      "Step #500, ==> A = [[1.5360444]], b = [[2.7795415]], Loss = [4.545514]\n",
      "Step #600, ==> A = [[1.4464004]], b = [[3.0098581]], Loss = [3.6301575]\n",
      "Step #700, ==> A = [[1.3575374]], b = [[3.221223]], Loss = [2.7829382]\n",
      "Step #800, ==> A = [[1.270972]], b = [[3.4108286]], Loss = [2.7237601]\n",
      "Step #900, ==> A = [[1.1935714]], b = [[3.5853345]], Loss = [2.375473]\n",
      "Step #1000, ==> A = [[1.1208693]], b = [[3.7435665]], Loss = [2.0240114]\n",
      "Step #1100, ==> A = [[1.0546294]], b = [[3.8879683]], Loss = [1.7673854]\n",
      "Step #1200, ==> A = [[0.99226934]], b = [[4.021989]], Loss = [1.4815072]\n",
      "Step #1300, ==> A = [[0.93462354]], b = [[4.140133]], Loss = [1.4403775]\n",
      "Step #1400, ==> A = [[0.8826615]], b = [[4.2505407]], Loss = [1.3159829]\n",
      "Step #1500, ==> A = [[0.83397955]], b = [[4.351447]], Loss = [1.2067547]\n",
      "Step #1600, ==> A = [[0.7906269]], b = [[4.4442964]], Loss = [1.0571856]\n",
      "Step #1700, ==> A = [[0.7533437]], b = [[4.5292892]], Loss = [0.9077649]\n",
      "Step #1800, ==> A = [[0.7185168]], b = [[4.6073804]], Loss = [0.82290435]\n",
      "Step #1900, ==> A = [[0.6825722]], b = [[4.677434]], Loss = [0.9618919]\n",
      "Step #2000, ==> A = [[0.6530889]], b = [[4.7445207]], Loss = [0.7228918]\n"
     ]
    }
   ],
   "source": [
    "init = tf.global_variables_initializer()\n",
    "session.run(init)\n",
    "\n",
    "optimizer = tf.train.GradientDescentOptimizer(learning_rate=learning_rate)\n",
    "train = optimizer.minimize(loss)\n",
    "\n",
    "loss_vector = []\n",
    "\n",
    "for i in range(2000):\n",
    "    rand_idx = np.random.choice(len(x_vals), size=batch_size)\n",
    "    rand_x = np.transpose([x_vals[rand_idx]])\n",
    "    rand_y = np.transpose([y_vals[rand_idx]])\n",
    "    session.run(train, feed_dict={x_data: rand_x, y_target: rand_y})\n",
    "    temp_loss = session.run(loss, feed_dict={x_data: rand_x, y_target: rand_y})\n",
    "    loss_vector.append(temp_loss[0])\n",
    "    if (i+1)%100 == 0:\n",
    "        print(\"Step #{}, ==> A = {}, b = {}, Loss = {}\".format(i+1, session.run(A), session.run(b), temp_loss))"
   ]
  },
  {
   "cell_type": "code",
   "execution_count": 71,
   "metadata": {},
   "outputs": [
    {
     "data": {
      "text/plain": [
       "[<matplotlib.lines.Line2D at 0x104f21898>]"
      ]
     },
     "execution_count": 71,
     "metadata": {},
     "output_type": "execute_result"
    },
    {
     "data": {
      "image/png": "[encoded data removed]",
      "text/plain": [
       "<Figure size 432x288 with 1 Axes>"
      ]
     },
     "metadata": {
      "needs_background": "light"
     },
     "output_type": "display_data"
    }
   ],
   "source": [
    "plt.plot(loss_vector)"
   ]
  },
  {
   "cell_type": "code",
   "execution_count": 72,
   "metadata": {},
   "outputs": [
    {
     "name": "stdout",
     "output_type": "stream",
     "text": [
      "0.6530889x + 4.7445207\n"
     ]
    }
   ],
   "source": [
    "[[slope]] = session.run(A)\n",
    "[[intercept]] = session.run(b)\n",
    "\n",
    "print(str(slope) + \"x + \" + str(intercept))\n",
    "\n",
    "best_fit = []\n",
    "\n",
    "for x in x_vals:\n",
    "    best_fit.append(slope*x + intercept)"
   ]
  },
  {
   "cell_type": "code",
   "execution_count": 74,
   "metadata": {},
   "outputs": [
    {
     "data": {
      "image/png": "[encoded data removed]",
      "text/plain": [
       "<Figure size 1008x576 with 1 Axes>"
      ]
     },
     "metadata": {
      "needs_background": "light"
     },
     "output_type": "display_data"
    }
   ],
   "source": [
    "plt.figure(figsize=(14,8))\n",
    "plt.plot(x_vals, y_vals, \"bo\", label=\"Datos\")\n",
    "plt.plot(x_vals, best_fit, \"r-\", label=\"Recta de regresión\", linewidth=3)\n",
    "plt.title(\"Regresión Ridge\")\n",
    "plt.legend(loc=\"upper left\")\n",
    "plt.show()"
   ]
  },
  {
   "cell_type": "code",
   "execution_count": null,
   "metadata": {},
   "outputs": [],
   "source": []
  }
 ],
 "metadata": {
  "kernelspec": {
   "display_name": "Python 3",
   "language": "python",
   "name": "python3"
  },
  "language_info": {
   "codemirror_mode": {
    "name": "ipython",
    "version": 3
   },
   "file_extension": ".py",
   "mimetype": "text/x-python",
   "name": "python",
   "nbconvert_exporter": "python",
   "pygments_lexer": "ipython3",
   "version": "3.6.8"
  }
 },
 "nbformat": 4,
 "nbformat_minor": 2
}
