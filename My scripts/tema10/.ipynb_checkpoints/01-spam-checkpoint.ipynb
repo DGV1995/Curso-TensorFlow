{
 "cells": [
  {
   "cell_type": "markdown",
   "metadata": {},
   "source": [
    "# Predecir spam con una RNN"
   ]
  },
  {
   "cell_type": "code",
   "execution_count": 1,
   "metadata": {},
   "outputs": [],
   "source": [
    "import pandas as pd\n",
    "import numpy as np\n",
    "import matplotlib.pyplot as plt\n",
    "import requests\n",
    "import os\n",
    "import tensorflow as tf\n",
    "from zipfile import ZipFile\n",
    "import io\n",
    "import re # Regular expression"
   ]
  },
  {
   "cell_type": "code",
   "execution_count": 2,
   "metadata": {},
   "outputs": [],
   "source": [
    "url = \"https://archive.ics.uci.edu/ml/machine-learning-databases/00228/smsspamcollection.zip\""
   ]
  },
  {
   "cell_type": "code",
   "execution_count": 3,
   "metadata": {},
   "outputs": [],
   "source": [
    "data_dir = \"../../sms_spam\"\n",
    "data_file = \"text_data.txt\"\n",
    "\n",
    "if not os.path.exists(data_dir):\n",
    "    os.makedirs(data_dir)\n",
    "    \n",
    "if not os.path.isfile(os.path.join(data_dir, data_file)):\n",
    "    # Hay que descargar fichero\n",
    "    r = requests.get(url)\n",
    "    z = ZipFile(io.BytesIO(r.content))\n",
    "    file = z.read(\"SMSSpamCollection\")\n",
    "    text_data = file.decode()\n",
    "    text_data = text_data.encode(\"ascii\", errors=\"ignore\")\n",
    "    text_data = text_data.decode().split(\"\\n\")\n",
    "    \n",
    "    with open(os.path.join(data_dir, data_file), \"w\") as text_file:\n",
    "        for text_line in text_data:\n",
    "            text_file.write(\"{}\\n\".format(text_line))\n",
    "            \n",
    "else:\n",
    "    # Ya existe fichero --> Se carga\n",
    "    text_data = []\n",
    "    with open(os.path.join(data_dir, data_file), \"r\") as text_file:\n",
    "        for text_line in text_file:\n",
    "            text_data.append(text_line)"
   ]
  },
  {
   "cell_type": "code",
   "execution_count": 4,
   "metadata": {},
   "outputs": [],
   "source": [
    "target = [x.split(\"\\t\")[0] for x in text_data if len(x) > 1]\n",
    "x_data = [x.split(\"\\t\")[1] for x in text_data if len(x) > 1]"
   ]
  },
  {
   "cell_type": "code",
   "execution_count": 5,
   "metadata": {},
   "outputs": [
    {
     "data": {
      "text/plain": [
       "'Go until jurong point, crazy.. Available only in bugis n great world la e buffet... Cine there got amore wat...\\n'"
      ]
     },
     "execution_count": 5,
     "metadata": {},
     "output_type": "execute_result"
    }
   ],
   "source": [
    "x_data[0]"
   ]
  },
  {
   "cell_type": "code",
   "execution_count": 6,
   "metadata": {},
   "outputs": [],
   "source": [
    "# Limpiar las frases con expresiones regulares\n",
    "def clean_text(text_string):\n",
    "    text_string = re.sub(r\"([^[\\s\\w]|_|[0-9]])+\", \"\", text_string)\n",
    "    text_string = \" \".join(text_string.split())\n",
    "    text_string = text_string.lower()\n",
    "    return text_string"
   ]
  },
  {
   "cell_type": "code",
   "execution_count": 7,
   "metadata": {},
   "outputs": [],
   "source": [
    "x_data = [clean_text(x) for x in x_data]"
   ]
  },
  {
   "cell_type": "code",
   "execution_count": 8,
   "metadata": {},
   "outputs": [
    {
     "data": {
      "text/plain": [
       "'go until jurong point crazy available only in bugis n great world la e buffet cine there got amore wat'"
      ]
     },
     "execution_count": 8,
     "metadata": {},
     "output_type": "execute_result"
    }
   ],
   "source": [
    "x_data[0]"
   ]
  },
  {
   "cell_type": "code",
   "execution_count": 9,
   "metadata": {},
   "outputs": [],
   "source": [
    "session = tf.Session()"
   ]
  },
  {
   "cell_type": "code",
   "execution_count": 10,
   "metadata": {},
   "outputs": [],
   "source": [
    "epochs = 20\n",
    "batch_size = 250\n",
    "max_sequence_lenght = 25 # 25 palabras por texto\n",
    "rnn_size = 10\n",
    "embedding_size = 50\n",
    "min_word_frequency = 10\n",
    "learning_rate = 0.0005\n",
    "dropout_keep_prob = tf.placeholder(tf.float32)"
   ]
  },
  {
   "cell_type": "code",
   "execution_count": 11,
   "metadata": {},
   "outputs": [
    {
     "name": "stdout",
     "output_type": "stream",
     "text": [
      "\n",
      "WARNING: The TensorFlow contrib module will not be included in TensorFlow 2.0.\n",
      "For more information, please see:\n",
      "  * https://github.com/tensorflow/community/blob/master/rfcs/20180907-contrib-sunset.md\n",
      "  * https://github.com/tensorflow/addons\n",
      "If you depend on functionality not listed there, please file an issue.\n",
      "\n",
      "WARNING:tensorflow:From <ipython-input-11-b1dd01a2ec6c>:2: VocabularyProcessor.__init__ (from tensorflow.contrib.learn.python.learn.preprocessing.text) is deprecated and will be removed in a future version.\n",
      "Instructions for updating:\n",
      "Please use tensorflow/transform or tf.data.\n",
      "WARNING:tensorflow:From /anaconda3/lib/python3.6/site-packages/tensorflow/contrib/learn/python/learn/preprocessing/text.py:154: CategoricalVocabulary.__init__ (from tensorflow.contrib.learn.python.learn.preprocessing.categorical_vocabulary) is deprecated and will be removed in a future version.\n",
      "Instructions for updating:\n",
      "Please use tensorflow/transform or tf.data.\n",
      "WARNING:tensorflow:From /anaconda3/lib/python3.6/site-packages/tensorflow/contrib/learn/python/learn/preprocessing/text.py:170: tokenizer (from tensorflow.contrib.learn.python.learn.preprocessing.text) is deprecated and will be removed in a future version.\n",
      "Instructions for updating:\n",
      "Please use tensorflow/transform or tf.data.\n"
     ]
    }
   ],
   "source": [
    "vocab_processor = tf.contrib.learn.preprocessing.VocabularyProcessor(max_sequence_lenght, \n",
    "                                                                     min_frequency=min_word_frequency)\n",
    "text_processed = np.array(list(vocab_processor.fit_transform(x_data)))"
   ]
  },
  {
   "cell_type": "code",
   "execution_count": 12,
   "metadata": {},
   "outputs": [
    {
     "data": {
      "text/plain": [
       "array([ 46, 459,   0, 832, 723, 684,  64,   9,   0,  89, 120, 372,   0,\n",
       "       155,   0,   0,  68,  58,   0, 138,   0,   0,   0,   0,   0])"
      ]
     },
     "execution_count": 12,
     "metadata": {},
     "output_type": "execute_result"
    }
   ],
   "source": [
    "text_processed[0] # Primera frase"
   ]
  },
  {
   "cell_type": "code",
   "execution_count": 13,
   "metadata": {},
   "outputs": [],
   "source": [
    "target = np.array([1 if x == \"ham\" else 0 for x in target])"
   ]
  },
  {
   "cell_type": "code",
   "execution_count": 14,
   "metadata": {},
   "outputs": [],
   "source": [
    "shuffle_ix = np.random.permutation(np.arange(len(target)))\n",
    "x_shuffled = text_processed[shuffle_ix]\n",
    "y_shuffled = target[shuffle_ix]"
   ]
  },
  {
   "cell_type": "code",
   "execution_count": 15,
   "metadata": {},
   "outputs": [],
   "source": [
    "ix_cuttoff = int(len(x_shuffled)*0.8)\n",
    "x_train, x_test = [x_shuffled[:ix_cuttoff], x_shuffled[ix_cuttoff:]]\n",
    "y_train, y_test = [y_shuffled[:ix_cuttoff], y_shuffled[ix_cuttoff:]]"
   ]
  },
  {
   "cell_type": "code",
   "execution_count": 16,
   "metadata": {},
   "outputs": [
    {
     "data": {
      "text/plain": [
       "954"
      ]
     },
     "execution_count": 16,
     "metadata": {},
     "output_type": "execute_result"
    }
   ],
   "source": [
    "vocabulary_size = len(vocab_processor.vocabulary_)\n",
    "vocabulary_size"
   ]
  },
  {
   "cell_type": "code",
   "execution_count": 17,
   "metadata": {},
   "outputs": [
    {
     "data": {
      "text/plain": [
       "((4459, 25), (4459,))"
      ]
     },
     "execution_count": 17,
     "metadata": {},
     "output_type": "execute_result"
    }
   ],
   "source": [
    "x_train.shape, y_train.shape"
   ]
  },
  {
   "cell_type": "markdown",
   "metadata": {},
   "source": [
    "### Crear RNN"
   ]
  },
  {
   "cell_type": "code",
   "execution_count": 18,
   "metadata": {},
   "outputs": [],
   "source": [
    "input_data = tf.placeholder(shape=[None, max_sequence_lenght], dtype=tf.int32)\n",
    "y_output = tf.placeholder(shape=[None], dtype=tf.int32)"
   ]
  },
  {
   "cell_type": "code",
   "execution_count": 19,
   "metadata": {},
   "outputs": [
    {
     "name": "stdout",
     "output_type": "stream",
     "text": [
      "WARNING:tensorflow:From /anaconda3/lib/python3.6/site-packages/tensorflow/python/framework/op_def_library.py:263: colocate_with (from tensorflow.python.framework.ops) is deprecated and will be removed in a future version.\n",
      "Instructions for updating:\n",
      "Colocations handled automatically by placer.\n"
     ]
    }
   ],
   "source": [
    "embedding_matrix = tf.Variable(tf.random_uniform(shape=[vocabulary_size, embedding_size], minval=-1.0, maxval=1.0))\n",
    "embedding_output = tf.nn.embedding_lookup(params=embedding_matrix, ids=input_data)"
   ]
  },
  {
   "cell_type": "code",
   "execution_count": 20,
   "metadata": {},
   "outputs": [
    {
     "name": "stdout",
     "output_type": "stream",
     "text": [
      "WARNING:tensorflow:From <ipython-input-20-5d4bf5046e09>:1: BasicRNNCell.__init__ (from tensorflow.python.ops.rnn_cell_impl) is deprecated and will be removed in a future version.\n",
      "Instructions for updating:\n",
      "This class is equivalent as tf.keras.layers.SimpleRNNCell, and will be replaced by that in Tensorflow 2.0.\n",
      "WARNING:tensorflow:From <ipython-input-20-5d4bf5046e09>:2: dynamic_rnn (from tensorflow.python.ops.rnn) is deprecated and will be removed in a future version.\n",
      "Instructions for updating:\n",
      "Please use `keras.layers.RNN(cell)`, which is equivalent to this API\n",
      "WARNING:tensorflow:From <ipython-input-20-5d4bf5046e09>:3: calling dropout (from tensorflow.python.ops.nn_ops) with keep_prob is deprecated and will be removed in a future version.\n",
      "Instructions for updating:\n",
      "Please use `rate` instead of `keep_prob`. Rate should be set to `rate = 1 - keep_prob`.\n"
     ]
    }
   ],
   "source": [
    "cell = tf.nn.rnn_cell.BasicRNNCell(num_units=rnn_size)\n",
    "output, state = tf.nn.dynamic_rnn(cell=cell, inputs=embedding_output, dtype=tf.float32)\n",
    "output = tf.nn.dropout(x=output, keep_prob=dropout_keep_prob)"
   ]
  },
  {
   "cell_type": "code",
   "execution_count": 21,
   "metadata": {},
   "outputs": [],
   "source": [
    "output = tf.transpose(output, [1,0,2]) # Una columna, ninguna fila y dos valores de profundidad(ham o spam)\n",
    "last = tf.gather(params=output, indices=int(output.get_shape()[0])-1)"
   ]
  },
  {
   "cell_type": "code",
   "execution_count": 22,
   "metadata": {},
   "outputs": [],
   "source": [
    "# Añadir una red neuronal totalmente conectada después de la RNN\n",
    "weight = tf.Variable(tf.truncated_normal(shape=[rnn_size, 2], stddev=0.1))\n",
    "bias = tf.Variable(tf.constant(value=0.1, shape=[2]))\n",
    "logits = tf.nn.softmax(tf.add(tf.matmul(last, weight), bias))"
   ]
  },
  {
   "cell_type": "code",
   "execution_count": 23,
   "metadata": {},
   "outputs": [],
   "source": [
    "loss = tf.reduce_mean(tf.nn.sparse_softmax_cross_entropy_with_logits(logits=logits, labels=y_output))"
   ]
  },
  {
   "cell_type": "code",
   "execution_count": 24,
   "metadata": {},
   "outputs": [],
   "source": [
    "prediction = tf.argmax(logits, axis=1)\n",
    "accuracy = tf.reduce_mean(tf.cast(tf.equal(tf.cast(y_output, tf.int64), prediction), tf.float32))"
   ]
  },
  {
   "cell_type": "code",
   "execution_count": 25,
   "metadata": {},
   "outputs": [
    {
     "name": "stdout",
     "output_type": "stream",
     "text": [
      "WARNING:tensorflow:From /anaconda3/lib/python3.6/site-packages/tensorflow/python/ops/array_grad.py:425: to_int32 (from tensorflow.python.ops.math_ops) is deprecated and will be removed in a future version.\n",
      "Instructions for updating:\n",
      "Use tf.cast instead.\n"
     ]
    },
    {
     "name": "stderr",
     "output_type": "stream",
     "text": [
      "/anaconda3/lib/python3.6/site-packages/tensorflow/python/ops/gradients_impl.py:110: UserWarning: Converting sparse IndexedSlices to a dense Tensor of unknown shape. This may consume a large amount of memory.\n",
      "  \"Converting sparse IndexedSlices to a dense Tensor of unknown shape. \"\n"
     ]
    }
   ],
   "source": [
    "train = tf.train.RMSPropOptimizer(learning_rate).minimize(loss)"
   ]
  },
  {
   "cell_type": "code",
   "execution_count": 26,
   "metadata": {},
   "outputs": [],
   "source": [
    "init = tf.global_variables_initializer()\n",
    "session.run(init)"
   ]
  },
  {
   "cell_type": "markdown",
   "metadata": {},
   "source": [
    "### Entrenar y evaluar"
   ]
  },
  {
   "cell_type": "code",
   "execution_count": 27,
   "metadata": {},
   "outputs": [
    {
     "name": "stdout",
     "output_type": "stream",
     "text": [
      "Epoch 18 completado, Loss: 0.731, Acc: 0.177\n",
      "Epoch 18 completado, Loss: 0.721, Acc: 0.176\n",
      "Epoch 18 completado, Loss: 0.706, Acc: 0.179\n",
      "Epoch 18 completado, Loss: 0.683, Acc: 0.813\n",
      "Epoch 18 completado, Loss: 0.655, Acc: 0.818\n",
      "Epoch 18 completado, Loss: 0.624, Acc: 0.821\n",
      "Epoch 18 completado, Loss: 0.596, Acc: 0.824\n",
      "Epoch 18 completado, Loss: 0.573, Acc: 0.830\n",
      "Epoch 18 completado, Loss: 0.554, Acc: 0.831\n",
      "Epoch 18 completado, Loss: 0.538, Acc: 0.835\n",
      "Epoch 18 completado, Loss: 0.525, Acc: 0.839\n",
      "Epoch 18 completado, Loss: 0.515, Acc: 0.842\n",
      "Epoch 18 completado, Loss: 0.506, Acc: 0.843\n",
      "Epoch 18 completado, Loss: 0.499, Acc: 0.842\n",
      "Epoch 18 completado, Loss: 0.492, Acc: 0.845\n",
      "Epoch 18 completado, Loss: 0.487, Acc: 0.844\n",
      "Epoch 18 completado, Loss: 0.482, Acc: 0.846\n",
      "Epoch 18 completado, Loss: 0.479, Acc: 0.847\n",
      "Epoch 18 completado, Loss: 0.476, Acc: 0.847\n",
      "Epoch 18 completado, Loss: 0.473, Acc: 0.847\n"
     ]
    }
   ],
   "source": [
    "train_loss = []\n",
    "test_loss = []\n",
    "train_acc = []\n",
    "test_acc = []\n",
    "\n",
    "for epoch in range(epochs):\n",
    "    shuffle_ix = np.random.permutation(np.arange(len(x_train)))\n",
    "    x_train = x_train[shuffle_ix]\n",
    "    y_train = y_train[shuffle_ix]\n",
    "    num_batches = int(len(x_train)/batch_size)+1\n",
    "    \n",
    "    for i in range(num_batches):\n",
    "        min_ix = i * batch_size\n",
    "        max_ix = np.min([len(x_train), ((i+1)*batch_size)])\n",
    "        x_train_batch = x_train[min_ix:max_ix]\n",
    "        y_train_batch = y_train[min_ix:max_ix]\n",
    "        \n",
    "        train_dict = {input_data: x_train_batch, y_output: y_train_batch, dropout_keep_prob:0.5}\n",
    "        session.run(train, feed_dict=train_dict)\n",
    "    \n",
    "    temp_train_loss, temp_train_acc = session.run([loss, accuracy], feed_dict=train_dict)\n",
    "    train_loss.append(temp_train_loss)\n",
    "    train_acc.append(temp_train_acc)\n",
    "    \n",
    "    test_dict = {input_data: x_test, y_output:y_test, dropout_keep_prob:1.0}\n",
    "    temp_test_loss, temp_test_acc = session.run([loss, accuracy], feed_dict=test_dict)\n",
    "    test_loss.append(temp_test_loss)\n",
    "    test_acc.append(temp_test_acc)\n",
    "    print(\"Epoch {} completado, Loss: {:.3f}, Acc: {:.3f}\".format(i+1, temp_test_loss, temp_test_acc))"
   ]
  },
  {
   "cell_type": "code",
   "execution_count": 29,
   "metadata": {},
   "outputs": [
    {
     "data": {
      "image/png": "[encoded data removed]",
      "text/plain": [
       "<Figure size 432x288 with 1 Axes>"
      ]
     },
     "metadata": {
      "needs_background": "light"
     },
     "output_type": "display_data"
    }
   ],
   "source": [
    "plt.plot(train_loss, \"b\", label=\"Entrenamiento\")\n",
    "plt.plot(test_loss, \"r--\", label=\"Test\")\n",
    "plt.title(\"Función de pérdidas\")\n",
    "plt.xlabel(\"Epoch\")\n",
    "plt.ylabel(\"Pérdidas\")\n",
    "plt.legend(loc=\"upper right\")\n",
    "plt.show()"
   ]
  },
  {
   "cell_type": "code",
   "execution_count": 31,
   "metadata": {},
   "outputs": [
    {
     "data": {
      "image/png": "[encoded data removed]",
      "text/plain": [
       "<Figure size 432x288 with 1 Axes>"
      ]
     },
     "metadata": {
      "needs_background": "light"
     },
     "output_type": "display_data"
    }
   ],
   "source": [
    "plt.plot(train_acc, \"b\", label=\"Entrenamiento\")\n",
    "plt.plot(test_acc, \"r--\", label=\"Test\")\n",
    "plt.title(\"Función de precisión\")\n",
    "plt.xlabel(\"Epoch\")\n",
    "plt.ylabel(\"Precisión\")\n",
    "plt.legend(loc=\"lower right\")\n",
    "plt.show()"
   ]
  },
  {
   "cell_type": "markdown",
   "metadata": {},
   "source": [
    "### Mismo ejemplo, con Keras"
   ]
  },
  {
   "cell_type": "code",
   "execution_count": 18,
   "metadata": {},
   "outputs": [
    {
     "name": "stderr",
     "output_type": "stream",
     "text": [
      "Using TensorFlow backend.\n"
     ]
    }
   ],
   "source": [
    "from keras.models import Sequential\n",
    "from keras.layers import Dense, Embedding, GRU, Dropout\n",
    "from keras.optimizers import RMSprop"
   ]
  },
  {
   "cell_type": "code",
   "execution_count": 19,
   "metadata": {},
   "outputs": [
    {
     "name": "stdout",
     "output_type": "stream",
     "text": [
      "WARNING:tensorflow:From /anaconda3/lib/python3.6/site-packages/tensorflow/python/framework/op_def_library.py:263: colocate_with (from tensorflow.python.framework.ops) is deprecated and will be removed in a future version.\n",
      "Instructions for updating:\n",
      "Colocations handled automatically by placer.\n",
      "WARNING:tensorflow:From /anaconda3/lib/python3.6/site-packages/keras/backend/tensorflow_backend.py:3445: calling dropout (from tensorflow.python.ops.nn_ops) with keep_prob is deprecated and will be removed in a future version.\n",
      "Instructions for updating:\n",
      "Please use `rate` instead of `keep_prob`. Rate should be set to `rate = 1 - keep_prob`.\n"
     ]
    }
   ],
   "source": [
    "rnn = Sequential()\n",
    "\n",
    "rnn.add(Embedding(input_dim=vocabulary_size, output_dim=embedding_size))\n",
    "\n",
    "rnn.add(GRU(units=rnn_size))\n",
    "\n",
    "rnn.add(Dropout(rate=0.5))\n",
    "\n",
    "rnn.add(Dense(units=1, activation=\"sigmoid\"))"
   ]
  },
  {
   "cell_type": "code",
   "execution_count": 20,
   "metadata": {},
   "outputs": [],
   "source": [
    "rnn.compile(loss=\"binary_crossentropy\", optimizer=RMSprop(0.0005), metrics=[\"accuracy\"])"
   ]
  },
  {
   "cell_type": "code",
   "execution_count": 21,
   "metadata": {},
   "outputs": [
    {
     "name": "stdout",
     "output_type": "stream",
     "text": [
      "WARNING:tensorflow:From /anaconda3/lib/python3.6/site-packages/tensorflow/python/ops/math_ops.py:3066: to_int32 (from tensorflow.python.ops.math_ops) is deprecated and will be removed in a future version.\n",
      "Instructions for updating:\n",
      "Use tf.cast instead.\n",
      "Train on 4459 samples, validate on 400 samples\n",
      "Epoch 1/20\n",
      "4459/4459 [==============================] - 1s 265us/step - loss: 0.6574 - acc: 0.8457 - val_loss: 0.6360 - val_acc: 0.8325\n",
      "Epoch 2/20\n",
      "4459/4459 [==============================] - 0s 85us/step - loss: 0.6080 - acc: 0.8733 - val_loss: 0.5913 - val_acc: 0.8325\n",
      "Epoch 3/20\n",
      "4459/4459 [==============================] - 0s 84us/step - loss: 0.5576 - acc: 0.8731 - val_loss: 0.5427 - val_acc: 0.8350\n",
      "Epoch 4/20\n",
      "4459/4459 [==============================] - 0s 85us/step - loss: 0.5047 - acc: 0.8742 - val_loss: 0.4936 - val_acc: 0.8350\n",
      "Epoch 5/20\n",
      "4459/4459 [==============================] - 0s 84us/step - loss: 0.4526 - acc: 0.8749 - val_loss: 0.4492 - val_acc: 0.8350\n",
      "Epoch 6/20\n",
      "4459/4459 [==============================] - 0s 86us/step - loss: 0.4107 - acc: 0.8758 - val_loss: 0.4149 - val_acc: 0.8375\n",
      "Epoch 7/20\n",
      "4459/4459 [==============================] - 0s 85us/step - loss: 0.3738 - acc: 0.8760 - val_loss: 0.3929 - val_acc: 0.8400\n",
      "Epoch 8/20\n",
      "4459/4459 [==============================] - 0s 83us/step - loss: 0.3503 - acc: 0.8793 - val_loss: 0.3798 - val_acc: 0.8425\n",
      "Epoch 9/20\n",
      "4459/4459 [==============================] - 0s 86us/step - loss: 0.3347 - acc: 0.8825 - val_loss: 0.3707 - val_acc: 0.8450\n",
      "Epoch 10/20\n",
      "4459/4459 [==============================] - 0s 85us/step - loss: 0.3175 - acc: 0.8870 - val_loss: 0.3612 - val_acc: 0.8500\n",
      "Epoch 11/20\n",
      "4459/4459 [==============================] - 0s 84us/step - loss: 0.3014 - acc: 0.8906 - val_loss: 0.3504 - val_acc: 0.8525\n",
      "Epoch 12/20\n",
      "4459/4459 [==============================] - 0s 87us/step - loss: 0.2925 - acc: 0.8980 - val_loss: 0.3336 - val_acc: 0.8575\n",
      "Epoch 13/20\n",
      "4459/4459 [==============================] - 0s 93us/step - loss: 0.2759 - acc: 0.9049 - val_loss: 0.3149 - val_acc: 0.8600\n",
      "Epoch 14/20\n",
      "4459/4459 [==============================] - 0s 87us/step - loss: 0.2620 - acc: 0.9132 - val_loss: 0.2940 - val_acc: 0.8700\n",
      "Epoch 15/20\n",
      "4459/4459 [==============================] - 0s 92us/step - loss: 0.2465 - acc: 0.9231 - val_loss: 0.2673 - val_acc: 0.8825\n",
      "Epoch 16/20\n",
      "4459/4459 [==============================] - 0s 84us/step - loss: 0.2183 - acc: 0.9312 - val_loss: 0.2406 - val_acc: 0.8950\n",
      "Epoch 17/20\n",
      "4459/4459 [==============================] - 0s 91us/step - loss: 0.1943 - acc: 0.9417 - val_loss: 0.2073 - val_acc: 0.9250\n",
      "Epoch 18/20\n",
      "4459/4459 [==============================] - 0s 86us/step - loss: 0.1712 - acc: 0.9542 - val_loss: 0.1776 - val_acc: 0.9450\n",
      "Epoch 19/20\n",
      "4459/4459 [==============================] - 0s 89us/step - loss: 0.1530 - acc: 0.9657 - val_loss: 0.1554 - val_acc: 0.9525\n",
      "Epoch 20/20\n",
      "4459/4459 [==============================] - 0s 91us/step - loss: 0.1351 - acc: 0.9715 - val_loss: 0.1379 - val_acc: 0.9650\n"
     ]
    }
   ],
   "source": [
    "train = rnn.fit(x_train, \n",
    "                y_train, \n",
    "                batch_size=batch_size,\n",
    "                epochs=epochs, \n",
    "                validation_data=(x_test[:400,], y_test[:400,]))"
   ]
  },
  {
   "cell_type": "code",
   "execution_count": 22,
   "metadata": {},
   "outputs": [
    {
     "name": "stdout",
     "output_type": "stream",
     "text": [
      "Evaluation Loss: 0.13593445787114414, Evaluation Accuracy: 0.9632286995515695\n"
     ]
    }
   ],
   "source": [
    "loss_val, loss_acc = rnn.evaluate(x_test, y_test, verbose=0)\n",
    "print(\"Evaluation Loss: {}, Evaluation Accuracy: {}\".format(loss_val, loss_acc))"
   ]
  },
  {
   "cell_type": "code",
   "execution_count": 23,
   "metadata": {},
   "outputs": [
    {
     "data": {
      "image/png": "[encoded data removed]",
      "text/plain": [
       "<Figure size 432x288 with 1 Axes>"
      ]
     },
     "metadata": {
      "needs_background": "light"
     },
     "output_type": "display_data"
    }
   ],
   "source": [
    "plt.plot(train.history[\"loss\"], \"b\", label=\"Entrenamiento\")\n",
    "plt.plot(train.history[\"val_loss\"], \"r--\", label=\"Test\")\n",
    "plt.title(\"Función de pérdidas\")\n",
    "plt.xlabel(\"Epoch\")\n",
    "plt.ylabel(\"Pérdidas\")\n",
    "plt.legend(loc=\"upper right\")\n",
    "plt.show()"
   ]
  },
  {
   "cell_type": "code",
   "execution_count": 24,
   "metadata": {},
   "outputs": [
    {
     "data": {
      "image/png": "[encoded data removed]",
      "text/plain": [
       "<Figure size 432x288 with 1 Axes>"
      ]
     },
     "metadata": {
      "needs_background": "light"
     },
     "output_type": "display_data"
    }
   ],
   "source": [
    "plt.plot(train.history[\"acc\"], \"b\", label=\"Entrenamiento\")\n",
    "plt.plot(train.history[\"val_acc\"], \"r--\", label=\"Test\")\n",
    "plt.xlabel(\"Epoch\")\n",
    "plt.ylabel(\"Precisión\")\n",
    "plt.legend(loc=\"upper right\")\n",
    "plt.show()"
   ]
  },
  {
   "cell_type": "code",
   "execution_count": 25,
   "metadata": {},
   "outputs": [
    {
     "data": {
      "text/plain": [
       "array([[1],\n",
       "       [1],\n",
       "       [1],\n",
       "       ...,\n",
       "       [1],\n",
       "       [1],\n",
       "       [1]], dtype=int32)"
      ]
     },
     "execution_count": 25,
     "metadata": {},
     "output_type": "execute_result"
    }
   ],
   "source": [
    "predictions = rnn.predict_classes(x_test)\n",
    "predictions"
   ]
  },
  {
   "cell_type": "code",
   "execution_count": 26,
   "metadata": {},
   "outputs": [],
   "source": [
    "from sklearn.metrics import confusion_matrix\n",
    "import seaborn as sns"
   ]
  },
  {
   "cell_type": "code",
   "execution_count": 28,
   "metadata": {},
   "outputs": [
    {
     "data": {
      "text/plain": [
       "<matplotlib.axes._subplots.AxesSubplot at 0x1c31b2f6d8>"
      ]
     },
     "execution_count": 28,
     "metadata": {},
     "output_type": "execute_result"
    },
    {
     "data": {
      "image/png": "[encoded data removed]",
      "text/plain": [
       "<Figure size 432x288 with 2 Axes>"
      ]
     },
     "metadata": {
      "needs_background": "light"
     },
     "output_type": "display_data"
    }
   ],
   "source": [
    "cm = confusion_matrix(y_test, predictions)\n",
    "sns.heatmap(cm, annot=True, fmt=\"g\")"
   ]
  },
  {
   "cell_type": "code",
   "execution_count": null,
   "metadata": {},
   "outputs": [],
   "source": []
  }
 ],
 "metadata": {
  "kernelspec": {
   "display_name": "Python 3",
   "language": "python",
   "name": "python3"
  },
  "language_info": {
   "codemirror_mode": {
    "name": "ipython",
    "version": 3
   },
   "file_extension": ".py",
   "mimetype": "text/x-python",
   "name": "python",
   "nbconvert_exporter": "python",
   "pygments_lexer": "ipython3",
   "version": "3.6.8"
  }
 },
 "nbformat": 4,
 "nbformat_minor": 2
}
